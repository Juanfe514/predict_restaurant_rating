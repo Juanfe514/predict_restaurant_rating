{
 "cells": [
  {
   "cell_type": "code",
   "execution_count": 1,
   "metadata": {},
   "outputs": [],
   "source": [
    "#Pkg.add(\"LowRankModels\")\n",
    "#Pkg.add(\"Plots\")\n",
    "#Pkg.update()"
   ]
  },
  {
   "cell_type": "code",
   "execution_count": 2,
   "metadata": {},
   "outputs": [],
   "source": [
    "using Convex\n",
    "using ECOS\n",
    "set_default_solver(ECOSSolver(verbose=0))\n",
    "using DataFrames\n",
    "#using ScikitLearn\n",
    "#using ScikitLearn.CrossValidation: train_test_split"
   ]
  },
  {
   "cell_type": "code",
   "execution_count": 3,
   "metadata": {},
   "outputs": [],
   "source": [
    "using Plots"
   ]
  },
  {
   "cell_type": "markdown",
   "metadata": {},
   "source": [
    "### Reading data"
   ]
  },
  {
   "cell_type": "code",
   "execution_count": 4,
   "metadata": {},
   "outputs": [],
   "source": [
    "data = readtable(\"C:/Users/dbcar/Desktop/MessyData Project/FinalDataSet/Train1.csv\");\n",
    "data2 = readtable(\"C:/Users/dbcar/Desktop/MessyData Project/FinalDataSet/Train2.csv\");"
   ]
  },
  {
   "cell_type": "code",
   "execution_count": 5,
   "metadata": {},
   "outputs": [],
   "source": [
    "n = size(data,1)\n",
    "y = data[:GRADE].data\n",
    "\n",
    "X1 = [data[:FOOD].data data[:SERVICE].data data[:VALUE].data ones(n)]\n",
    "X2 = [data[:VALUE].data  data[:SERVICE].data  data[:FOOD].data  data[:NUMBER_OF_FOODS].data  data[:Lunch].data  data[:Dinner].data  data[:LateNight].data  data[:Breakfast].data  data[:Brunch].data  data[:Drinks].data  data[:Businessmeetings].data  data[:Romantic].data  data[:Specialoccasions].data  data[:Largegroups].data  data[:Familieswithchildren].data  data[:Kids].data  data[:Barscene].data  data[:Localcuisine].data  data[:Scenicview].data  data[:Reservations].data  data[:PrivateDining].data  data[:WheelchairAccessible].data  data[:ServesAlcohol].data  data[:Takeout].data  data[:Television].data  data[:FreeWifi].data  data[:Delivery].data  data[:AcceptsCreditCards].data  data[:OutdoorSeating].data  data[:Buffet].data  data[:ParkingAvailable].data  data[:Chelsea].data  data[:Midtown].data  data[:FlatironDistrict].data  data[:FinancialDistrict].data  data[:Harlem].data  data[:Manhattan].data  data[:GramercyPark].data  data[:GreenwichVillage].data  data[:Nolita].data  data[:TriBeCa].data  data[:Chinatown].data  data[:EastVillage].data  data[:UpperWestSide].data  data[:LowerEastSide].data  data[:UpperEastSide].data  data[:WestVillage].data  data[:SoHo].data  data[:LittleItaly].data ones(n)]\n",
    "X3 = [data[:VALUE].data  data[:SERVICE].data  data[:FOOD].data  data[:NUMBER_OF_FOODS].data  data[:Lunch].data  data[:Dinner].data  data[:LateNight].data  data[:Breakfast].data  data[:Brunch].data  data[:Drinks].data  data[:Businessmeetings].data  data[:Romantic].data  data[:Specialoccasions].data  data[:Largegroups].data  data[:Familieswithchildren].data  data[:Kids].data  data[:Barscene].data  data[:Localcuisine].data  data[:Scenicview].data  data[:Reservations].data  data[:PrivateDining].data  data[:WheelchairAccessible].data  data[:ServesAlcohol].data  data[:Takeout].data  data[:Television].data  data[:FreeWifi].data  data[:Delivery].data  data[:AcceptsCreditCards].data  data[:OutdoorSeating].data  data[:Buffet].data  data[:ParkingAvailable].data  data[:Chelsea].data  data[:Midtown].data  data[:FlatironDistrict].data  data[:FinancialDistrict].data  data[:Harlem].data  data[:Manhattan].data  data[:GramercyPark].data  data[:GreenwichVillage].data  data[:Nolita].data  data[:TriBeCa].data  data[:Chinatown].data  data[:EastVillage].data  data[:UpperWestSide].data  data[:LowerEastSide].data  data[:UpperEastSide].data  data[:WestVillage].data  data[:SoHo].data  data[:LittleItaly].data  data[:Great].data  data[:Good].data  data[:Delicious].data  data[:Nice].data  data[:Service].data  data[:Wait].data  data[:TOPIC_1].data  data[:TOPIC_2].data  data[:TOPIC_3].data  data[:TOPIC_4].data  data[:TOPIC_5].data  data[:TOPIC_6].data  data[:TOPIC_7].data  data[:TOPIC_8].data  data[:TOPIC_9].data  data[:TOPIC_10].data  data[:TOPIC_11].data  data[:TOPIC_12].data  data[:TOPIC_13].data  data[:TOPIC_14].data  data[:TOPIC_15].data  data[:TOPIC_16].data  data[:TOPIC_17].data  data[:TOPIC_18].data  data[:TOPIC_19].data  data[:TOPIC_20].data  data[:TOPIC_21].data  data[:TOPIC_22].data  data[:TOPIC_23].data  data[:TOPIC_24].data  data[:TOPIC_25].data  data[:TOPIC_26].data  data[:TOPIC_27].data  data[:TOPIC_28].data  data[:TOPIC_29].data  data[:TOPIC_30].data  data[:CLUSTER_KMEANS].data ones(n)]\n",
    "X4 = [data[:NUMBER_OF_FOODS].data  data[:Lunch].data  data[:Dinner].data  data[:LateNight].data  data[:Breakfast].data  data[:Brunch].data  data[:Drinks].data  data[:Businessmeetings].data  data[:Romantic].data  data[:Specialoccasions].data  data[:Largegroups].data  data[:Familieswithchildren].data  data[:Kids].data  data[:Barscene].data  data[:Localcuisine].data  data[:Scenicview].data  data[:Reservations].data  data[:PrivateDining].data  data[:WheelchairAccessible].data  data[:ServesAlcohol].data  data[:Takeout].data  data[:Television].data  data[:FreeWifi].data  data[:Delivery].data  data[:AcceptsCreditCards].data  data[:OutdoorSeating].data  data[:Buffet].data  data[:ParkingAvailable].data  data[:Chelsea].data  data[:Midtown].data  data[:FlatironDistrict].data  data[:FinancialDistrict].data  data[:Harlem].data  data[:Manhattan].data  data[:GramercyPark].data  data[:GreenwichVillage].data  data[:Nolita].data  data[:TriBeCa].data  data[:Chinatown].data  data[:EastVillage].data  data[:UpperWestSide].data  data[:LowerEastSide].data  data[:UpperEastSide].data  data[:WestVillage].data  data[:SoHo].data  data[:LittleItaly].data  data[:Great].data  data[:Good].data  data[:Delicious].data  data[:Nice].data  data[:Service].data  data[:Wait].data  data[:TOPIC_1].data  data[:TOPIC_2].data  data[:TOPIC_3].data  data[:TOPIC_4].data  data[:TOPIC_5].data  data[:TOPIC_6].data  data[:TOPIC_7].data  data[:TOPIC_8].data  data[:TOPIC_9].data  data[:TOPIC_10].data  data[:TOPIC_11].data  data[:TOPIC_12].data  data[:TOPIC_13].data  data[:TOPIC_14].data  data[:TOPIC_15].data  data[:TOPIC_16].data  data[:TOPIC_17].data  data[:TOPIC_18].data  data[:TOPIC_19].data  data[:TOPIC_20].data  data[:TOPIC_21].data  data[:TOPIC_22].data  data[:TOPIC_23].data  data[:TOPIC_24].data  data[:TOPIC_25].data  data[:TOPIC_26].data  data[:TOPIC_27].data  data[:TOPIC_28].data  data[:TOPIC_29].data  data[:TOPIC_30].data  data[:CLUSTER_KMEANS].data ones(n)];"
   ]
  },
  {
   "cell_type": "code",
   "execution_count": 6,
   "metadata": {},
   "outputs": [],
   "source": [
    "#Cross validation on train2\n",
    "n2 = size(data2,1)\n",
    "y2 = data2[:GRADE].data;"
   ]
  },
  {
   "cell_type": "code",
   "execution_count": 7,
   "metadata": {},
   "outputs": [],
   "source": [
    "Xt1 = [data2[:FOOD].data data2[:SERVICE].data data2[:VALUE].data ones(n2)] \n",
    "Xt2 = [data2[:VALUE].data  data2[:SERVICE].data  data2[:FOOD].data  data2[:NUMBER_OF_FOODS].data  data2[:Lunch].data  data2[:Dinner].data  data2[:LateNight].data  data2[:Breakfast].data  data2[:Brunch].data  data2[:Drinks].data  data2[:Businessmeetings].data  data2[:Romantic].data  data2[:Specialoccasions].data  data2[:Largegroups].data  data2[:Familieswithchildren].data  data2[:Kids].data  data2[:Barscene].data  data2[:Localcuisine].data  data2[:Scenicview].data  data2[:Reservations].data  data2[:PrivateDining].data  data2[:WheelchairAccessible].data  data2[:ServesAlcohol].data  data2[:Takeout].data  data2[:Television].data  data2[:FreeWifi].data  data2[:Delivery].data  data2[:AcceptsCreditCards].data  data2[:OutdoorSeating].data  data2[:Buffet].data  data2[:ParkingAvailable].data  data2[:Chelsea].data  data2[:Midtown].data  data2[:FlatironDistrict].data  data2[:FinancialDistrict].data  data2[:Harlem].data  data2[:Manhattan].data  data2[:GramercyPark].data  data2[:GreenwichVillage].data  data2[:Nolita].data  data2[:TriBeCa].data  data2[:Chinatown].data  data2[:EastVillage].data  data2[:UpperWestSide].data  data2[:LowerEastSide].data  data2[:UpperEastSide].data  data2[:WestVillage].data  data2[:SoHo].data  data2[:LittleItaly].data ones(n2)] \n",
    "Xt3 = [data2[:VALUE].data  data2[:SERVICE].data  data2[:FOOD].data  data2[:NUMBER_OF_FOODS].data  data2[:Lunch].data  data2[:Dinner].data  data2[:LateNight].data  data2[:Breakfast].data  data2[:Brunch].data  data2[:Drinks].data  data2[:Businessmeetings].data  data2[:Romantic].data  data2[:Specialoccasions].data  data2[:Largegroups].data  data2[:Familieswithchildren].data  data2[:Kids].data  data2[:Barscene].data  data2[:Localcuisine].data  data2[:Scenicview].data  data2[:Reservations].data  data2[:PrivateDining].data  data2[:WheelchairAccessible].data  data2[:ServesAlcohol].data  data2[:Takeout].data  data2[:Television].data  data2[:FreeWifi].data  data2[:Delivery].data  data2[:AcceptsCreditCards].data  data2[:OutdoorSeating].data  data2[:Buffet].data  data2[:ParkingAvailable].data  data2[:Chelsea].data  data2[:Midtown].data  data2[:FlatironDistrict].data  data2[:FinancialDistrict].data  data2[:Harlem].data  data2[:Manhattan].data  data2[:GramercyPark].data  data2[:GreenwichVillage].data  data2[:Nolita].data  data2[:TriBeCa].data  data2[:Chinatown].data  data2[:EastVillage].data  data2[:UpperWestSide].data  data2[:LowerEastSide].data  data2[:UpperEastSide].data  data2[:WestVillage].data  data2[:SoHo].data  data2[:LittleItaly].data  data2[:Great].data  data2[:Good].data  data2[:Delicious].data  data2[:Nice].data  data2[:Service].data  data2[:Wait].data  data2[:TOPIC_1].data  data2[:TOPIC_2].data  data2[:TOPIC_3].data  data2[:TOPIC_4].data  data2[:TOPIC_5].data  data2[:TOPIC_6].data  data2[:TOPIC_7].data  data2[:TOPIC_8].data  data2[:TOPIC_9].data  data2[:TOPIC_10].data  data2[:TOPIC_11].data  data2[:TOPIC_12].data  data2[:TOPIC_13].data  data2[:TOPIC_14].data  data2[:TOPIC_15].data  data2[:TOPIC_16].data  data2[:TOPIC_17].data  data2[:TOPIC_18].data  data2[:TOPIC_19].data  data2[:TOPIC_20].data  data2[:TOPIC_21].data  data2[:TOPIC_22].data  data2[:TOPIC_23].data  data2[:TOPIC_24].data  data2[:TOPIC_25].data  data2[:TOPIC_26].data  data2[:TOPIC_27].data  data2[:TOPIC_28].data  data2[:TOPIC_29].data  data2[:TOPIC_30].data  data2[:CLUSTER_KMEANS].data ones(n2)] \n",
    "Xt4 = [data2[:NUMBER_OF_FOODS].data  data2[:Lunch].data  data2[:Dinner].data  data2[:LateNight].data  data2[:Breakfast].data  data2[:Brunch].data  data2[:Drinks].data  data2[:Businessmeetings].data  data2[:Romantic].data  data2[:Specialoccasions].data  data2[:Largegroups].data  data2[:Familieswithchildren].data  data2[:Kids].data  data2[:Barscene].data  data2[:Localcuisine].data  data2[:Scenicview].data  data2[:Reservations].data  data2[:PrivateDining].data  data2[:WheelchairAccessible].data  data2[:ServesAlcohol].data  data2[:Takeout].data  data2[:Television].data  data2[:FreeWifi].data  data2[:Delivery].data  data2[:AcceptsCreditCards].data  data2[:OutdoorSeating].data  data2[:Buffet].data  data2[:ParkingAvailable].data  data2[:Chelsea].data  data2[:Midtown].data  data2[:FlatironDistrict].data  data2[:FinancialDistrict].data  data2[:Harlem].data  data2[:Manhattan].data  data2[:GramercyPark].data  data2[:GreenwichVillage].data  data2[:Nolita].data  data2[:TriBeCa].data  data2[:Chinatown].data  data2[:EastVillage].data  data2[:UpperWestSide].data  data2[:LowerEastSide].data  data2[:UpperEastSide].data  data2[:WestVillage].data  data2[:SoHo].data  data2[:LittleItaly].data  data2[:Great].data  data2[:Good].data  data2[:Delicious].data  data2[:Nice].data  data2[:Service].data  data2[:Wait].data  data2[:TOPIC_1].data  data2[:TOPIC_2].data  data2[:TOPIC_3].data  data2[:TOPIC_4].data  data2[:TOPIC_5].data  data2[:TOPIC_6].data  data2[:TOPIC_7].data  data2[:TOPIC_8].data  data2[:TOPIC_9].data  data2[:TOPIC_10].data  data2[:TOPIC_11].data  data2[:TOPIC_12].data  data2[:TOPIC_13].data  data2[:TOPIC_14].data  data2[:TOPIC_15].data  data2[:TOPIC_16].data  data2[:TOPIC_17].data  data2[:TOPIC_18].data  data2[:TOPIC_19].data  data2[:TOPIC_20].data  data2[:TOPIC_21].data  data2[:TOPIC_22].data  data2[:TOPIC_23].data  data2[:TOPIC_24].data  data2[:TOPIC_25].data  data2[:TOPIC_26].data  data2[:TOPIC_27].data  data2[:TOPIC_28].data  data2[:TOPIC_29].data  data2[:TOPIC_30].data  data2[:CLUSTER_KMEANS].data ones(n2)];\n"
   ]
  },
  {
   "cell_type": "code",
   "execution_count": 38,
   "metadata": {},
   "outputs": [],
   "source": [
    "#X_comb=[X1,X2,X3,X4];\n",
    "#X_comb2=[Xt1,Xt2,Xt3,Xt4];\n",
    "X_comb=[X3];\n",
    "X_comb2=[Xt3];"
   ]
  },
  {
   "cell_type": "markdown",
   "metadata": {},
   "source": [
    "### Models and cross-validation"
   ]
  },
  {
   "cell_type": "markdown",
   "metadata": {},
   "source": [
    "### Base Line"
   ]
  },
  {
   "cell_type": "code",
   "execution_count": 9,
   "metadata": {},
   "outputs": [
    {
     "data": {
      "text/plain": [
       "3.564010263995097"
      ]
     },
     "execution_count": 9,
     "metadata": {},
     "output_type": "execute_result"
    }
   ],
   "source": [
    "wbase=mean(y)"
   ]
  },
  {
   "cell_type": "code",
   "execution_count": 10,
   "metadata": {},
   "outputs": [
    {
     "data": {
      "text/plain": [
       "1.0185706977497329"
      ]
     },
     "execution_count": 10,
     "metadata": {},
     "output_type": "execute_result"
    }
   ],
   "source": [
    "mse_base=sum((y.-wbase).^2)/length(y)"
   ]
  },
  {
   "cell_type": "code",
   "execution_count": null,
   "metadata": {},
   "outputs": [],
   "source": []
  },
  {
   "cell_type": "markdown",
   "metadata": {},
   "source": [
    "### Quadratic loss - no regularization"
   ]
  },
  {
   "cell_type": "code",
   "execution_count": 11,
   "metadata": {},
   "outputs": [],
   "source": [
    "# Fitting models\n",
    "a=1\n",
    "error_quad_test=[]\n",
    "\n",
    "for x in X_comb\n",
    "    w1=x\\y\n",
    "    error1=sum((y2.-X_comb2[a]*w1).^2)/length(y2)\n",
    "    w2=X_comb2[a]\\y2\n",
    "    error2=sum((y.-x*w2).^2)/length(y)\n",
    "        \n",
    "    push!(error_quad_test,mean([error1,error2]))\n",
    "    a=a+1\n",
    "        \n",
    "end"
   ]
  },
  {
   "cell_type": "code",
   "execution_count": 12,
   "metadata": {},
   "outputs": [
    {
     "data": {
      "text/plain": [
       "0.9888484608272321"
      ]
     },
     "execution_count": 12,
     "metadata": {},
     "output_type": "execute_result"
    }
   ],
   "source": [
    "mse_quad=minimum(error_quad_test)"
   ]
  },
  {
   "cell_type": "markdown",
   "metadata": {},
   "source": [
    "### l1 loss no regularization"
   ]
  },
  {
   "cell_type": "code",
   "execution_count": 13,
   "metadata": {},
   "outputs": [
    {
     "name": "stderr",
     "output_type": "stream",
     "text": [
      "WARNING: Method definition (::Type{ArrayViews.UnsafeContiguousView{T, "
     ]
    }
   ],
   "source": [
    "# proximal gradient method\n",
    "include(\"proxgrad.jl\");"
   ]
  },
  {
   "cell_type": "code",
   "execution_count": 14,
   "metadata": {},
   "outputs": [
    {
     "name": "stderr",
     "output_type": "stream",
     "text": [
      "N} where N where T})(Ptr{T}, Int64, Tuple{Vararg{Int64"
     ]
    }
   ],
   "source": [
    "a=1\n",
    "error_l1loss_test=[]\n",
    "\n",
    "for x in X_comb\n",
    "    w1 = proxgrad(1/n*L1Loss(), ZeroReg(), x, y,maxiters=5000)\n",
    "    error1=sum((y2.-X_comb2[a]*w1).^2)/length(y2)\n",
    "    w2 = proxgrad(1/n2*L1Loss(), ZeroReg(), X_comb2[a], y2,maxiters=5000)\n",
    "    error2=sum((y.-x*w2).^2)/length(y)\n",
    "    \n",
    "    push!(error_l1loss_test,mean([error2,error1]))\n",
    "    a=a+1 \n",
    "    \n",
    "end"
   ]
  },
  {
   "cell_type": "code",
   "execution_count": 15,
   "metadata": {},
   "outputs": [
    {
     "name": "stderr",
     "output_type": "stream",
     "text": [
      ", N}}) in module ArrayViews"
     ]
    },
    {
     "data": {
      "text/plain": [
       "0.9639893105501438"
      ]
     },
     "execution_count": 15,
     "metadata": {},
     "output_type": "execute_result"
    }
   ],
   "source": [
    "mse_l1loss=minimum(error_l1loss_test)"
   ]
  },
  {
   "cell_type": "markdown",
   "metadata": {},
   "source": [
    "#### Ridge regression (Quadratic loss + quadratic regularizer)"
   ]
  },
  {
   "cell_type": "code",
   "execution_count": 16,
   "metadata": {},
   "outputs": [
    {
     "name": "stderr",
     "output_type": "stream",
     "text": [
      " at C:\\Users\\dbcar\\AppData\\Local\\JuliaPro-0.6.1.1\\pkgs-0.6.1.1\\v0.6\\ArrayViews\\src\\arrviews.jl:18 overwritten"
     ]
    },
    {
     "data": {
      "text/plain": [
       "ridge_regression (generic function with 1 method)"
      ]
     },
     "execution_count": 16,
     "metadata": {},
     "output_type": "execute_result"
    }
   ],
   "source": [
    "function ridge_regression(X,y; λ=1)\n",
    "    d = size(X,2)\n",
    "    w = Variable(d)\n",
    "    p = minimize(sumsquares(X*w - y) + λ*sumsquares(w))\n",
    "    solve!(p)\n",
    "    return w.value\n",
    "end"
   ]
  },
  {
   "cell_type": "code",
   "execution_count": 17,
   "metadata": {},
   "outputs": [
    {
     "name": "stderr",
     "output_type": "stream",
     "text": [
      " at C:\\Users\\dbcar\\AppData\\Local\\JuliaPro-0.6.1.1\\pkgs-0.6.1.1\\v0.6\\ArrayViews\\src\\arrviews.jl:26.\n",
      "WARNING: Method definition isnan(DataArrays.NAtype) in module DataArrays at C:\\\\\\\\\\\\\\\\\\\\\\\\\\\\\\\\\\\\\\\\\\\\\\\\\\\\\\\\\\\\\\\\\\\\\\\\\\\\\\\\\\\\\\\\\\\\\\\\\\\\\\\\\\\\\\Users\\dbcar\\AppData\\Local\\JuliaPro-0.6.1.1\\pkgs-0.6.1.1\\v0.6\\DataArrays\\src\\natype.jl:66 overwritten in module LowRankModels at C:\\Users\\dbcar\\AppData\\Local\\JuliaPro-0.6.1.1\\pkgs-0.6.1.1\\v0.6\\LowRankModels\\src\\fit_dataframe.jl:249.\n",
      "\u001b[1m\u001b[33mWARNING: \u001b[39m\u001b[22m\u001b[33mArray(::Type{T}, m::Int) where T is deprecated, use Array{T}(m) instead.\u001b[39m\n",
      "Stacktrace:\n",
      " [1] \u001b[1mdepwarn\u001b[22m\u001b[22m\u001b[1m(\u001b[22m\u001b[22m::String, ::Symbol\u001b[1m)\u001b[22m\u001b[22m at \u001b[1m.\\deprecated.jl:70\u001b[22m\u001b[22m\n",
      " [2] \u001b[1mArray\u001b[22m\u001b[22m\u001b[1m(\u001b[22m\u001b[22m::Type{Convex.ConicConstr}, ::Int64\u001b[1m)\u001b[22m\u001b[22m at \u001b[1m.\\deprecated.jl:57\u001b[22m\u001b[22m\n",
      " [3] \u001b[1mconic_form!\u001b[22m\u001b[22m\u001b[1m(\u001b[22m\u001b[22m::Convex.SOCElemConstraint, ::Convex.UniqueConicForms\u001b[1m)\u001b[22m\u001b[22m at \u001b[1mC:\\Users\\dbcar\\AppData\\Local\\JuliaPro-0.6.1.1\\pkgs-0.6.1.1\\v0.6\\Convex\\src\\constraints\\soc_constraints.jl:50\u001b[22m\u001b[22m\n",
      " [4] \u001b[1mconic_form!\u001b[22m\u001b[22m\u001b[1m(\u001b[22m\u001b[22m::Convex.QolElemAtom, ::Convex.UniqueConicForms\u001b[1m)\u001b[22m\u001b[22m at \u001b[1mC:\\Users\\dbcar\\AppData\\Local\\JuliaPro-0.6.1.1\\pkgs-0.6.1.1\\v0.6\\Convex\\src\\atoms/second_order_cone\\qol_elementwise.jl:41\u001b[22m\u001b[22m\n",
      " [5] \u001b[1mconic_form!\u001b[22m\u001b[22m\u001b[1m(\u001b[22m\u001b[22m::Convex.AdditionAtom, ::Convex.UniqueConicForms\u001b[1m)\u001b[22m\u001b[22m at \u001b[1mC:\\Users\\dbcar\\AppData\\Local\\JuliaPro-0.6.1.1\\pkgs-0.6.1.1\\v0.6\\Convex\\src\\atoms/affine\\add_subtract.jl:108\u001b[22m\u001b[22m\n",
      " [6] \u001b[1mconic_form!\u001b[22m\u001b[22m\u001b[1m(\u001b[22m\u001b[22m::Convex.EqConstraint, ::Convex.UniqueConicForms\u001b[1m)\u001b[22m\u001b[22m at \u001b[1mC:\\Users\\dbcar\\AppData\\Local\\JuliaPro-0.6.1.1\\pkgs-0.6.1.1\\v0.6\\Convex\\src\\constraints\\constraints.jl:43\u001b[22m\u001b[22m\n",
      " [7] \u001b[1mconic_form!\u001b[22m\u001b[22m\u001b[1m(\u001b[22m\u001b[22m::Convex.Problem, ::Convex.UniqueConicForms\u001b[1m)\u001b[22m\u001b[22m at \u001b[1mC:\\Users\\dbcar\\AppData\\Local\\JuliaPro-0.6.1.1\\pkgs-0.6.1.1\\v0.6\\Convex\\src\\problems.jl:99\u001b[22m\u001b[22m\n",
      " [8] \u001b[1mconic_problem\u001b[22m\u001b[22m\u001b[1m(\u001b[22m\u001b[22m::Convex.Problem\u001b[1m)\u001b[22m\u001b[22m at \u001b[1mC:\\Users\\dbcar\\AppData\\Local\\JuliaPro-0.6.1.1\\pkgs-0.6.1.1\\v0.6\\Convex\\src\\problems.jl:124\u001b[22m\u001b[22m\n",
      " [9] \u001b[1m#solve!#25\u001b[22m\u001b[22m\u001b[1m(\u001b[22m\u001b[22m::Bool, ::Bool, ::Bool, ::Function, ::Convex.Problem\u001b[1m)\u001b[22m\u001b[22m at \u001b[1mC:\\Users\\dbcar\\AppData\\Local\\JuliaPro-0.6.1.1\\pkgs-0.6.1.1\\v0.6\\Convex\\src\\solution.jl:25\u001b[22m\u001b[22m\n",
      " [10] \u001b[1m#ridge_regression#15\u001b[22m\u001b[22m\u001b[1m(\u001b[22m\u001b[22m::Float64, ::Function, ::Array{Float64,2}, ::Array{Float64,1}\u001b[1m)\u001b[22m\u001b[22m at \u001b[1m.\\In[16]:5\u001b[22m\u001b[22m\n",
      " [11] \u001b[1m(::#kw##ridge_regression)\u001b[22m\u001b[22m\u001b[1m(\u001b[22m\u001b[22m::Array{Any,1}, ::#ridge_regression, ::Array{Float64,2}, ::Array{Float64,1}\u001b[1m)\u001b[22m\u001b[22m at \u001b[1m.\\<missing>:0\u001b[22m\u001b[22m\n",
      " [12] \u001b[1mmacro expansion\u001b[22m\u001b[22m at \u001b[1m.\\In[17]:11\u001b[22m\u001b[22m [inlined]\n",
      " [13] \u001b[1manonymous\u001b[22m\u001b[22m at \u001b[1m.\\<missing>:?\u001b[22m\u001b[22m\n",
      " [14] \u001b[1minclude_string\u001b[22m\u001b[22m\u001b[1m(\u001b[22m\u001b[22m::String, ::String\u001b[1m)\u001b[22m\u001b[22m at \u001b[1m.\\loading.jl:522\u001b[22m\u001b[22m\n",
      " [15] \u001b[1minclude_string\u001b[22m\u001b[22m\u001b[1m(\u001b[22m\u001b[22m::Module, ::String, ::String\u001b[1m)\u001b[22m\u001b[22m at \u001b[1mC:\\\\\\\\\\\\\\\\\\\\\\\\\\\\\\\\\\\\\\\\\\\\\\\\\\\\\\\\\\\\\\\\\\\\\\\\\\\\\\\\\\\\\\\\\\\\\\\\\\\\\\\\\\\\\\Users\\dbcar\\AppData\\Local\\JuliaPro-0.6.1.1\\pkgs-0.6.1.1\\v0.6\\Compat\\src\\Compat.jl:464\u001b[22m\u001b[22m\n",
      " [16] \u001b[1mexecute_request\u001b[22m\u001b[22m\u001b[1m(\u001b[22m\u001b[22m::ZMQ.Socket, ::IJulia.Msg\u001b[1m)\u001b[22m\u001b[22m at \u001b[1mC:\\Users\\dbcar\\AppData\\Local\\JuliaPro-0.6.1.1\\pkgs-0.6.1.1\\v0.6\\IJulia\\src\\execute_request.jl:154\u001b[22m\u001b[22m\n",
      " [17] \u001b[1meventloop\u001b[22m\u001b[22m\u001b[1m(\u001b[22m\u001b[22m::ZMQ.Socket\u001b[1m)\u001b[22m\u001b[22m at \u001b[1mC:\\Users\\dbcar\\AppData\\Local\\JuliaPro-0.6.1.1\\pkgs-0.6.1.1\\v0.6\\IJulia\\src\\eventloop.jl:8\u001b[22m\u001b[22m\n",
      " [18] \u001b[1m(::IJulia.##14#17)\u001b[22m\u001b[22m\u001b[1m(\u001b[22m\u001b[22m\u001b[1m)\u001b[22m\u001b[22m at \u001b[1m.\\task.jl:335\u001b[22m\u001b[22m\n",
      "while loading In[17], in expression starting on line 7\n",
      "\u001b[1m\u001b[33mWARNING: \u001b[39m\u001b[22m\u001b[33misnan(x::AbstractArray{T}) where T <: Number is deprecated, use isnan.(x) instead.\u001b[39m\n",
      "Stacktrace:\n",
      " [1] \u001b[1mdepwarn\u001b[22m\u001b[22m\u001b[1m(\u001b[22m\u001b[22m::String, ::Symbol\u001b[1m)\u001b[22m\u001b[22m at \u001b[1m.\\deprecated.jl:70\u001b[22m\u001b[22m\n",
      " [2] \u001b[1misnan\u001b[22m\u001b[22m\u001b[1m(\u001b[22m\u001b[22m::Array{Float64,1}\u001b[1m)\u001b[22m\u001b[22m at \u001b[1m.\\deprecated.jl:57\u001b[22m\u001b[22m\n",
      " [3] \u001b[1mpopulate_solution!\u001b[22m\u001b[22m\u001b[1m(\u001b[22m\u001b[22m::ECOS.ECOSMathProgModel, ::Convex.Problem, ::Dict{UInt64,Tuple{Int64,Int64}}, ::Array{Convex.ConicConstr,1}\u001b[1m)\u001b[22m\u001b[22m at \u001b[1mC:\\Users\\dbcar\\AppData\\Local\\JuliaPro-0.6.1.1\\pkgs-0.6.1.1\\v0.6\\Convex\\src\\solution.jl:118\u001b[22m\u001b[22m\n",
      " [4] \u001b[1m#solve!#25\u001b[22m\u001b[22m\u001b[1m(\u001b[22m\u001b[22m::Bool, ::Bool, ::Bool, ::Function, ::Convex.Problem\u001b[1m)\u001b[22m\u001b[22m at \u001b[1mC:\\Users\\dbcar\\AppData\\Local\\JuliaPro-0.6.1.1\\pkgs-0.6.1.1\\v0.6\\Convex\\src\\solution.jl:38\u001b[22m\u001b[22m\n",
      " [5] \u001b[1m#ridge_regression#15\u001b[22m\u001b[22m\u001b[1m(\u001b[22m\u001b[22m::Float64, ::Function, ::Array{Float64,2}, ::Array{Float64,1}\u001b[1m)\u001b[22m\u001b[22m at \u001b[1m.\\In[16]:5\u001b[22m\u001b[22m\n",
      " [6] \u001b[1m(::#kw##ridge_regression)\u001b[22m\u001b[22m\u001b[1m(\u001b[22m\u001b[22m::Array{Any,1}, ::#ridge_regression, ::Array{Float64,2}, ::Array{Float64,1}\u001b[1m)\u001b[22m\u001b[22m at \u001b[1m.\\<missing>:0\u001b[22m\u001b[22m\n",
      " [7] \u001b[1mmacro expansion\u001b[22m\u001b[22m at \u001b[1m.\\In[17]:11\u001b[22m\u001b[22m [inlined]\n",
      " [8] \u001b[1manonymous\u001b[22m\u001b[22m at \u001b[1m.\\<missing>:?\u001b[22m\u001b[22m\n",
      " [9] \u001b[1minclude_string\u001b[22m\u001b[22m\u001b[1m(\u001b[22m\u001b[22m::String, ::String\u001b[1m)\u001b[22m\u001b[22m at \u001b[1m.\\loading.jl:522\u001b[22m\u001b[22m\n",
      " [10] \u001b[1minclude_string\u001b[22m\u001b[22m\u001b[1m(\u001b[22m\u001b[22m::Module, ::String, ::String\u001b[1m)\u001b[22m\u001b[22m at \u001b[1mC:\\\\\\\\\\\\\\\\\\\\\\\\\\\\\\\\\\\\\\\\\\\\\\\\\\\\\\\\\\\\\\\\\\\\\\\\\\\\\\\\\\\\\\\\\\\\\\\\\\\\\\\\\\\\\\Users\\dbcar\\AppData\\Local\\JuliaPro-0.6.1.1\\pkgs-0.6.1.1\\v0.6\\Compat\\src\\Compat.jl:464\u001b[22m\u001b[22m\n",
      " [11] \u001b[1mexecute_request\u001b[22m\u001b[22m\u001b[1m(\u001b[22m\u001b[22m::ZMQ.Socket, ::IJulia.Msg\u001b[1m)\u001b[22m\u001b[22m at \u001b[1mC:\\Users\\dbcar\\AppData\\Local\\JuliaPro-0.6.1.1\\pkgs-0.6.1.1\\v0.6\\IJulia\\src\\execute_request.jl:154\u001b[22m\u001b[22m\n",
      " [12] \u001b[1meventloop\u001b[22m\u001b[22m\u001b[1m(\u001b[22m\u001b[22m::ZMQ.Socket\u001b[1m)\u001b[22m\u001b[22m at \u001b[1mC:\\Users\\dbcar\\AppData\\Local\\JuliaPro-0.6.1.1\\pkgs-0.6.1.1\\v0.6\\IJulia\\src\\eventloop.jl:8\u001b[22m\u001b[22m\n",
      " [13] \u001b[1m(::IJulia.##14#17)\u001b[22m\u001b[22m\u001b[1m(\u001b[22m\u001b[22m\u001b[1m)\u001b[22m\u001b[22m at \u001b[1m.\\task.jl:335\u001b[22m\u001b[22m\n",
      "while loading In[17], in expression starting on line 7\n",
      "\u001b[1m\u001b[33mWARNING: \u001b[39m\u001b[22m\u001b[33mProblem status Suboptimal; solution may be inaccurate.\u001b[39m\n",
      "\u001b[1m\u001b[33mWARNING: \u001b[39m\u001b[22m\u001b[33mProblem status Suboptimal; solution may be inaccurate.\u001b[39m\n",
      "\u001b[1m\u001b[33mWARNING: \u001b[39m\u001b[22m\u001b[33mProblem status Suboptimal; solution may be inaccurate.\u001b[39m\n",
      "\u001b[1m\u001b[33mWARNING: \u001b[39m\u001b[22m\u001b[33mProblem status Suboptimal; solution may be inaccurate.\u001b[39m\n",
      "\u001b[1m\u001b[33mWARNING: \u001b[39m\u001b[22m\u001b[33mProblem status Suboptimal; solution may be inaccurate.\u001b[39m\n",
      "\u001b[1m\u001b[33mWARNING: \u001b[39m\u001b[22m\u001b[33mProblem status Suboptimal; solution may be inaccurate.\u001b[39m\n",
      "\u001b[1m\u001b[33mWARNING: \u001b[39m\u001b[22m\u001b[33mProblem status Suboptimal; solution may be inaccurate.\u001b[39m\n",
      "\u001b[1m\u001b[33mWARNING: \u001b[39m\u001b[22m\u001b[33mProblem status Suboptimal; solution may be inaccurate.\u001b[39m\n",
      "\u001b[1m\u001b[33mWARNING: \u001b[39m\u001b[22m\u001b[33mProblem status Suboptimal; solution may be inaccurate.\u001b[39m\n",
      "\u001b[1m\u001b[33mWARNING: \u001b[39m\u001b[22m\u001b[33mProblem status Suboptimal; solution may be inaccurate.\u001b[39m\n",
      "\u001b[1m\u001b[33mWARNING: \u001b[39m\u001b[22m\u001b[33mProblem status Suboptimal; solution may be inaccurate.\u001b[39m\n"
     ]
    }
   ],
   "source": [
    "# Fitting models\n",
    "a=1\n",
    "error_ridge_test=[]\n",
    "la=[]\n",
    "model=[]\n",
    "\n",
    "for x in X_comb\n",
    "    \n",
    "    for l in 0.1:0.2:5\n",
    "        #Fitting the model\n",
    "        w1 = ridge_regression(x,y,λ=l);\n",
    "        error1=sum((y2.-X_comb2[a]*w1).^2)/length(y2)\n",
    "        w2 = ridge_regression(X_comb2[a],y2,λ=l);\n",
    "        error2=sum((y.-x*w2).^2)/length(y)      \n",
    "        \n",
    "        push!(error_ridge_test,mean([error2,error1]))\n",
    "        push!(la,l)\n",
    "        push!(model,a)\n",
    "    end\n",
    "    a=a+1\n",
    "end\n"
   ]
  },
  {
   "cell_type": "code",
   "execution_count": 18,
   "metadata": {},
   "outputs": [
    {
     "data": {
      "text/plain": [
       "4.9"
      ]
     },
     "execution_count": 18,
     "metadata": {},
     "output_type": "execute_result"
    }
   ],
   "source": [
    "la[indmin(error_ridge_test)]"
   ]
  },
  {
   "cell_type": "code",
   "execution_count": 19,
   "metadata": {},
   "outputs": [
    {
     "data": {
      "text/plain": [
       "1"
      ]
     },
     "execution_count": 19,
     "metadata": {},
     "output_type": "execute_result"
    }
   ],
   "source": [
    "model[indmin(error_ridge_test)]"
   ]
  },
  {
   "cell_type": "code",
   "execution_count": 20,
   "metadata": {},
   "outputs": [
    {
     "data": {
      "text/plain": [
       "0.9159877750157115"
      ]
     },
     "execution_count": 20,
     "metadata": {},
     "output_type": "execute_result"
    }
   ],
   "source": [
    "mse_ridge=minimum(error_ridge_test)"
   ]
  },
  {
   "cell_type": "code",
   "execution_count": null,
   "metadata": {},
   "outputs": [],
   "source": []
  },
  {
   "cell_type": "markdown",
   "metadata": {},
   "source": [
    "#### Quadratic + lasso regularizer"
   ]
  },
  {
   "cell_type": "code",
   "execution_count": 21,
   "metadata": {},
   "outputs": [
    {
     "data": {
      "text/plain": [
       "lasso (generic function with 1 method)"
      ]
     },
     "execution_count": 21,
     "metadata": {},
     "output_type": "execute_result"
    }
   ],
   "source": [
    "function lasso(X,y; λ=1)\n",
    "    d = size(X,2)\n",
    "    w = Variable(d)\n",
    "    p = minimize(sumsquares(X*w - y) + λ*norm(w,1))\n",
    "    solve!(p)\n",
    "    return w.value\n",
    "end"
   ]
  },
  {
   "cell_type": "code",
   "execution_count": 68,
   "metadata": {},
   "outputs": [
    {
     "name": "stderr",
     "output_type": "stream",
     "text": [
      "\u001b[1m\u001b[33mWARNING: \u001b[39m\u001b[22m\u001b[33mArray(::Type{T}, m::Int) where T is deprecated, use Array{T}(m) instead.\u001b[39m\n",
      "Stacktrace:\n",
      " [1] \u001b[1mdepwarn\u001b[22m\u001b[22m\u001b[1m(\u001b[22m\u001b[22m::String, ::Symbol\u001b[1m)\u001b[22m\u001b[22m at \u001b[1m.\\deprecated.jl:70\u001b[22m\u001b[22m\n",
      " [2] \u001b[1mArray\u001b[22m\u001b[22m\u001b[1m(\u001b[22m\u001b[22m::Type{Convex.ConicConstr}, ::Int64\u001b[1m)\u001b[22m\u001b[22m at \u001b[1m.\\deprecated.jl:57\u001b[22m\u001b[22m\n",
      " [3] \u001b[1mconic_form!\u001b[22m\u001b[22m\u001b[1m(\u001b[22m\u001b[22m::Convex.SOCElemConstraint, ::Convex.UniqueConicForms\u001b[1m)\u001b[22m\u001b[22m at \u001b[1mC:\\Users\\dbcar\\AppData\\Local\\JuliaPro-0.6.1.1\\pkgs-0.6.1.1\\v0.6\\Convex\\src\\constraints\\soc_constraints.jl:50\u001b[22m\u001b[22m\n",
      " [4] \u001b[1mconic_form!\u001b[22m\u001b[22m\u001b[1m(\u001b[22m\u001b[22m::Convex.QolElemAtom, ::Convex.UniqueConicForms\u001b[1m)\u001b[22m\u001b[22m at \u001b[1mC:\\Users\\dbcar\\AppData\\Local\\JuliaPro-0.6.1.1\\pkgs-0.6.1.1\\v0.6\\Convex\\src\\atoms/second_order_cone\\qol_elementwise.jl:41\u001b[22m\u001b[22m\n",
      " [5] \u001b[1mconic_form!\u001b[22m\u001b[22m\u001b[1m(\u001b[22m\u001b[22m::Convex.AdditionAtom, ::Convex.UniqueConicForms\u001b[1m)\u001b[22m\u001b[22m at \u001b[1mC:\\Users\\dbcar\\AppData\\Local\\JuliaPro-0.6.1.1\\pkgs-0.6.1.1\\v0.6\\Convex\\src\\atoms/affine\\add_subtract.jl:108\u001b[22m\u001b[22m\n",
      " [6] \u001b[1mconic_form!\u001b[22m\u001b[22m\u001b[1m(\u001b[22m\u001b[22m::Convex.EqConstraint, ::Convex.UniqueConicForms\u001b[1m)\u001b[22m\u001b[22m at \u001b[1mC:\\Users\\dbcar\\AppData\\Local\\JuliaPro-0.6.1.1\\pkgs-0.6.1.1\\v0.6\\Convex\\src\\constraints\\constraints.jl:43\u001b[22m\u001b[22m\n",
      " [7] \u001b[1mconic_form!\u001b[22m\u001b[22m\u001b[1m(\u001b[22m\u001b[22m::Convex.Problem, ::Convex.UniqueConicForms\u001b[1m)\u001b[22m\u001b[22m at \u001b[1mC:\\Users\\dbcar\\AppData\\Local\\JuliaPro-0.6.1.1\\pkgs-0.6.1.1\\v0.6\\Convex\\src\\problems.jl:99\u001b[22m\u001b[22m\n",
      " [8] \u001b[1mconic_problem\u001b[22m\u001b[22m\u001b[1m(\u001b[22m\u001b[22m::Convex.Problem\u001b[1m)\u001b[22m\u001b[22m at \u001b[1mC:\\Users\\dbcar\\AppData\\Local\\JuliaPro-0.6.1.1\\pkgs-0.6.1.1\\v0.6\\Convex\\src\\problems.jl:124\u001b[22m\u001b[22m\n",
      " [9] \u001b[1m#solve!#25\u001b[22m\u001b[22m\u001b[1m(\u001b[22m\u001b[22m::Bool, ::Bool, ::Bool, ::Function, ::Convex.Problem\u001b[1m)\u001b[22m\u001b[22m at \u001b[1mC:\\Users\\dbcar\\AppData\\Local\\JuliaPro-0.6.1.1\\pkgs-0.6.1.1\\v0.6\\Convex\\src\\solution.jl:25\u001b[22m\u001b[22m\n",
      " [10] \u001b[1m#lasso#20\u001b[22m\u001b[22m\u001b[1m(\u001b[22m\u001b[22m::Float64, ::Function, ::Array{Float64,2}, ::Array{Float64,1}\u001b[1m)\u001b[22m\u001b[22m at \u001b[1m.\\In[21]:5\u001b[22m\u001b[22m\n",
      " [11] \u001b[1m(::#kw##lasso)\u001b[22m\u001b[22m\u001b[1m(\u001b[22m\u001b[22m::Array{Any,1}, ::#lasso, ::Array{Float64,2}, ::Array{Float64,1}\u001b[1m)\u001b[22m\u001b[22m at \u001b[1m.\\<missing>:0\u001b[22m\u001b[22m\n",
      " [12] \u001b[1mmacro expansion\u001b[22m\u001b[22m at \u001b[1m.\\In[68]:10\u001b[22m\u001b[22m [inlined]\n",
      " [13] \u001b[1manonymous\u001b[22m\u001b[22m at \u001b[1m.\\<missing>:?\u001b[22m\u001b[22m\n",
      " [14] \u001b[1minclude_string\u001b[22m\u001b[22m\u001b[1m(\u001b[22m\u001b[22m::String, ::String\u001b[1m)\u001b[22m\u001b[22m at \u001b[1m.\\loading.jl:522\u001b[22m\u001b[22m\n",
      " [15] \u001b[1minclude_string\u001b[22m\u001b[22m\u001b[1m(\u001b[22m\u001b[22m::Module, ::String, ::String\u001b[1m)\u001b[22m\u001b[22m at \u001b[1mC:\\\\\\\\\\\\\\\\\\\\\\\\\\\\\\\\\\\\\\\\\\\\\\\\\\\\\\\\\\\\\\\\\\\\\\\\\\\\\\\\\\\\\\\\\\\\\\\\\\\\\\\\\\\\\\Users\\dbcar\\AppData\\Local\\JuliaPro-0.6.1.1\\pkgs-0.6.1.1\\v0.6\\Compat\\src\\Compat.jl:464\u001b[22m\u001b[22m\n",
      " [16] \u001b[1mexecute_request\u001b[22m\u001b[22m\u001b[1m(\u001b[22m\u001b[22m::ZMQ.Socket, ::IJulia.Msg\u001b[1m)\u001b[22m\u001b[22m at \u001b[1mC:\\Users\\dbcar\\AppData\\Local\\JuliaPro-0.6.1.1\\pkgs-0.6.1.1\\v0.6\\IJulia\\src\\execute_request.jl:154\u001b[22m\u001b[22m\n",
      " [17] \u001b[1meventloop\u001b[22m\u001b[22m\u001b[1m(\u001b[22m\u001b[22m::ZMQ.Socket\u001b[1m)\u001b[22m\u001b[22m at \u001b[1mC:\\Users\\dbcar\\AppData\\Local\\JuliaPro-0.6.1.1\\pkgs-0.6.1.1\\v0.6\\IJulia\\src\\eventloop.jl:8\u001b[22m\u001b[22m\n",
      " [18] \u001b[1m(::IJulia.##14#17)\u001b[22m\u001b[22m\u001b[1m(\u001b[22m\u001b[22m\u001b[1m)\u001b[22m\u001b[22m at \u001b[1m.\\task.jl:335\u001b[22m\u001b[22m\n",
      "while loading In[68], in expression starting on line 7\n",
      "\u001b[1m\u001b[33mWARNING: \u001b[39m\u001b[22m\u001b[33misnan(x::AbstractArray{T}) where T <: Number is deprecated, use isnan.(x) instead.\u001b[39m\n",
      "Stacktrace:\n",
      " [1] \u001b[1mdepwarn\u001b[22m\u001b[22m\u001b[1m(\u001b[22m\u001b[22m::String, ::Symbol\u001b[1m)\u001b[22m\u001b[22m at \u001b[1m.\\deprecated.jl:70\u001b[22m\u001b[22m\n",
      " [2] \u001b[1misnan\u001b[22m\u001b[22m\u001b[1m(\u001b[22m\u001b[22m::Array{Float64,1}\u001b[1m)\u001b[22m\u001b[22m at \u001b[1m.\\deprecated.jl:57\u001b[22m\u001b[22m\n",
      " [3] \u001b[1mpopulate_solution!\u001b[22m\u001b[22m\u001b[1m(\u001b[22m\u001b[22m::ECOS.ECOSMathProgModel, ::Convex.Problem, ::Dict{UInt64,Tuple{Int64,Int64}}, ::Array{Convex.ConicConstr,1}\u001b[1m)\u001b[22m\u001b[22m at \u001b[1mC:\\Users\\dbcar\\AppData\\Local\\JuliaPro-0.6.1.1\\pkgs-0.6.1.1\\v0.6\\Convex\\src\\solution.jl:118\u001b[22m\u001b[22m\n",
      " [4] \u001b[1m#solve!#25\u001b[22m\u001b[22m\u001b[1m(\u001b[22m\u001b[22m::Bool, ::Bool, ::Bool, ::Function, ::Convex.Problem\u001b[1m)\u001b[22m\u001b[22m at \u001b[1mC:\\Users\\dbcar\\AppData\\Local\\JuliaPro-0.6.1.1\\pkgs-0.6.1.1\\v0.6\\Convex\\src\\solution.jl:38\u001b[22m\u001b[22m\n",
      " [5] \u001b[1m#lasso#20\u001b[22m\u001b[22m\u001b[1m(\u001b[22m\u001b[22m::Float64, ::Function, ::Array{Float64,2}, ::Array{Float64,1}\u001b[1m)\u001b[22m\u001b[22m at \u001b[1m.\\In[21]:5\u001b[22m\u001b[22m\n",
      " [6] \u001b[1m(::#kw##lasso)\u001b[22m\u001b[22m\u001b[1m(\u001b[22m\u001b[22m::Array{Any,1}, ::#lasso, ::Array{Float64,2}, ::Array{Float64,1}\u001b[1m)\u001b[22m\u001b[22m at \u001b[1m.\\<missing>:0\u001b[22m\u001b[22m\n",
      " [7] \u001b[1mmacro expansion\u001b[22m\u001b[22m at \u001b[1m.\\In[68]:10\u001b[22m\u001b[22m [inlined]\n",
      " [8] \u001b[1manonymous\u001b[22m\u001b[22m at \u001b[1m.\\<missing>:?\u001b[22m\u001b[22m\n",
      " [9] \u001b[1minclude_string\u001b[22m\u001b[22m\u001b[1m(\u001b[22m\u001b[22m::String, ::String\u001b[1m)\u001b[22m\u001b[22m at \u001b[1m.\\loading.jl:522\u001b[22m\u001b[22m\n",
      " [10] \u001b[1minclude_string\u001b[22m\u001b[22m\u001b[1m(\u001b[22m\u001b[22m::Module, ::String, ::String\u001b[1m)\u001b[22m\u001b[22m at \u001b[1mC:\\\\\\\\\\\\\\\\\\\\\\\\\\\\\\\\\\\\\\\\\\\\\\\\\\\\\\\\\\\\\\\\\\\\\\\\\\\\\\\\\\\\\\\\\\\\\\\\\\\\\\\\\\\\\\Users\\dbcar\\AppData\\Local\\JuliaPro-0.6.1.1\\pkgs-0.6.1.1\\v0.6\\Compat\\src\\Compat.jl:464\u001b[22m\u001b[22m\n",
      " [11] \u001b[1mexecute_request\u001b[22m\u001b[22m\u001b[1m(\u001b[22m\u001b[22m::ZMQ.Socket, ::IJulia.Msg\u001b[1m)\u001b[22m\u001b[22m at \u001b[1mC:\\Users\\dbcar\\AppData\\Local\\JuliaPro-0.6.1.1\\pkgs-0.6.1.1\\v0.6\\IJulia\\src\\execute_request.jl:154\u001b[22m\u001b[22m\n",
      " [12] \u001b[1meventloop\u001b[22m\u001b[22m\u001b[1m(\u001b[22m\u001b[22m::ZMQ.Socket\u001b[1m)\u001b[22m\u001b[22m at \u001b[1mC:\\Users\\dbcar\\AppData\\Local\\JuliaPro-0.6.1.1\\pkgs-0.6.1.1\\v0.6\\IJulia\\src\\eventloop.jl:8\u001b[22m\u001b[22m\n",
      " [13] \u001b[1m(::IJulia.##14#17)\u001b[22m\u001b[22m\u001b[1m(\u001b[22m\u001b[22m\u001b[1m)\u001b[22m\u001b[22m at \u001b[1m.\\task.jl:335\u001b[22m\u001b[22m\n",
      "while loading In[68], in expression starting on line 7\n",
      "\u001b[1m\u001b[33mWARNING: \u001b[39m\u001b[22m\u001b[33mProblem status Suboptimal; solution may be inaccurate.\u001b[39m\n",
      "\u001b[1m\u001b[33mWARNING: \u001b[39m\u001b[22m\u001b[33mProblem status Suboptimal; solution may be inaccurate.\u001b[39m\n",
      "\u001b[1m\u001b[33mWARNING: \u001b[39m\u001b[22m\u001b[33mProblem status Suboptimal; solution may be inaccurate.\u001b[39m\n",
      "\u001b[1m\u001b[33mWARNING: \u001b[39m\u001b[22m\u001b[33mProblem status Suboptimal; solution may be inaccurate.\u001b[39m\n",
      "\u001b[1m\u001b[33mWARNING: \u001b[39m\u001b[22m\u001b[33mProblem status Suboptimal; solution may be inaccurate.\u001b[39m\n",
      "\u001b[1m\u001b[33mWARNING: \u001b[39m\u001b[22m\u001b[33mProblem status Suboptimal; solution may be inaccurate.\u001b[39m\n",
      "\u001b[1m\u001b[33mWARNING: \u001b[39m\u001b[22m\u001b[33mProblem status Suboptimal; solution may be inaccurate.\u001b[39m\n",
      "\u001b[1m\u001b[33mWARNING: \u001b[39m\u001b[22m\u001b[33mProblem status Suboptimal; solution may be inaccurate.\u001b[39m\n",
      "\u001b[1m\u001b[33mWARNING: \u001b[39m\u001b[22m\u001b[33mProblem status Suboptimal; solution may be inaccurate.\u001b[39m\n",
      "\u001b[1m\u001b[33mWARNING: \u001b[39m\u001b[22m\u001b[33mProblem status Suboptimal; solution may be inaccurate.\u001b[39m\n",
      "\u001b[1m\u001b[33mWARNING: \u001b[39m\u001b[22m\u001b[33mProblem status Suboptimal; solution may be inaccurate.\u001b[39m\n",
      "\u001b[1m\u001b[33mWARNING: \u001b[39m\u001b[22m\u001b[33mProblem status Suboptimal; solution may be inaccurate.\u001b[39m\n",
      "\u001b[1m\u001b[33mWARNING: \u001b[39m\u001b[22m\u001b[33mProblem status Suboptimal; solution may be inaccurate.\u001b[39m\n",
      "\u001b[1m\u001b[33mWARNING: \u001b[39m\u001b[22m\u001b[33mProblem status Suboptimal; solution may be inaccurate.\u001b[39m\n",
      "\u001b[1m\u001b[33mWARNING: \u001b[39m\u001b[22m\u001b[33mProblem status Suboptimal; solution may be inaccurate.\u001b[39m\n",
      "\u001b[1m\u001b[33mWARNING: \u001b[39m\u001b[22m\u001b[33mProblem status Suboptimal; solution may be inaccurate.\u001b[39m\n",
      "\u001b[1m\u001b[33mWARNING: \u001b[39m\u001b[22m\u001b[33mProblem status Suboptimal; solution may be inaccurate.\u001b[39m\n",
      "\u001b[1m\u001b[33mWARNING: \u001b[39m\u001b[22m\u001b[33mProblem status Suboptimal; solution may be inaccurate.\u001b[39m\n",
      "\u001b[1m\u001b[33mWARNING: \u001b[39m\u001b[22m\u001b[33mProblem status Suboptimal; solution may be inaccurate.\u001b[39m\n",
      "\u001b[1m\u001b[33mWARNING: \u001b[39m\u001b[22m\u001b[33mProblem status Suboptimal; solution may be inaccurate.\u001b[39m\n",
      "\u001b[1m\u001b[33mWARNING: \u001b[39m\u001b[22m\u001b[33mProblem status Suboptimal; solution may be inaccurate.\u001b[39m\n",
      "\u001b[1m\u001b[33mWARNING: \u001b[39m\u001b[22m\u001b[33mProblem status Suboptimal; solution may be inaccurate.\u001b[39m\n",
      "\u001b[1m\u001b[33mWARNING: \u001b[39m\u001b[22m\u001b[33mProblem status Suboptimal; solution may be inaccurate.\u001b[39m\n"
     ]
    }
   ],
   "source": [
    "# Fitting models\n",
    "a=1\n",
    "error_lasso_test=[]\n",
    "model=[]\n",
    "la=[]\n",
    "\n",
    "for x in X_comb\n",
    "    for l in 0.1:0.2:15\n",
    "        #Fitting the model\n",
    "        w1 = lasso(x,y; λ=l)\n",
    "        error1=sum((y2.-X_comb2[a]*w1).^2)/length(y2)\n",
    "        w2 = lasso(X_comb2[a],y2; λ=l)\n",
    "        error2=sum((y.-x*w2).^2)/length(y)\n",
    "                \n",
    "        push!(error_lasso_test,mean([error2,error1]))\n",
    "        push!(la,l)\n",
    "        push!(model,a)        \n",
    "    end\n",
    "    a=a+1 \n",
    "end"
   ]
  },
  {
   "cell_type": "code",
   "execution_count": 69,
   "metadata": {},
   "outputs": [
    {
     "data": {
      "text/plain": [
       "9.7"
      ]
     },
     "execution_count": 69,
     "metadata": {},
     "output_type": "execute_result"
    }
   ],
   "source": [
    "la[indmin(error_lasso_test)]"
   ]
  },
  {
   "cell_type": "code",
   "execution_count": 70,
   "metadata": {},
   "outputs": [
    {
     "data": {
      "text/plain": [
       "1"
      ]
     },
     "execution_count": 70,
     "metadata": {},
     "output_type": "execute_result"
    }
   ],
   "source": [
    "model[indmin(error_lasso_test)]"
   ]
  },
  {
   "cell_type": "code",
   "execution_count": 71,
   "metadata": {},
   "outputs": [
    {
     "data": {
      "text/plain": [
       "0.09898354128523154"
      ]
     },
     "execution_count": 71,
     "metadata": {},
     "output_type": "execute_result"
    }
   ],
   "source": [
    "mse_lasso=minimum(error_lasso_test)"
   ]
  },
  {
   "cell_type": "code",
   "execution_count": 73,
   "metadata": {},
   "outputs": [
    {
     "data": {
      "text/html": [
       "<img src=\"data:image/png;base64,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\" />"
      ]
     },
     "execution_count": 73,
     "metadata": {},
     "output_type": "execute_result"
    }
   ],
   "source": [
    "plot(la2,error_lasso_test)"
   ]
  },
  {
   "cell_type": "code",
   "execution_count": 27,
   "metadata": {},
   "outputs": [
    {
     "name": "stderr",
     "output_type": "stream",
     "text": [
      "\u001b[1m\u001b[33mWARNING: \u001b[39m\u001b[22m\u001b[33mArray(::Type{T}, m::Int) where T is deprecated, use Array{T}(m) instead.\u001b[39m\n",
      "Stacktrace:\n",
      " [1] \u001b[1mdepwarn\u001b[22m\u001b[22m\u001b[1m(\u001b[22m\u001b[22m::String, ::Symbol\u001b[1m)\u001b[22m\u001b[22m at \u001b[1m.\\deprecated.jl:70\u001b[22m\u001b[22m\n",
      " [2] \u001b[1mArray\u001b[22m\u001b[22m\u001b[1m(\u001b[22m\u001b[22m::Type{Convex.ConicConstr}, ::Int64\u001b[1m)\u001b[22m\u001b[22m at \u001b[1m.\\deprecated.jl:57\u001b[22m\u001b[22m\n",
      " [3] \u001b[1mconic_form!\u001b[22m\u001b[22m\u001b[1m(\u001b[22m\u001b[22m::Convex.SOCElemConstraint, ::Convex.UniqueConicForms\u001b[1m)\u001b[22m\u001b[22m at \u001b[1mC:\\Users\\dbcar\\AppData\\Local\\JuliaPro-0.6.1.1\\pkgs-0.6.1.1\\v0.6\\Convex\\src\\constraints\\soc_constraints.jl:50\u001b[22m\u001b[22m\n",
      " [4] \u001b[1mconic_form!\u001b[22m\u001b[22m\u001b[1m(\u001b[22m\u001b[22m::Convex.QolElemAtom, ::Convex.UniqueConicForms\u001b[1m)\u001b[22m\u001b[22m at \u001b[1mC:\\Users\\dbcar\\AppData\\Local\\JuliaPro-0.6.1.1\\pkgs-0.6.1.1\\v0.6\\Convex\\src\\atoms/second_order_cone\\qol_elementwise.jl:41\u001b[22m\u001b[22m\n",
      " [5] \u001b[1mconic_form!\u001b[22m\u001b[22m\u001b[1m(\u001b[22m\u001b[22m::Convex.AdditionAtom, ::Convex.UniqueConicForms\u001b[1m)\u001b[22m\u001b[22m at \u001b[1mC:\\Users\\dbcar\\AppData\\Local\\JuliaPro-0.6.1.1\\pkgs-0.6.1.1\\v0.6\\Convex\\src\\atoms/affine\\add_subtract.jl:108\u001b[22m\u001b[22m\n",
      " [6] \u001b[1mconic_form!\u001b[22m\u001b[22m\u001b[1m(\u001b[22m\u001b[22m::Convex.EqConstraint, ::Convex.UniqueConicForms\u001b[1m)\u001b[22m\u001b[22m at \u001b[1mC:\\Users\\dbcar\\AppData\\Local\\JuliaPro-0.6.1.1\\pkgs-0.6.1.1\\v0.6\\Convex\\src\\constraints\\constraints.jl:43\u001b[22m\u001b[22m\n",
      " [7] \u001b[1mconic_form!\u001b[22m\u001b[22m\u001b[1m(\u001b[22m\u001b[22m::Convex.Problem, ::Convex.UniqueConicForms\u001b[1m)\u001b[22m\u001b[22m at \u001b[1mC:\\Users\\dbcar\\AppData\\Local\\JuliaPro-0.6.1.1\\pkgs-0.6.1.1\\v0.6\\Convex\\src\\problems.jl:99\u001b[22m\u001b[22m\n",
      " [8] \u001b[1mconic_problem\u001b[22m\u001b[22m\u001b[1m(\u001b[22m\u001b[22m::Convex.Problem\u001b[1m)\u001b[22m\u001b[22m at \u001b[1mC:\\Users\\dbcar\\AppData\\Local\\JuliaPro-0.6.1.1\\pkgs-0.6.1.1\\v0.6\\Convex\\src\\problems.jl:124\u001b[22m\u001b[22m\n",
      " [9] \u001b[1m#solve!#25\u001b[22m\u001b[22m\u001b[1m(\u001b[22m\u001b[22m::Bool, ::Bool, ::Bool, ::Function, ::Convex.Problem\u001b[1m)\u001b[22m\u001b[22m at \u001b[1mC:\\Users\\dbcar\\AppData\\Local\\JuliaPro-0.6.1.1\\pkgs-0.6.1.1\\v0.6\\Convex\\src\\solution.jl:25\u001b[22m\u001b[22m\n",
      " [10] \u001b[1m#lasso#20\u001b[22m\u001b[22m\u001b[1m(\u001b[22m\u001b[22m::Float64, ::Function, ::Array{Float64,2}, ::Array{Float64,1}\u001b[1m)\u001b[22m\u001b[22m at \u001b[1m.\\In[21]:5\u001b[22m\u001b[22m\n",
      " [11] \u001b[1m(::#kw##lasso)\u001b[22m\u001b[22m\u001b[1m(\u001b[22m\u001b[22m::Array{Any,1}, ::#lasso, ::Array{Float64,2}, ::Array{Float64,1}\u001b[1m)\u001b[22m\u001b[22m at \u001b[1m.\\<missing>:0\u001b[22m\u001b[22m\n",
      " [12] \u001b[1minclude_string\u001b[22m\u001b[22m\u001b[1m(\u001b[22m\u001b[22m::String, ::String\u001b[1m)\u001b[22m\u001b[22m at \u001b[1m.\\loading.jl:522\u001b[22m\u001b[22m\n",
      " [13] \u001b[1minclude_string\u001b[22m\u001b[22m\u001b[1m(\u001b[22m\u001b[22m::Module, ::String, ::String\u001b[1m)\u001b[22m\u001b[22m at \u001b[1mC:\\\\\\\\\\\\\\\\\\\\\\\\\\\\\\\\\\\\\\\\\\\\\\\\\\\\\\\\\\\\\\\\\\\\\\\\\\\\\\\\\\\\\\\\\\\\\\\\\\\\\\\\\\\\\\Users\\dbcar\\AppData\\Local\\JuliaPro-0.6.1.1\\pkgs-0.6.1.1\\v0.6\\Compat\\src\\Compat.jl:464\u001b[22m\u001b[22m\n",
      " [14] \u001b[1mexecute_request\u001b[22m\u001b[22m\u001b[1m(\u001b[22m\u001b[22m::ZMQ.Socket, ::IJulia.Msg\u001b[1m)\u001b[22m\u001b[22m at \u001b[1mC:\\Users\\dbcar\\AppData\\Local\\JuliaPro-0.6.1.1\\pkgs-0.6.1.1\\v0.6\\IJulia\\src\\execute_request.jl:154\u001b[22m\u001b[22m\n",
      " [15] \u001b[1meventloop\u001b[22m\u001b[22m\u001b[1m(\u001b[22m\u001b[22m::ZMQ.Socket\u001b[1m)\u001b[22m\u001b[22m at \u001b[1mC:\\Users\\dbcar\\AppData\\Local\\JuliaPro-0.6.1.1\\pkgs-0.6.1.1\\v0.6\\IJulia\\src\\eventloop.jl:8\u001b[22m\u001b[22m\n",
      " [16] \u001b[1m(::IJulia.##14#17)\u001b[22m\u001b[22m\u001b[1m(\u001b[22m\u001b[22m\u001b[1m)\u001b[22m\u001b[22m at \u001b[1m.\\task.jl:335\u001b[22m\u001b[22m\n",
      "while loading In[27], in expression starting on line 1\n",
      "\u001b[1m\u001b[33mWARNING: \u001b[39m\u001b[22m\u001b[33misnan(x::AbstractArray{T}) where T <: Number is deprecated, use isnan.(x) instead.\u001b[39m\n",
      "Stacktrace:\n",
      " [1] \u001b[1mdepwarn\u001b[22m\u001b[22m\u001b[1m(\u001b[22m\u001b[22m::String, ::Symbol\u001b[1m)\u001b[22m\u001b[22m at \u001b[1m.\\deprecated.jl:70\u001b[22m\u001b[22m\n",
      " [2] \u001b[1misnan\u001b[22m\u001b[22m\u001b[1m(\u001b[22m\u001b[22m::Array{Float64,1}\u001b[1m)\u001b[22m\u001b[22m at \u001b[1m.\\deprecated.jl:57\u001b[22m\u001b[22m\n",
      " [3] \u001b[1mpopulate_solution!\u001b[22m\u001b[22m\u001b[1m(\u001b[22m\u001b[22m::ECOS.ECOSMathProgModel, ::Convex.Problem, ::Dict{UInt64,Tuple{Int64,Int64}}, ::Array{Convex.ConicConstr,1}\u001b[1m)\u001b[22m\u001b[22m at \u001b[1mC:\\Users\\dbcar\\AppData\\Local\\JuliaPro-0.6.1.1\\pkgs-0.6.1.1\\v0.6\\Convex\\src\\solution.jl:118\u001b[22m\u001b[22m\n",
      " [4] \u001b[1m#solve!#25\u001b[22m\u001b[22m\u001b[1m(\u001b[22m\u001b[22m::Bool, ::Bool, ::Bool, ::Function, ::Convex.Problem\u001b[1m)\u001b[22m\u001b[22m at \u001b[1mC:\\Users\\dbcar\\AppData\\Local\\JuliaPro-0.6.1.1\\pkgs-0.6.1.1\\v0.6\\Convex\\src\\solution.jl:38\u001b[22m\u001b[22m\n",
      " [5] \u001b[1m#lasso#20\u001b[22m\u001b[22m\u001b[1m(\u001b[22m\u001b[22m::Float64, ::Function, ::Array{Float64,2}, ::Array{Float64,1}\u001b[1m)\u001b[22m\u001b[22m at \u001b[1m.\\In[21]:5\u001b[22m\u001b[22m\n",
      " [6] \u001b[1m(::#kw##lasso)\u001b[22m\u001b[22m\u001b[1m(\u001b[22m\u001b[22m::Array{Any,1}, ::#lasso, ::Array{Float64,2}, ::Array{Float64,1}\u001b[1m)\u001b[22m\u001b[22m at \u001b[1m.\\<missing>:0\u001b[22m\u001b[22m\n",
      " [7] \u001b[1minclude_string\u001b[22m\u001b[22m\u001b[1m(\u001b[22m\u001b[22m::String, ::String\u001b[1m)\u001b[22m\u001b[22m at \u001b[1m.\\loading.jl:522\u001b[22m\u001b[22m\n",
      " [8] \u001b[1minclude_string\u001b[22m\u001b[22m\u001b[1m(\u001b[22m\u001b[22m::Module, ::String, ::String\u001b[1m)\u001b[22m\u001b[22m at \u001b[1mC:\\\\\\\\\\\\\\\\\\\\\\\\\\\\\\\\\\\\\\\\\\\\\\\\\\\\\\\\\\\\\\\\\\\\\\\\\\\\\\\\\\\\\\\\\\\\\\\\\\\\\\\\\\\\\\Users\\dbcar\\AppData\\Local\\JuliaPro-0.6.1.1\\pkgs-0.6.1.1\\v0.6\\Compat\\src\\Compat.jl:464\u001b[22m\u001b[22m\n",
      " [9] \u001b[1mexecute_request\u001b[22m\u001b[22m\u001b[1m(\u001b[22m\u001b[22m::ZMQ.Socket, ::IJulia.Msg\u001b[1m)\u001b[22m\u001b[22m at \u001b[1mC:\\Users\\dbcar\\AppData\\Local\\JuliaPro-0.6.1.1\\pkgs-0.6.1.1\\v0.6\\IJulia\\src\\execute_request.jl:154\u001b[22m\u001b[22m\n",
      " [10] \u001b[1meventloop\u001b[22m\u001b[22m\u001b[1m(\u001b[22m\u001b[22m::ZMQ.Socket\u001b[1m)\u001b[22m\u001b[22m at \u001b[1mC:\\Users\\dbcar\\AppData\\Local\\JuliaPro-0.6.1.1\\pkgs-0.6.1.1\\v0.6\\IJulia\\src\\eventloop.jl:8\u001b[22m\u001b[22m\n",
      " [11] \u001b[1m(::IJulia.##14#17)\u001b[22m\u001b[22m\u001b[1m(\u001b[22m\u001b[22m\u001b[1m)\u001b[22m\u001b[22m at \u001b[1m.\\task.jl:335\u001b[22m\u001b[22m\n",
      "while loading In[27], in expression starting on line 1\n"
     ]
    }
   ],
   "source": [
    "w_final3 = lasso(X4,y; λ=4.9);"
   ]
  },
  {
   "cell_type": "markdown",
   "metadata": {},
   "source": [
    "#### L1 Loss + quadratic regularizer"
   ]
  },
  {
   "cell_type": "code",
   "execution_count": 75,
   "metadata": {},
   "outputs": [
    {
     "name": "stderr",
     "output_type": "stream",
     "text": [
      "\u001b[1m\u001b[33mWARNING: \u001b[39m\u001b[22m\u001b[33msumabs2(x) is deprecated, use sum(abs2, x) instead.\u001b[39m\n",
      "Stacktrace:\n",
      " [1] \u001b[1mdepwarn\u001b[22m\u001b[22m\u001b[1m(\u001b[22m\u001b[22m::String, ::Symbol\u001b[1m)\u001b[22m\u001b[22m at \u001b[1m.\\deprecated.jl:70\u001b[22m\u001b[22m\n",
      " [2] \u001b[1msumabs2\u001b[22m\u001b[22m\u001b[1m(\u001b[22m\u001b[22m::Array{Float64,1}\u001b[1m)\u001b[22m\u001b[22m at \u001b[1m.\\deprecated.jl:57\u001b[22m\u001b[22m\n",
      " [3] \u001b[1mevaluate\u001b[22m\u001b[22m at \u001b[1mC:\\Users\\dbcar\\AppData\\Local\\JuliaPro-0.6.1.1\\pkgs-0.6.1.1\\v0.6\\LowRankModels\\src\\regularizers.jl:57\u001b[22m\u001b[22m [inlined]\n",
      " [4] \u001b[1m#proxgrad_linesearch#8\u001b[22m\u001b[22m\u001b[1m(\u001b[22m\u001b[22m::Int64, ::Int64, ::Array{Float64,1}, ::LowRankModels.ConvergenceHistory, ::Function, ::LowRankModels.L1Loss, ::LowRankModels.QuadReg, ::Array{Float64,2}, ::Array{Float64,1}\u001b[1m)\u001b[22m\u001b[22m at \u001b[1mC:\\Users\\dbcar\\Desktop\\MessyData Project\\proxgrad.jl:42\u001b[22m\u001b[22m\n",
      " [5] \u001b[1m(::#kw##proxgrad_linesearch)\u001b[22m\u001b[22m\u001b[1m(\u001b[22m\u001b[22m::Array{Any,1}, ::#proxgrad_linesearch, ::LowRankModels.L1Loss, ::LowRankModels.QuadReg, ::Array{Float64,2}, ::Array{Float64,1}\u001b[1m)\u001b[22m\u001b[22m at \u001b[1m.\\<missing>:0\u001b[22m\u001b[22m\n",
      " [6] \u001b[1m#proxgrad#7\u001b[22m\u001b[22m\u001b[1m(\u001b[22m\u001b[22m::Array{Any,1}, ::Function, ::LowRankModels.L1Loss, ::LowRankModels.QuadReg, ::Vararg{Any,N} where N\u001b[1m)\u001b[22m\u001b[22m at \u001b[1mC:\\Users\\dbcar\\Desktop\\MessyData Project\\proxgrad.jl:29\u001b[22m\u001b[22m\n",
      " [7] \u001b[1m(::#kw##proxgrad)\u001b[22m\u001b[22m\u001b[1m(\u001b[22m\u001b[22m::Array{Any,1}, ::#proxgrad, ::LowRankModels.L1Loss, ::LowRankModels.QuadReg, ::Vararg{Any,N} where N\u001b[1m)\u001b[22m\u001b[22m at \u001b[1m.\\<missing>:0\u001b[22m\u001b[22m\n",
      " [8] \u001b[1mmacro expansion\u001b[22m\u001b[22m at \u001b[1m.\\In[75]:9\u001b[22m\u001b[22m [inlined]\n",
      " [9] \u001b[1manonymous\u001b[22m\u001b[22m at \u001b[1m.\\<missing>:?\u001b[22m\u001b[22m\n",
      " [10] \u001b[1minclude_string\u001b[22m\u001b[22m\u001b[1m(\u001b[22m\u001b[22m::String, ::String\u001b[1m)\u001b[22m\u001b[22m at \u001b[1m.\\loading.jl:522\u001b[22m\u001b[22m\n",
      " [11] \u001b[1minclude_string\u001b[22m\u001b[22m\u001b[1m(\u001b[22m\u001b[22m::Module, ::String, ::String\u001b[1m)\u001b[22m\u001b[22m at \u001b[1mC:\\\\\\\\\\\\\\\\\\\\\\\\\\\\\\\\\\\\\\\\\\\\\\\\\\\\\\\\\\\\\\\\\\\\\\\\\\\\\\\\\\\\\\\\\\\\\\\\\\\\\\\\\\\\\\Users\\dbcar\\AppData\\Local\\JuliaPro-0.6.1.1\\pkgs-0.6.1.1\\v0.6\\Compat\\src\\Compat.jl:464\u001b[22m\u001b[22m\n",
      " [12] \u001b[1mexecute_request\u001b[22m\u001b[22m\u001b[1m(\u001b[22m\u001b[22m::ZMQ.Socket, ::IJulia.Msg\u001b[1m)\u001b[22m\u001b[22m at \u001b[1mC:\\Users\\dbcar\\AppData\\Local\\JuliaPro-0.6.1.1\\pkgs-0.6.1.1\\v0.6\\IJulia\\src\\execute_request.jl:154\u001b[22m\u001b[22m\n",
      " [13] \u001b[1meventloop\u001b[22m\u001b[22m\u001b[1m(\u001b[22m\u001b[22m::ZMQ.Socket\u001b[1m)\u001b[22m\u001b[22m at \u001b[1mC:\\Users\\dbcar\\AppData\\Local\\JuliaPro-0.6.1.1\\pkgs-0.6.1.1\\v0.6\\IJulia\\src\\eventloop.jl:8\u001b[22m\u001b[22m\n",
      " [14] \u001b[1m(::IJulia.##14#17)\u001b[22m\u001b[22m\u001b[1m(\u001b[22m\u001b[22m\u001b[1m)\u001b[22m\u001b[22m at \u001b[1m.\\task.jl:335\u001b[22m\u001b[22m\n",
      "while loading In[75], in expression starting on line 6\n"
     ]
    }
   ],
   "source": [
    "a=1\n",
    "error_l1quad_test=[]\n",
    "model=[]\n",
    "la=[]\n",
    "\n",
    "for x in X_comb\n",
    "    for l in 0.1:0.2:5\n",
    "        #Fitting the model\n",
    "        w1 = proxgrad(1/n*L1Loss(), QuadReg(l), x, y,maxiters=5000)\n",
    "        error1=sum((y2.-X_comb2[a]*w1).^2)/length(y2)\n",
    "        w2 = proxgrad(1/n2*L1Loss(), QuadReg(l), X_comb2[a], y2,maxiters=5000)\n",
    "        error2=sum((y.-x*w2).^2)/length(y)\n",
    "        \n",
    "        push!(error_l1quad_test,mean([error2,error1]))\n",
    "        push!(la,l)\n",
    "        push!(model,a) \n",
    "    end\n",
    "    a=a+1     \n",
    "end"
   ]
  },
  {
   "cell_type": "code",
   "execution_count": 76,
   "metadata": {},
   "outputs": [
    {
     "data": {
      "text/plain": [
       "0.1"
      ]
     },
     "execution_count": 76,
     "metadata": {},
     "output_type": "execute_result"
    }
   ],
   "source": [
    "la[indmin(error_l1quad_test)]"
   ]
  },
  {
   "cell_type": "code",
   "execution_count": 77,
   "metadata": {},
   "outputs": [
    {
     "data": {
      "text/plain": [
       "1"
      ]
     },
     "execution_count": 77,
     "metadata": {},
     "output_type": "execute_result"
    }
   ],
   "source": [
    "model[indmin(error_l1quad_test)]"
   ]
  },
  {
   "cell_type": "code",
   "execution_count": 78,
   "metadata": {},
   "outputs": [
    {
     "data": {
      "text/plain": [
       "0.10606099598517013"
      ]
     },
     "execution_count": 78,
     "metadata": {},
     "output_type": "execute_result"
    }
   ],
   "source": [
    "mse_l1quad=minimum(error_l1quad_test)"
   ]
  },
  {
   "cell_type": "markdown",
   "metadata": {},
   "source": [
    "#### L1 Loss + Lasso regularizer"
   ]
  },
  {
   "cell_type": "code",
   "execution_count": 46,
   "metadata": {},
   "outputs": [
    {
     "name": "stderr",
     "output_type": "stream",
     "text": [
      "\u001b[1m\u001b[33mWARNING: \u001b[39m\u001b[22m\u001b[33msumabs(x) is deprecated, use sum(abs, x) instead.\u001b[39m\n",
      "Stacktrace:\n",
      " [1] \u001b[1mdepwarn\u001b[22m\u001b[22m\u001b[1m(\u001b[22m\u001b[22m::String, ::Symbol\u001b[1m)\u001b[22m\u001b[22m at \u001b[1m.\\deprecated.jl:70\u001b[22m\u001b[22m\n",
      " [2] \u001b[1msumabs\u001b[22m\u001b[22m\u001b[1m(\u001b[22m\u001b[22m::Array{Float64,1}\u001b[1m)\u001b[22m\u001b[22m at \u001b[1m.\\deprecated.jl:57\u001b[22m\u001b[22m\n",
      " [3] \u001b[1mevaluate\u001b[22m\u001b[22m at \u001b[1mC:\\Users\\dbcar\\AppData\\Local\\JuliaPro-0.6.1.1\\pkgs-0.6.1.1\\v0.6\\LowRankModels\\src\\regularizers.jl:87\u001b[22m\u001b[22m [inlined]\n",
      " [4] \u001b[1m#proxgrad_linesearch#8\u001b[22m\u001b[22m\u001b[1m(\u001b[22m\u001b[22m::Int64, ::Int64, ::Array{Float64,1}, ::LowRankModels.ConvergenceHistory, ::Function, ::LowRankModels.L1Loss, ::LowRankModels.OneReg, ::Array{Float64,2}, ::Array{Float64,1}\u001b[1m)\u001b[22m\u001b[22m at \u001b[1mC:\\Users\\dbcar\\Desktop\\MessyData Project\\proxgrad.jl:42\u001b[22m\u001b[22m\n",
      " [5] \u001b[1m(::#kw##proxgrad_linesearch)\u001b[22m\u001b[22m\u001b[1m(\u001b[22m\u001b[22m::Array{Any,1}, ::#proxgrad_linesearch, ::LowRankModels.L1Loss, ::LowRankModels.OneReg, ::Array{Float64,2}, ::Array{Float64,1}\u001b[1m)\u001b[22m\u001b[22m at \u001b[1m.\\<missing>:0\u001b[22m\u001b[22m\n",
      " [6] \u001b[1m#proxgrad#7\u001b[22m\u001b[22m\u001b[1m(\u001b[22m\u001b[22m::Array{Any,1}, ::Function, ::LowRankModels.L1Loss, ::LowRankModels.OneReg, ::Vararg{Any,N} where N\u001b[1m)\u001b[22m\u001b[22m at \u001b[1mC:\\Users\\dbcar\\Desktop\\MessyData Project\\proxgrad.jl:29\u001b[22m\u001b[22m\n",
      " [7] \u001b[1m(::#kw##proxgrad)\u001b[22m\u001b[22m\u001b[1m(\u001b[22m\u001b[22m::Array{Any,1}, ::#proxgrad, ::LowRankModels.L1Loss, ::LowRankModels.OneReg, ::Vararg{Any,N} where N\u001b[1m)\u001b[22m\u001b[22m at \u001b[1m.\\<missing>:0\u001b[22m\u001b[22m\n",
      " [8] \u001b[1mmacro expansion\u001b[22m\u001b[22m at \u001b[1m.\\In[46]:9\u001b[22m\u001b[22m [inlined]\n",
      " [9] \u001b[1manonymous\u001b[22m\u001b[22m at \u001b[1m.\\<missing>:?\u001b[22m\u001b[22m\n",
      " [10] \u001b[1minclude_string\u001b[22m\u001b[22m\u001b[1m(\u001b[22m\u001b[22m::String, ::String\u001b[1m)\u001b[22m\u001b[22m at \u001b[1m.\\loading.jl:522\u001b[22m\u001b[22m\n",
      " [11] \u001b[1minclude_string\u001b[22m\u001b[22m\u001b[1m(\u001b[22m\u001b[22m::Module, ::String, ::String\u001b[1m)\u001b[22m\u001b[22m at \u001b[1mC:\\\\\\\\\\\\\\\\\\\\\\\\\\\\\\\\\\\\\\\\\\\\\\\\\\\\\\\\\\\\\\\\\\\\\\\\\\\\\\\\\\\\\\\\\\\\\\\\\\\\\\\\\\\\\\Users\\dbcar\\AppData\\Local\\JuliaPro-0.6.1.1\\pkgs-0.6.1.1\\v0.6\\Compat\\src\\Compat.jl:464\u001b[22m\u001b[22m\n",
      " [12] \u001b[1mexecute_request\u001b[22m\u001b[22m\u001b[1m(\u001b[22m\u001b[22m::ZMQ.Socket, ::IJulia.Msg\u001b[1m)\u001b[22m\u001b[22m at \u001b[1mC:\\Users\\dbcar\\AppData\\Local\\JuliaPro-0.6.1.1\\pkgs-0.6.1.1\\v0.6\\IJulia\\src\\execute_request.jl:154\u001b[22m\u001b[22m\n",
      " [13] \u001b[1meventloop\u001b[22m\u001b[22m\u001b[1m(\u001b[22m\u001b[22m::ZMQ.Socket\u001b[1m)\u001b[22m\u001b[22m at \u001b[1mC:\\Users\\dbcar\\AppData\\Local\\JuliaPro-0.6.1.1\\pkgs-0.6.1.1\\v0.6\\IJulia\\src\\eventloop.jl:8\u001b[22m\u001b[22m\n",
      " [14] \u001b[1m(::IJulia.##14#17)\u001b[22m\u001b[22m\u001b[1m(\u001b[22m\u001b[22m\u001b[1m)\u001b[22m\u001b[22m at \u001b[1m.\\task.jl:335\u001b[22m\u001b[22m\n",
      "while loading In[46], in expression starting on line 6\n",
      "\u001b[1m\u001b[33mWARNING: \u001b[39m\u001b[22m\u001b[33mmax(x::AbstractArray{T1}, y::Real) where T1 <: Real is deprecated, use max.(x, y) instead.\u001b[39m\n",
      "Stacktrace:\n",
      " [1] \u001b[1mdepwarn\u001b[22m\u001b[22m\u001b[1m(\u001b[22m\u001b[22m::String, ::Symbol\u001b[1m)\u001b[22m\u001b[22m at \u001b[1m.\\deprecated.jl:70\u001b[22m\u001b[22m\n",
      " [2] \u001b[1mmax\u001b[22m\u001b[22m\u001b[1m(\u001b[22m\u001b[22m::Array{Float64,1}, ::Int64\u001b[1m)\u001b[22m\u001b[22m at \u001b[1m.\\deprecated.jl:57\u001b[22m\u001b[22m\n",
      " [3] \u001b[1mprox\u001b[22m\u001b[22m\u001b[1m(\u001b[22m\u001b[22m::LowRankModels.OneReg, ::Array{Float64,1}, ::Int64\u001b[1m)\u001b[22m\u001b[22m at \u001b[1mC:\\Users\\dbcar\\AppData\\Local\\JuliaPro-0.6.1.1\\pkgs-0.6.1.1\\v0.6\\LowRankModels\\src\\regularizers.jl:82\u001b[22m\u001b[22m\n",
      " [4] \u001b[1m#proxgrad_linesearch#8\u001b[22m\u001b[22m\u001b[1m(\u001b[22m\u001b[22m::Int64, ::Int64, ::Array{Float64,1}, ::LowRankModels.ConvergenceHistory, ::Function, ::LowRankModels.L1Loss, ::LowRankModels.OneReg, ::Array{Float64,2}, ::Array{Float64,1}\u001b[1m)\u001b[22m\u001b[22m at \u001b[1mC:\\Users\\dbcar\\Desktop\\MessyData Project\\proxgrad.jl:48\u001b[22m\u001b[22m\n",
      " [5] \u001b[1m(::#kw##proxgrad_linesearch)\u001b[22m\u001b[22m\u001b[1m(\u001b[22m\u001b[22m::Array{Any,1}, ::#proxgrad_linesearch, ::LowRankModels.L1Loss, ::LowRankModels.OneReg, ::Array{Float64,2}, ::Array{Float64,1}\u001b[1m)\u001b[22m\u001b[22m at \u001b[1m.\\<missing>:0\u001b[22m\u001b[22m\n",
      " [6] \u001b[1m#proxgrad#7\u001b[22m\u001b[22m\u001b[1m(\u001b[22m\u001b[22m::Array{Any,1}, ::Function, ::LowRankModels.L1Loss, ::LowRankModels.OneReg, ::Vararg{Any,N} where N\u001b[1m)\u001b[22m\u001b[22m at \u001b[1mC:\\Users\\dbcar\\Desktop\\MessyData Project\\proxgrad.jl:29\u001b[22m\u001b[22m\n",
      " [7] \u001b[1m(::#kw##proxgrad)\u001b[22m\u001b[22m\u001b[1m(\u001b[22m\u001b[22m::Array{Any,1}, ::#proxgrad, ::LowRankModels.L1Loss, ::LowRankModels.OneReg, ::Vararg{Any,N} where N\u001b[1m)\u001b[22m\u001b[22m at \u001b[1m.\\<missing>:0\u001b[22m\u001b[22m\n",
      " [8] \u001b[1mmacro expansion\u001b[22m\u001b[22m at \u001b[1m.\\In[46]:9\u001b[22m\u001b[22m [inlined]\n",
      " [9] \u001b[1manonymous\u001b[22m\u001b[22m at \u001b[1m.\\<missing>:?\u001b[22m\u001b[22m\n",
      " [10] \u001b[1minclude_string\u001b[22m\u001b[22m\u001b[1m(\u001b[22m\u001b[22m::String, ::String\u001b[1m)\u001b[22m\u001b[22m at \u001b[1m.\\loading.jl:522\u001b[22m\u001b[22m\n",
      " [11] \u001b[1minclude_string\u001b[22m\u001b[22m\u001b[1m(\u001b[22m\u001b[22m::Module, ::String, ::String\u001b[1m)\u001b[22m\u001b[22m at \u001b[1mC:\\\\\\\\\\\\\\\\\\\\\\\\\\\\\\\\\\\\\\\\\\\\\\\\\\\\\\\\\\\\\\\\\\\\\\\\\\\\\\\\\\\\\\\\\\\\\\\\\\\\\\\\\\\\\\Users\\dbcar\\AppData\\Local\\JuliaPro-0.6.1.1\\pkgs-0.6.1.1\\v0.6\\Compat\\src\\Compat.jl:464\u001b[22m\u001b[22m\n",
      " [12] \u001b[1mexecute_request\u001b[22m\u001b[22m\u001b[1m(\u001b[22m\u001b[22m::ZMQ.Socket, ::IJulia.Msg\u001b[1m)\u001b[22m\u001b[22m at \u001b[1mC:\\Users\\dbcar\\AppData\\Local\\JuliaPro-0.6.1.1\\pkgs-0.6.1.1\\v0.6\\IJulia\\src\\execute_request.jl:154\u001b[22m\u001b[22m\n",
      " [13] \u001b[1meventloop\u001b[22m\u001b[22m\u001b[1m(\u001b[22m\u001b[22m::ZMQ.Socket\u001b[1m)\u001b[22m\u001b[22m at \u001b[1mC:\\Users\\dbcar\\AppData\\Local\\JuliaPro-0.6.1.1\\pkgs-0.6.1.1\\v0.6\\IJulia\\src\\eventloop.jl:8\u001b[22m\u001b[22m\n",
      " [14] \u001b[1m(::IJulia.##14#17)\u001b[22m\u001b[22m\u001b[1m(\u001b[22m\u001b[22m\u001b[1m)\u001b[22m\u001b[22m at \u001b[1m.\\task.jl:335\u001b[22m\u001b[22m\n",
      "while loading In[46], in expression starting on line 6\n"
     ]
    }
   ],
   "source": [
    "a=1\n",
    "error_l1lasso_test=[]\n",
    "model=[]\n",
    "la=[]\n",
    "\n",
    "for x in X_comb\n",
    "    for l in 0.1:0.05:1.5\n",
    "        #Fitting the model\n",
    "        w1 = proxgrad(1/n*L1Loss(), OneReg(l), x, y,maxiters=5000)\n",
    "        error1=sum((y2.-X_comb2[a]*w1).^2)/length(y2)\n",
    "        w2 = proxgrad(1/n2*L1Loss(), OneReg(l), X_comb2[a], y2,maxiters=5000)\n",
    "        error2=sum((y.-x*w2).^2)/length(y)\n",
    "                \n",
    "        push!(error_l1lasso_test,mean([error2,error1]))\n",
    "        push!(la,l)\n",
    "        push!(model,a) \n",
    "    end\n",
    "    a=a+1      \n",
    "end"
   ]
  },
  {
   "cell_type": "code",
   "execution_count": 47,
   "metadata": {},
   "outputs": [
    {
     "data": {
      "text/plain": [
       "1.0"
      ]
     },
     "execution_count": 47,
     "metadata": {},
     "output_type": "execute_result"
    }
   ],
   "source": [
    "la[indmin(error_l1lasso_test)]"
   ]
  },
  {
   "cell_type": "code",
   "execution_count": 48,
   "metadata": {},
   "outputs": [
    {
     "data": {
      "text/plain": [
       "1"
      ]
     },
     "execution_count": 48,
     "metadata": {},
     "output_type": "execute_result"
    }
   ],
   "source": [
    "model[indmin(error_l1lasso_test)]"
   ]
  },
  {
   "cell_type": "code",
   "execution_count": 49,
   "metadata": {},
   "outputs": [
    {
     "data": {
      "text/plain": [
       "0.11726775472140674"
      ]
     },
     "execution_count": 49,
     "metadata": {},
     "output_type": "execute_result"
    }
   ],
   "source": [
    "mse_l1lasso=minimum(error_l1lasso_test)"
   ]
  },
  {
   "cell_type": "code",
   "execution_count": 50,
   "metadata": {},
   "outputs": [
    {
     "data": {
      "text/plain": [
       "19"
      ]
     },
     "execution_count": 50,
     "metadata": {},
     "output_type": "execute_result"
    }
   ],
   "source": [
    "indmin(error_l1lasso_test)\n"
   ]
  },
  {
   "cell_type": "code",
   "execution_count": 51,
   "metadata": {},
   "outputs": [
    {
     "data": {
      "text/html": [
       "<img src=\"data:image/png;base64,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\" />"
      ]
     },
     "execution_count": 51,
     "metadata": {},
     "output_type": "execute_result"
    }
   ],
   "source": [
    "plot(la,error_l1lasso_test)"
   ]
  },
  {
   "cell_type": "markdown",
   "metadata": {},
   "source": [
    "### Summary"
   ]
  },
  {
   "cell_type": "code",
   "execution_count": 37,
   "metadata": {},
   "outputs": [
    {
     "name": "stdout",
     "output_type": "stream",
     "text": [
      "Baseline 1.0185706977497329 Quadratic 0.9888484608272321  L1 0.9639893105501438  Quadratic + QuadReg 0.9159877750157115  Quadratic + Lasso 0.8758360406063666  L1 + QuadReg 1.0024030363163168  L1 + Lasso 4.343774538112314"
     ]
    }
   ],
   "source": [
    "#Training error\n",
    "print(\"Baseline \", mse_base,\" Quadratic \", mse_quad, \"  L1 \", mse_l1loss, \"  Quadratic + QuadReg \", mse_ridge, \n",
    "      \"  Quadratic + Lasso \", mse_lasso, \"  L1 + QuadReg \", mse_l1quad, \"  L1 + Lasso \", mse_l1lasso)"
   ]
  },
  {
   "cell_type": "code",
   "execution_count": null,
   "metadata": {},
   "outputs": [],
   "source": []
  },
  {
   "cell_type": "code",
   "execution_count": null,
   "metadata": {},
   "outputs": [],
   "source": []
  },
  {
   "cell_type": "code",
   "execution_count": null,
   "metadata": {},
   "outputs": [],
   "source": []
  },
  {
   "cell_type": "code",
   "execution_count": null,
   "metadata": {},
   "outputs": [],
   "source": []
  }
 ],
 "metadata": {
  "kernelspec": {
   "display_name": "Julia 0.6.1",
   "language": "julia",
   "name": "julia-0.6"
  },
  "language_info": {
   "file_extension": ".jl",
   "mimetype": "application/julia",
   "name": "julia",
   "version": "0.6.1"
  }
 },
 "nbformat": 4,
 "nbformat_minor": 2
}
