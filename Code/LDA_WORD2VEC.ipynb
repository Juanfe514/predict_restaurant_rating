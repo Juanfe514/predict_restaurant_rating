{
 "cells": [
  {
   "cell_type": "code",
   "execution_count": null,
   "metadata": {
    "collapsed": true
   },
   "outputs": [],
   "source": [
    "import numpy as np\n",
    "import pandas as pd\n",
    "import matplotlib.pyplot as plt\n",
    "%matplotlib inline\n",
    "\n",
    "import plotly.plotly as py\n",
    "import plotly.tools as tls"
   ]
  },
  {
   "cell_type": "code",
   "execution_count": null,
   "metadata": {
    "collapsed": true
   },
   "outputs": [],
   "source": [
    "data = pd.read_csv(\"//Users/carolinetroude/Desktop/finaldataset.csv\",sep=\",\",encoding=\"utf-8\",engine=\"python\")"
   ]
  },
  {
   "cell_type": "code",
   "execution_count": null,
   "metadata": {},
   "outputs": [],
   "source": [
    "data.head()"
   ]
  },
  {
   "cell_type": "code",
   "execution_count": null,
   "metadata": {},
   "outputs": [],
   "source": [
    "from stop_words import get_stop_words\n",
    "\n",
    "stop_en = get_stop_words('en')\n",
    "print(stop_en)"
   ]
  },
  {
   "cell_type": "code",
   "execution_count": null,
   "metadata": {
    "collapsed": true
   },
   "outputs": [],
   "source": [
    "data[\"VALID\"] = data[\"COMMENT\"].isnull()\n",
    "data=data[~data[\"VALID\"]]"
   ]
  },
  {
   "cell_type": "code",
   "execution_count": null,
   "metadata": {},
   "outputs": [],
   "source": [
    "set(list(data[\"COMMENT\"].apply(lambda x: type(x))))"
   ]
  },
  {
   "cell_type": "code",
   "execution_count": null,
   "metadata": {
    "collapsed": true
   },
   "outputs": [],
   "source": [
    "def clean_text(x):\n",
    "    words = x.lower().split()\n",
    "    words = [mot for mot in words if not mot in stop_en]\n",
    "    words = [mot for mot in words if len(mot)>1]\n",
    "    return words\n",
    "\n",
    "data[\"CLEANED_TEXT\"] = data[\"COMMENT\"].apply(clean_text)"
   ]
  },
  {
   "cell_type": "code",
   "execution_count": null,
   "metadata": {},
   "outputs": [],
   "source": [
    "len(data)"
   ]
  },
  {
   "cell_type": "code",
   "execution_count": null,
   "metadata": {},
   "outputs": [],
   "source": [
    "len(data[\"CLEANED_TEXT\"])"
   ]
  },
  {
   "cell_type": "code",
   "execution_count": null,
   "metadata": {},
   "outputs": [],
   "source": [
    "len(data.groupby([\"ADDRESS\"]).mean())"
   ]
  },
  {
   "cell_type": "code",
   "execution_count": null,
   "metadata": {},
   "outputs": [],
   "source": [
    "data.groupby([\"GRADE\"])[\"CLEANED_TEXT\"].head()"
   ]
  },
  {
   "cell_type": "code",
   "execution_count": null,
   "metadata": {},
   "outputs": [],
   "source": [
    "data.groupby([\"GRADE_COMMENT\"])[\"COMMENT\"].apply(lambda x: \"\".join(x)).reset_index()"
   ]
  },
  {
   "cell_type": "code",
   "execution_count": null,
   "metadata": {
    "collapsed": true
   },
   "outputs": [],
   "source": [
    "commentaires_par_grade = data.groupby([\"GRADE_COMMENT\"])[\"COMMENT\"].apply(lambda x: \"\".join(x)).reset_index()\n",
    "commentaires_par_grade[\"CLEANED_TEXT\"] = commentaires_par_grade[\"COMMENT\"].apply(clean_text)\n",
    "commentaires_par_grade2 = data.groupby([\"GRADE_COMMENT\"])[\"CLEANED_TEXT\"].apply(lambda x: \"\".join(str(x))).reset_index()"
   ]
  },
  {
   "cell_type": "code",
   "execution_count": null,
   "metadata": {},
   "outputs": [],
   "source": [
    "type(commentaires_par_grade[\"COMMENT\"][0])"
   ]
  },
  {
   "cell_type": "code",
   "execution_count": null,
   "metadata": {
    "collapsed": true
   },
   "outputs": [],
   "source": [
    "commentaires_par_resto = data.groupby([\"ADDRESS\"])[\"COMMENT\"].apply(lambda x: \"\".join(x)).reset_index()\n",
    "commentaires_par_resto[\"CLEANED_TEXT\"] = commentaires_par_resto[\"COMMENT\"].apply(clean_text)"
   ]
  },
  {
   "cell_type": "code",
   "execution_count": null,
   "metadata": {},
   "outputs": [],
   "source": [
    "len(commentaires_par_resto)"
   ]
  },
  {
   "cell_type": "code",
   "execution_count": null,
   "metadata": {
    "collapsed": true
   },
   "outputs": [],
   "source": [
    "sentences = data[\"CLEANED_TEXT\"].values"
   ]
  },
  {
   "cell_type": "code",
   "execution_count": null,
   "metadata": {},
   "outputs": [],
   "source": [
    "len(sentences)"
   ]
  },
  {
   "cell_type": "code",
   "execution_count": null,
   "metadata": {
    "collapsed": true
   },
   "outputs": [],
   "source": [
    "import gensim\n",
    "\n",
    "model = gensim.models.Word2Vec(sentences, size=200, window=5, min_count=10)"
   ]
  },
  {
   "cell_type": "code",
   "execution_count": null,
   "metadata": {},
   "outputs": [],
   "source": [
    "dict_id_to_word = dict(zip(range(len(model.index2word)),model.Word2Vec.index2word))\n",
    "dict_word_to_id = dict(zip(model.index2word,range(len(model.wv.index2word))))"
   ]
  },
  {
   "cell_type": "code",
   "execution_count": null,
   "metadata": {},
   "outputs": [],
   "source": [
    "model.wv.syn0.shape"
   ]
  },
  {
   "cell_type": "code",
   "execution_count": null,
   "metadata": {
    "collapsed": true
   },
   "outputs": [],
   "source": [
    "from bhtsne import *\n",
    "tsne_proj = tsne(np.float64(model.wv.syn0),perplexity=30)"
   ]
  },
  {
   "cell_type": "code",
   "execution_count": null,
   "metadata": {
    "collapsed": true
   },
   "outputs": [],
   "source": [
    "proj_df = pd.DataFrame(data={\"X_TSNE\":tsne_proj[:,0], \"Y_TSNE\":tsne_proj[:,1]})"
   ]
  },
  {
   "cell_type": "code",
   "execution_count": null,
   "metadata": {
    "collapsed": true
   },
   "outputs": [],
   "source": [
    "from sklearn.cluster import KMeans\n",
    "\n",
    "N_clusters=35\n",
    "kmeans_model = KMeans(n_clusters=N_clusters, random_state=np.random.randint(256),n_jobs=20,verbose=0).fit(model.wv.syn0)\n",
    "classes = kmeans_model.labels_\n",
    "proj_df[\"CLASS\"] = classes"
   ]
  },
  {
   "cell_type": "code",
   "execution_count": null,
   "metadata": {},
   "outputs": [],
   "source": [
    "proj_df"
   ]
  },
  {
   "cell_type": "code",
   "execution_count": null,
   "metadata": {},
   "outputs": [],
   "source": [
    "import matplotlib.pyplot as plt\n",
    "from matplotlib.cm import get_cmap\n",
    "%matplotlib inline\n",
    "\n",
    "colormap = get_cmap('plasma')\n",
    "\n",
    "plt.style.use('ggplot')\n",
    "\n",
    "plt.figure(figsize=(5,5))\n",
    "plt.scatter(30,30,s=10,c=[colormap(x) for x in proj_df[\"CLASS\"]])\n",
    "plt.axis([-30,30,-30,30])\n",
    "plt.show()"
   ]
  },
  {
   "cell_type": "code",
   "execution_count": null,
   "metadata": {},
   "outputs": [],
   "source": [
    "proj_df.tail()"
   ]
  },
  {
   "cell_type": "code",
   "execution_count": null,
   "metadata": {},
   "outputs": [],
   "source": [
    "len(proj_df)"
   ]
  },
  {
   "cell_type": "code",
   "execution_count": null,
   "metadata": {},
   "outputs": [],
   "source": [
    "sentences"
   ]
  },
  {
   "cell_type": "code",
   "execution_count": null,
   "metadata": {
    "collapsed": true
   },
   "outputs": [],
   "source": [
    "import gensim\n",
    "\n",
    "dictionary = gensim.corpora.Dictionary(sentences)\n",
    "corpus = [dictionary.doc2bow(sentence) for sentence in sentences]\n",
    "lda = gensim.models.ldamodel.LdaModel(corpus=corpus, id2word=dictionary, num_topics=35)"
   ]
  },
  {
   "cell_type": "code",
   "execution_count": null,
   "metadata": {
    "scrolled": false
   },
   "outputs": [],
   "source": [
    "for i in range(30):\n",
    "    print(\"**** Topic \",i,\" *****\")\n",
    "    print(lda.print_topic(i, topn=25))"
   ]
  },
  {
   "cell_type": "code",
   "execution_count": null,
   "metadata": {
    "collapsed": true
   },
   "outputs": [],
   "source": [
    "topic_distrib = [lda.get_document_topics(dictionary.doc2bow(commentaire)) for commentaire in sentences]"
   ]
  },
  {
   "cell_type": "code",
   "execution_count": null,
   "metadata": {},
   "outputs": [],
   "source": [
    "len(topic_distrib)"
   ]
  },
  {
   "cell_type": "code",
   "execution_count": null,
   "metadata": {
    "collapsed": true
   },
   "outputs": [],
   "source": [
    "nbre_docs = len(topic_distrib)\n",
    "\n",
    "doc_topic_matrix = np.zeros((nbre_docs,30))\n",
    "\n",
    "for i,x in enumerate(topic_distrib):\n",
    "    for j,p in x:\n",
    "        doc_topic_matrix[i,j]=p"
   ]
  },
  {
   "cell_type": "code",
   "execution_count": null,
   "metadata": {},
   "outputs": [],
   "source": [
    "len(doc_topic_matrix)"
   ]
  },
  {
   "cell_type": "code",
   "execution_count": null,
   "metadata": {
    "collapsed": true
   },
   "outputs": [],
   "source": [
    "from random import sample\n",
    "from bhtsne import tsne\n",
    "select_idx = sample(range(nbre_docs),114915)\n",
    "\n",
    "tsne_proj = tsne(doc_topic_matrix[select_idx,:],perplexity=30.0)"
   ]
  },
  {
   "cell_type": "code",
   "execution_count": null,
   "metadata": {},
   "outputs": [],
   "source": [
    "len(tsne_proj)"
   ]
  },
  {
   "cell_type": "code",
   "execution_count": null,
   "metadata": {
    "collapsed": true
   },
   "outputs": [],
   "source": [
    "proj_df = pd.DataFrame(data={\"X_TSNE\":tsne_proj[:,0], \"Y_TSNE\":tsne_proj[:,1],\"COMMENT\":data.iloc[select_idx][\"COMMENT\"].values})"
   ]
  },
  {
   "cell_type": "code",
   "execution_count": null,
   "metadata": {},
   "outputs": [],
   "source": [
    "lda"
   ]
  },
  {
   "cell_type": "code",
   "execution_count": null,
   "metadata": {},
   "outputs": [],
   "source": [
    "from sklearn.cluster import KMeans\n",
    "\n",
    "N_clusters=35\n",
    "kmeans_model = KMeans(n_clusters=N_clusters, random_state=np.random.randint(256),n_jobs=20,verbose=0).fit(lda)\n",
    "classes = kmeans_model.labels_\n",
    "proj_df[\"CLASS\"] = classes"
   ]
  },
  {
   "cell_type": "code",
   "execution_count": null,
   "metadata": {
    "collapsed": true
   },
   "outputs": [],
   "source": [
    "import matplotlib.pyplot as plt\n",
    "from matplotlib.cm import get_cmap\n",
    "%matplotlib inline\n",
    "\n",
    "colormap = get_cmap('magma')\n",
    "\n",
    "plt.style.use('ggplot')\n",
    "\n",
    "plt.figure(figsize=(5,5))\n",
    "plt.scatter(proj_df[\"X_TSNE\"],proj_df[\"Y_TSNE\"],s=10,c=[colormap(x/30.0) for x in proj_df[\"CLASS\"]])\n",
    "plt.show()"
   ]
  },
  {
   "cell_type": "code",
   "execution_count": null,
   "metadata": {
    "scrolled": false
   },
   "outputs": [],
   "source": [
    "import matplotlib.pyplot as plt\n",
    "from matplotlib.cm import get_cmap\n",
    "%matplotlib inline\n",
    "\n",
    "for num_topic in range(35):\n",
    "    print (\"**** Topic \", num_topic,np.mean(doc_topic_matrix[:,num_topic]))\n",
    "    colormap = get_cmap('inferno')\n",
    "\n",
    "    plt.style.use('ggplot')\n",
    "\n",
    "    plt.figure(figsize=(5,5))\n",
    "    plt.scatter(tsne_proj[:,0],tsne_proj[:,1],s=10,c=[colormap(x/np.max(doc_topic_matrix[select_idx,num_topic])) for x in doc_topic_matrix[select_idx,num_topic]])\n",
    "    plt.show()"
   ]
  },
  {
   "cell_type": "code",
   "execution_count": null,
   "metadata": {},
   "outputs": [],
   "source": [
    "len(data)"
   ]
  },
  {
   "cell_type": "code",
   "execution_count": null,
   "metadata": {},
   "outputs": [],
   "source": [
    "proj_df"
   ]
  },
  {
   "cell_type": "code",
   "execution_count": null,
   "metadata": {
    "collapsed": true
   },
   "outputs": [],
   "source": [
    "data[\"X_TSNE\"]=proj_df[\"X_TSNE\"]"
   ]
  },
  {
   "cell_type": "code",
   "execution_count": null,
   "metadata": {
    "collapsed": true
   },
   "outputs": [],
   "source": [
    "data[\"Y_TSNE\"]=proj_df[\"Y_TSNE\"]"
   ]
  },
  {
   "cell_type": "code",
   "execution_count": null,
   "metadata": {},
   "outputs": [],
   "source": [
    "len(proj_df)"
   ]
  },
  {
   "cell_type": "code",
   "execution_count": null,
   "metadata": {},
   "outputs": [],
   "source": [
    "### USE THIS CODE BELOW ONLY FOR VISUALIZING THE RESULTS IN THE JUPYTER NOTEBOOK\n",
    "\n",
    "from bokeh.plotting import figure, output_notebook, show, ColumnDataSource\n",
    "from bokeh.layouts import vplot\n",
    "import colorsys\n",
    "from bokeh.models import HoverTool\n",
    "\n",
    "output_notebook()\n",
    "\n",
    "source = ColumnDataSource(\n",
    "        data=dict(\n",
    "            x=proj_df[\"X_TSNE\"],\n",
    "            y=proj_df[\"Y_TSNE\"],\n",
    "            commentaire=proj_df[\"COMMENT\"]\n",
    "        )\n",
    "    )\n",
    "\n",
    "hover = HoverTool(\n",
    "        tooltips=\"\"\"\n",
    "                <p style=\"font-size: 10px;\">@commentaire</p>\n",
    "        \"\"\"\n",
    "    )\n",
    "\n",
    "\n",
    "size_figs=800\n",
    "\n",
    "p1 = figure(plot_width=size_figs, plot_height=size_figs, tools=[\"wheel_zoom,pan,lasso_select\",hover])\n",
    "p1.circle('x', 'y', source=source, size=5,line_color=None,fill_color=\"blue\")\n",
    "\n",
    "layout=hplot(p1)\n",
    "show(layout)"
   ]
  }
 ],
 "metadata": {
  "kernelspec": {
   "display_name": "Python 3",
   "language": "python",
   "name": "python3"
  },
  "language_info": {
   "codemirror_mode": {
    "name": "ipython",
    "version": 3
   },
   "file_extension": ".py",
   "mimetype": "text/x-python",
   "name": "python",
   "nbconvert_exporter": "python",
   "pygments_lexer": "ipython3",
   "version": "3.6.2"
  }
 },
 "nbformat": 4,
 "nbformat_minor": 2
}
