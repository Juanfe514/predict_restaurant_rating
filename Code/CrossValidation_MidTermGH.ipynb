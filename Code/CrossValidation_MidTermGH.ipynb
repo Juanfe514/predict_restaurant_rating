{
 "cells": [
  {
   "cell_type": "code",
   "execution_count": 2,
   "metadata": {},
   "outputs": [],
   "source": [
    "using DataFrames\n",
    "using Plots"
   ]
  },
  {
   "cell_type": "code",
   "execution_count": 3,
   "metadata": {},
   "outputs": [],
   "source": [
    "data = readtable(\"train1.csv\");\n",
    "data2 = readtable(\"train2.csv\");"
   ]
  },
  {
   "cell_type": "code",
   "execution_count": 4,
   "metadata": {},
   "outputs": [],
   "source": [
    "#Fitting the models\n",
    "\n",
    "n = size(data,1)\n",
    "y = data[:GRADE].data\n",
    "\n",
    "X1 =  [data[:FOOD].data data[:SERVICE].data data[:VALUE].data data[:NUMBER_OF_FOODS].data ones(n)]  \n",
    "w1 = X1\\y;"
   ]
  },
  {
   "cell_type": "code",
   "execution_count": 5,
   "metadata": {},
   "outputs": [],
   "source": [
    "X2 = [data[:FOOD].data data[:SERVICE].data data[:VALUE].data data[:NUMBER_OF_FOODS].data data[:Lunch].data data[:Dinner].data data[:LateNight].data data[:Breakfast].data data[:Brunch].data data[:Drinks].data data[:Reservations].data data[:PrivateDining].data data[:WheelchairAccessible].data data[:ServesAlcohol].data data[:Takeout].data data[:Television].data data[:FreeWifi].data data[:Delivery].data data[:AcceptsCreditCards].data data[:OutdoorSeating].data data[:Buffet].data data[:OutdoorSeating].data data[:ParkingAvailable].data data[:Businessmeetings].data data[:Romantic].data data[:Specialoccasions].data data[:Largegroups].data data[:Familieswithchildren].data data[:Kids].data data[:Barscene].data data[:Localcuisine].data data[:Scenicview].data ones(n)] \n",
    "w2 = X2\\y;"
   ]
  },
  {
   "cell_type": "code",
   "execution_count": 6,
   "metadata": {},
   "outputs": [],
   "source": [
    "X3 = [data[:FOOD].data data[:SERVICE].data data[:VALUE].data data[:NUMBER_OF_FOODS].data data[:Lunch].data data[:Dinner].data data[:LateNight].data data[:Breakfast].data data[:Brunch].data data[:Drinks].data data[:Reservations].data data[:PrivateDining].data data[:WheelchairAccessible].data data[:ServesAlcohol].data data[:Takeout].data data[:Television].data data[:FreeWifi].data data[:Delivery].data data[:AcceptsCreditCards].data data[:OutdoorSeating].data data[:Buffet].data data[:OutdoorSeating].data data[:ParkingAvailable].data data[:Businessmeetings].data data[:Romantic].data data[:Specialoccasions].data data[:Largegroups].data data[:Familieswithchildren].data data[:Kids].data data[:Barscene].data data[:Localcuisine].data data[:Scenicview].data data[:Great].data data[:Good].data data[:Delicious].data data[:Nice].data data[:Service].data data[:Wait].data ones(n)]\n",
    "w3 = X3\\y;\n"
   ]
  },
  {
   "cell_type": "code",
   "execution_count": 7,
   "metadata": {},
   "outputs": [],
   "source": [
    "X4 = [data[:FOOD].data data[:SERVICE].data data[:VALUE].data data[:NUMBER_OF_FOODS].data data[:Lunch].data data[:Dinner].data data[:LateNight].data data[:Breakfast].data data[:Great].data data[:Good].data data[:Delicious].data data[:Nice].data data[:Service].data data[:Wait].data ones(n)]\n",
    "w4 = X4\\y;"
   ]
  },
  {
   "cell_type": "code",
   "execution_count": 8,
   "metadata": {},
   "outputs": [],
   "source": [
    "#Cross validation on train2\n",
    "\n",
    "n2 = size(data2,1)\n",
    "y2 = data2[:GRADE].data;"
   ]
  },
  {
   "cell_type": "code",
   "execution_count": 9,
   "metadata": {},
   "outputs": [],
   "source": [
    "Xt1 =  [data2[:FOOD].data data2[:SERVICE].data data2[:VALUE].data data2[:NUMBER_OF_FOODS].data ones(n2)] \n",
    "Xt2 = [data2[:FOOD].data data2[:SERVICE].data data2[:VALUE].data data2[:NUMBER_OF_FOODS].data data2[:Lunch].data data2[:Dinner].data data2[:LateNight].data data2[:Breakfast].data data2[:Brunch].data data2[:Drinks].data data2[:Reservations].data data2[:PrivateDining].data data2[:WheelchairAccessible].data data2[:ServesAlcohol].data data2[:Takeout].data data2[:Television].data data2[:FreeWifi].data data2[:Delivery].data data2[:AcceptsCreditCards].data data2[:OutdoorSeating].data data2[:Buffet].data data2[:OutdoorSeating].data data2[:ParkingAvailable].data data2[:Businessmeetings].data data2[:Romantic].data data2[:Specialoccasions].data data2[:Largegroups].data data2[:Familieswithchildren].data data2[:Kids].data data2[:Barscene].data data2[:Localcuisine].data data2[:Scenicview].data ones(n2)]\n",
    "Xt3 = [data2[:FOOD].data data2[:SERVICE].data data2[:VALUE].data data2[:NUMBER_OF_FOODS].data data2[:Lunch].data data2[:Dinner].data data2[:LateNight].data data2[:Breakfast].data data2[:Brunch].data data2[:Drinks].data data2[:Reservations].data data2[:PrivateDining].data data2[:WheelchairAccessible].data data2[:ServesAlcohol].data data2[:Takeout].data data2[:Television].data data2[:FreeWifi].data data2[:Delivery].data data2[:AcceptsCreditCards].data data2[:OutdoorSeating].data data2[:Buffet].data data2[:OutdoorSeating].data data2[:ParkingAvailable].data data2[:Businessmeetings].data data2[:Romantic].data data2[:Specialoccasions].data data2[:Largegroups].data data2[:Familieswithchildren].data data2[:Kids].data data2[:Barscene].data data2[:Localcuisine].data data2[:Scenicview].data data2[:Great].data data2[:Good].data data2[:Delicious].data data2[:Nice].data data2[:Service].data data2[:Wait].data ones(n2)]\n",
    "Xt4 = [data2[:FOOD].data data2[:SERVICE].data data2[:VALUE].data data2[:NUMBER_OF_FOODS].data data2[:Lunch].data data2[:Dinner].data data2[:LateNight].data data2[:Breakfast].data data2[:Great].data data2[:Good].data data2[:Delicious].data data2[:Nice].data data2[:Service].data data2[:Wait].data ones(n2)];\n"
   ]
  },
  {
   "cell_type": "code",
   "execution_count": 10,
   "metadata": {},
   "outputs": [
    {
     "name": "stdout",
     "output_type": "stream",
     "text": [
      "RMSE_train : 0.09336487941810943 0.0768608732399794 0.0768608732399794 0.08272475258249927\n",
      "RMSE_test : 0.10036064267901539 0.10060437184647948 0.10001028964405416 0.09829130079135452\n"
     ]
    }
   ],
   "source": [
    "rmse_train1=(1/n)*(sum((y.-X1*w1).*(y.-X1*w1)))\n",
    "rmse_train2=(1/n)*(sum((y.-X2*w2).*(y.-X2*w2)))\n",
    "rmse_train3=(1/n)*(sum((y.-X3*w3).*(y.-X3*w3)))\n",
    "rmse_train4=(1/n)*(sum((y.-X4*w4).*(y.-X4*w4)))\n",
    "\n",
    "rmse_test1=(1/n2)*(sum((y2.-Xt1*w1).*(y2.-Xt1*w1)))\n",
    "rmse_test2=(1/n2)*(sum((y2.-Xt2*w2).*(y2.-Xt2*w2)))\n",
    "rmse_test3=(1/n2)*(sum((y2.-Xt3*w3).*(y2.-Xt3*w3)))\n",
    "rmse_test4=(1/n2)*(sum((y2.-Xt4*w4).*(y2.-Xt4*w4)))\n",
    "\n",
    "println(\"RMSE_train : \",rmse_train1,\" \",rmse_train3,\" \",rmse_train3,\" \",rmse_train4)\n",
    "println(\"RMSE_test : \",rmse_test1,\" \",rmse_test2,\" \",rmse_test3,\" \",rmse_test4)"
   ]
  },
  {
   "cell_type": "code",
   "execution_count": 11,
   "metadata": {},
   "outputs": [],
   "source": [
    "# Train on the other half"
   ]
  },
  {
   "cell_type": "code",
   "execution_count": 12,
   "metadata": {},
   "outputs": [],
   "source": [
    "data = readtable(\"train2.csv\");\n",
    "data2 = readtable(\"train1.csv\");"
   ]
  },
  {
   "cell_type": "code",
   "execution_count": 13,
   "metadata": {},
   "outputs": [],
   "source": [
    "#Fitting the models\n",
    "\n",
    "n = size(data,1)\n",
    "y = data[:GRADE].data\n",
    "\n",
    "X1 =  [data[:FOOD].data data[:SERVICE].data data[:VALUE].data data[:NUMBER_OF_FOODS].data ones(n)]  \n",
    "w1 = X1\\y;"
   ]
  },
  {
   "cell_type": "code",
   "execution_count": 14,
   "metadata": {},
   "outputs": [],
   "source": [
    "X2 = [data[:FOOD].data data[:SERVICE].data data[:VALUE].data data[:NUMBER_OF_FOODS].data data[:Lunch].data data[:Dinner].data data[:LateNight].data data[:Breakfast].data data[:Brunch].data data[:Drinks].data data[:Reservations].data data[:PrivateDining].data data[:WheelchairAccessible].data data[:ServesAlcohol].data data[:Takeout].data data[:Television].data data[:FreeWifi].data data[:Delivery].data data[:AcceptsCreditCards].data data[:OutdoorSeating].data data[:Buffet].data data[:OutdoorSeating].data data[:ParkingAvailable].data data[:Businessmeetings].data data[:Romantic].data data[:Specialoccasions].data data[:Largegroups].data data[:Familieswithchildren].data data[:Kids].data data[:Barscene].data data[:Localcuisine].data data[:Scenicview].data ones(n)] \n",
    "w2 = X2\\y;"
   ]
  },
  {
   "cell_type": "code",
   "execution_count": 15,
   "metadata": {},
   "outputs": [],
   "source": [
    "X3 = [data[:FOOD].data data[:SERVICE].data data[:VALUE].data data[:NUMBER_OF_FOODS].data data[:Lunch].data data[:Dinner].data data[:LateNight].data data[:Breakfast].data data[:Brunch].data data[:Drinks].data data[:Reservations].data data[:PrivateDining].data data[:WheelchairAccessible].data data[:ServesAlcohol].data data[:Takeout].data data[:Television].data data[:FreeWifi].data data[:Delivery].data data[:AcceptsCreditCards].data data[:OutdoorSeating].data data[:Buffet].data data[:OutdoorSeating].data data[:ParkingAvailable].data data[:Businessmeetings].data data[:Romantic].data data[:Specialoccasions].data data[:Largegroups].data data[:Familieswithchildren].data data[:Kids].data data[:Barscene].data data[:Localcuisine].data data[:Scenicview].data data[:Great].data data[:Good].data data[:Delicious].data data[:Nice].data data[:Service].data data[:Wait].data ones(n)]\n",
    "w3 = X3\\y;"
   ]
  },
  {
   "cell_type": "code",
   "execution_count": 16,
   "metadata": {},
   "outputs": [],
   "source": [
    "X4 = [data[:FOOD].data data[:SERVICE].data data[:VALUE].data data[:NUMBER_OF_FOODS].data data[:Lunch].data data[:Dinner].data data[:LateNight].data data[:Breakfast].data data[:Great].data data[:Good].data data[:Delicious].data data[:Nice].data data[:Service].data data[:Wait].data ones(n)]\n",
    "w4 = X4\\y;"
   ]
  },
  {
   "cell_type": "code",
   "execution_count": 17,
   "metadata": {},
   "outputs": [],
   "source": [
    "#Cross validation on train1\n",
    "\n",
    "n2 = size(data2,1)\n",
    "y2 = data2[:GRADE].data;"
   ]
  },
  {
   "cell_type": "code",
   "execution_count": 18,
   "metadata": {},
   "outputs": [],
   "source": [
    "Xt1 =  [data2[:FOOD].data data2[:SERVICE].data data2[:VALUE].data data2[:NUMBER_OF_FOODS].data ones(n2)] \n",
    "Xt2 = [data2[:FOOD].data data2[:SERVICE].data data2[:VALUE].data data2[:NUMBER_OF_FOODS].data data2[:Lunch].data data2[:Dinner].data data2[:LateNight].data data2[:Breakfast].data data2[:Brunch].data data2[:Drinks].data data2[:Reservations].data data2[:PrivateDining].data data2[:WheelchairAccessible].data data2[:ServesAlcohol].data data2[:Takeout].data data2[:Television].data data2[:FreeWifi].data data2[:Delivery].data data2[:AcceptsCreditCards].data data2[:OutdoorSeating].data data2[:Buffet].data data2[:OutdoorSeating].data data2[:ParkingAvailable].data data2[:Businessmeetings].data data2[:Romantic].data data2[:Specialoccasions].data data2[:Largegroups].data data2[:Familieswithchildren].data data2[:Kids].data data2[:Barscene].data data2[:Localcuisine].data data2[:Scenicview].data ones(n2)]\n",
    "Xt3 = [data2[:FOOD].data data2[:SERVICE].data data2[:VALUE].data data2[:NUMBER_OF_FOODS].data data2[:Lunch].data data2[:Dinner].data data2[:LateNight].data data2[:Breakfast].data data2[:Brunch].data data2[:Drinks].data data2[:Reservations].data data2[:PrivateDining].data data2[:WheelchairAccessible].data data2[:ServesAlcohol].data data2[:Takeout].data data2[:Television].data data2[:FreeWifi].data data2[:Delivery].data data2[:AcceptsCreditCards].data data2[:OutdoorSeating].data data2[:Buffet].data data2[:OutdoorSeating].data data2[:ParkingAvailable].data data2[:Businessmeetings].data data2[:Romantic].data data2[:Specialoccasions].data data2[:Largegroups].data data2[:Familieswithchildren].data data2[:Kids].data data2[:Barscene].data data2[:Localcuisine].data data2[:Scenicview].data data2[:Great].data data2[:Good].data data2[:Delicious].data data2[:Nice].data data2[:Service].data data2[:Wait].data ones(n2)];\n",
    "Xt4 = [data2[:FOOD].data data2[:SERVICE].data data2[:VALUE].data data2[:NUMBER_OF_FOODS].data data2[:Lunch].data data2[:Dinner].data data2[:LateNight].data data2[:Breakfast].data data2[:Great].data data2[:Good].data data2[:Delicious].data data2[:Nice].data data2[:Service].data data2[:Wait].data ones(n2)];\n"
   ]
  },
  {
   "cell_type": "code",
   "execution_count": 19,
   "metadata": {},
   "outputs": [
    {
     "name": "stdout",
     "output_type": "stream",
     "text": [
      "RMSE_train : 0.0831264258557167 0.06869292840437537 0.06869292840437537 0.07673619841713832\n",
      "RMSE_test : 0.10942933086107726 0.11834697100801146 0.11079437105378914 0.10192607975362361\n"
     ]
    }
   ],
   "source": [
    "rmse_train1_2=(1/n)*(sum((y.-X1*w1).*(y.-X1*w1)))\n",
    "rmse_train2_2=(1/n)*(sum((y.-X2*w2).*(y.-X2*w2)))\n",
    "rmse_train3_2=(1/n)*(sum((y.-X3*w3).*(y.-X3*w3)))\n",
    "rmse_train4_2=(1/n)*(sum((y.-X4*w4).*(y.-X4*w4)))\n",
    "\n",
    "rmse_test1_2=(1/n2)*(sum((y2.-Xt1*w1).*(y2.-Xt1*w1)))\n",
    "rmse_test2_2=(1/n2)*(sum((y2.-Xt2*w2).*(y2.-Xt2*w2)))\n",
    "rmse_test3_2=(1/n2)*(sum((y2.-Xt3*w3).*(y2.-Xt3*w3)))\n",
    "rmse_test4_2=(1/n2)*(sum((y2.-Xt4*w4).*(y2.-Xt4*w4)))\n",
    "\n",
    "println(\"RMSE_train : \",rmse_train1_2,\" \",rmse_train3_2,\" \",rmse_train3_2,\" \",rmse_train4_2)\n",
    "println(\"RMSE_test : \",rmse_test1_2,\" \",rmse_test2_2,\" \",rmse_test3_2,\" \",rmse_test4_2)"
   ]
  },
  {
   "cell_type": "code",
   "execution_count": 20,
   "metadata": {},
   "outputs": [
    {
     "name": "stdout",
     "output_type": "stream",
     "text": [
      "0.20978997354009266 0.21895134285449094 0.21080466069784332 0.20021738054497812"
     ]
    }
   ],
   "source": [
    "total1=rmse_test1_2+rmse_test1\n",
    "total2=rmse_test2_2+rmse_test2\n",
    "total3=rmse_test3_2+rmse_test3\n",
    "total4=rmse_test4_2+rmse_test4\n",
    "print(total1,\" \",total2,\" \",total3,\" \",total4)"
   ]
  },
  {
   "cell_type": "code",
   "execution_count": 21,
   "metadata": {},
   "outputs": [],
   "source": [
    "# Best model in test data\n",
    "\n",
    "data2 = readtable(\"TestFinalMidterm.csv\");\n",
    "n2 = size(data2,1)\n",
    "y2 = data2[:GRADE].data;"
   ]
  },
  {
   "cell_type": "code",
   "execution_count": 22,
   "metadata": {},
   "outputs": [],
   "source": [
    "Xt4 = [data2[:FOOD].data data2[:SERVICE].data data2[:VALUE].data data2[:NUMBER_OF_FOODS].data data2[:Lunch].data data2[:Dinner].data data2[:LateNight].data data2[:Breakfast].data data2[:Great].data data2[:Good].data data2[:Delicious].data data2[:Nice].data data2[:Service].data data2[:Wait].data ones(n2)];\n",
    "\n",
    "\"\"\"\n",
    "Xt1 =  [data2[:FOOD].data data2[:SERVICE].data data2[:VALUE].data data2[:NUMBER_OF_FOODS].data ones(n2)] \n",
    "Xt2 = [data2[:FOOD].data data2[:SERVICE].data data2[:VALUE].data data2[:NUMBER_OF_FOODS].data data2[:Lunch].data data2[:Dinner].data data2[:LateNight].data data2[:Breakfast].data data2[:Brunch].data data2[:Drinks].data data2[:Reservations].data data2[:PrivateDining].data data2[:WheelchairAccessible].data data2[:ServesAlcohol].data data2[:Takeout].data data2[:Television].data data2[:FreeWifi].data data2[:Delivery].data data2[:AcceptsCreditCards].data data2[:OutdoorSeating].data data2[:Buffet].data data2[:OutdoorSeating].data data2[:ParkingAvailable].data data2[:Businessmeetings].data data2[:Romantic].data data2[:Specialoccasions].data data2[:Largegroups].data data2[:Familieswithchildren].data data2[:Kids].data data2[:Barscene].data data2[:Localcuisine].data data2[:Scenicview].data ones(n2)]\n",
    "Xt3 = [data2[:FOOD].data data2[:SERVICE].data data2[:VALUE].data data2[:NUMBER_OF_FOODS].data data2[:Lunch].data data2[:Dinner].data data2[:LateNight].data data2[:Breakfast].data data2[:Brunch].data data2[:Drinks].data data2[:Reservations].data data2[:PrivateDining].data data2[:WheelchairAccessible].data data2[:ServesAlcohol].data data2[:Takeout].data data2[:Television].data data2[:FreeWifi].data data2[:Delivery].data data2[:AcceptsCreditCards].data data2[:OutdoorSeating].data data2[:Buffet].data data2[:OutdoorSeating].data data2[:ParkingAvailable].data data2[:Businessmeetings].data data2[:Romantic].data data2[:Specialoccasions].data data2[:Largegroups].data data2[:Familieswithchildren].data data2[:Kids].data data2[:Barscene].data data2[:Localcuisine].data data2[:Scenicview].data data2[:Great].data data2[:Good].data data2[:Delicious].data data2[:Nice].data data2[:Service].data data2[:Wait].data ones(n2)];\n",
    "\"\"\";"
   ]
  },
  {
   "cell_type": "code",
   "execution_count": 23,
   "metadata": {},
   "outputs": [
    {
     "name": "stdout",
     "output_type": "stream",
     "text": [
      "RMSE_test : 0.19905251308899238\n"
     ]
    }
   ],
   "source": [
    "#rmse_test1_3=(1/n2)*(sum((y2.-Xt1*w1).*(y2.-Xt1*w1)))\n",
    "#rmse_test2_2=(1/n2)*(sum((y2.-Xt2*w2).*(y2.-Xt2*w2)))\n",
    "#rmse_test3_2=(1/n2)*(sum((y2.-Xt3*w3).*(y2.-Xt3*w3)))\n",
    "rmse_test4_2=(1/n2)*(sum((y2.-Xt4*w4).*(y2.-Xt4*w4)))\n",
    "\n",
    "println(\"RMSE_test : \",rmse_test4_2)"
   ]
  },
  {
   "cell_type": "code",
   "execution_count": null,
   "metadata": {},
   "outputs": [],
   "source": []
  },
  {
   "cell_type": "code",
   "execution_count": null,
   "metadata": {},
   "outputs": [],
   "source": []
  }
 ],
 "metadata": {
  "kernelspec": {
   "display_name": "Julia 0.6.0",
   "language": "julia",
   "name": "julia-0.6"
  },
  "language_info": {
   "file_extension": ".jl",
   "mimetype": "application/julia",
   "name": "julia",
   "version": "0.6.0"
  }
 },
 "nbformat": 4,
 "nbformat_minor": 2
}
