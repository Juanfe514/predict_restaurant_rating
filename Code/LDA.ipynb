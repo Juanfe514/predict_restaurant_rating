{
 "cells": [
  {
   "cell_type": "code",
   "execution_count": null,
   "metadata": {
    "collapsed": true
   },
   "outputs": [],
   "source": [
    "import numpy as np\n",
    "import pandas as pd\n",
    "import matplotlib.pyplot as plt\n",
    "%matplotlib inline\n",
    "\n",
    "import plotly.plotly as py\n",
    "import plotly.tools as tls"
   ]
  },
  {
   "cell_type": "code",
   "execution_count": null,
   "metadata": {
    "collapsed": true
   },
   "outputs": [],
   "source": [
    "data = pd.read_csv(\"//Users/carolinetroude/Desktop/DEFINITIVE-BDD-DCJ.csv\",sep=\";\",encoding=\"utf-8\",engine=\"python\")"
   ]
  },
  {
   "cell_type": "code",
   "execution_count": null,
   "metadata": {
    "collapsed": true
   },
   "outputs": [],
   "source": [
    "data.head(50)"
   ]
  },
  {
   "cell_type": "code",
   "execution_count": null,
   "metadata": {
    "collapsed": true
   },
   "outputs": [],
   "source": [
    "#import english library\n",
    "from stop_words import get_stop_words\n",
    "\n",
    "stop_en = get_stop_words('en')\n",
    "print(stop_en)"
   ]
  },
  {
   "cell_type": "code",
   "execution_count": null,
   "metadata": {
    "collapsed": true
   },
   "outputs": [],
   "source": [
    "#erase rows with missing comments\n",
    "data[\"VALID\"] = data[\"COMMENT\"].isnull()\n",
    "data=data[~data[\"VALID\"]]"
   ]
  },
  {
   "cell_type": "code",
   "execution_count": null,
   "metadata": {
    "collapsed": true
   },
   "outputs": [],
   "source": [
    "set(list(data[\"COMMENT\"].apply(lambda x: type(x))))"
   ]
  },
  {
   "cell_type": "code",
   "execution_count": null,
   "metadata": {
    "collapsed": true
   },
   "outputs": [],
   "source": [
    "#function to clean the text\n",
    "def clean_text(x):\n",
    "    words = x.lower().split()\n",
    "    words = [mot for mot in words if not mot in stop_en]\n",
    "    words = [mot for mot in words if len(mot)>1]\n",
    "    return words\n",
    "\n",
    "data[\"CLEANED_TEXT\"] = data[\"COMMENT\"].apply(clean_text)"
   ]
  },
  {
   "cell_type": "code",
   "execution_count": null,
   "metadata": {
    "collapsed": true
   },
   "outputs": [],
   "source": [
    "data.groupby([\"GRADE\"])[\"CLEANED_TEXT\"].head()"
   ]
  },
  {
   "cell_type": "code",
   "execution_count": null,
   "metadata": {
    "collapsed": true
   },
   "outputs": [],
   "source": [
    "data.groupby([\"GRADE\"])[\"COMMENT\"].apply(lambda x: \"\".join(x)).reset_index()"
   ]
  },
  {
   "cell_type": "code",
   "execution_count": null,
   "metadata": {
    "collapsed": true
   },
   "outputs": [],
   "source": [
    "#apply clean text function on every comment\n",
    "commentaires_par_grade = data.groupby([\"GRADE\"])[\"COMMENT\"].apply(lambda x: \"\".join(x)).reset_index()\n",
    "commentaires_par_grade[\"CLEANED_TEXT\"] = commentaires_par_grade[\"COMMENT\"].apply(clean_text)"
   ]
  },
  {
   "cell_type": "code",
   "execution_count": null,
   "metadata": {
    "collapsed": true
   },
   "outputs": [],
   "source": [
    "from wordcloud import WordCloud, STOPWORDS\n",
    "import matplotlib.pyplot as plt\n",
    "\n",
    "#Convert all the required text into a single string here \n",
    "#and store them in word_string\n",
    "\n",
    "#you can specify fonts, stopwords, background color and other options\n",
    "\n",
    "wordcloud = WordCloud(stopwords=STOPWORDS,\n",
    "                          background_color='white',\n",
    "                          width=1700,\n",
    "                          height=1000\n",
    "                         ).generate(commentaires_par_grade[\"COMMENT\"][0])\n",
    "\n",
    "\n",
    "plt.imshow(wordcloud)\n",
    "plt.axis('off')\n",
    "plt.show()"
   ]
  },
  {
   "cell_type": "code",
   "execution_count": null,
   "metadata": {
    "collapsed": true
   },
   "outputs": [],
   "source": [
    "sentences = data[\"CLEANED_TEXT\"].values"
   ]
  },
  {
   "cell_type": "code",
   "execution_count": null,
   "metadata": {
    "collapsed": true
   },
   "outputs": [],
   "source": [
    "#create LDA model using 30 topics\n",
    "import gensim\n",
    "\n",
    "dictionary = gensim.corpora.Dictionary(sentences)\n",
    "corpus = [dictionary.doc2bow(sentence) for sentence in sentences]\n",
    "lda = gensim.models.ldamodel.LdaModel(corpus=corpus, id2word=dictionary, num_topics=30)"
   ]
  },
  {
   "cell_type": "code",
   "execution_count": null,
   "metadata": {
    "collapsed": true
   },
   "outputs": [],
   "source": [
    "#plot the topics with 10 words per topic\n",
    "for i in range(30):\n",
    "    print(\"**** Topic \",i,\" *****\")\n",
    "    print(lda.print_topic(i, topn=10))"
   ]
  },
  {
   "cell_type": "code",
   "execution_count": null,
   "metadata": {
    "collapsed": true
   },
   "outputs": [],
   "source": [
    "topic_distrib = [lda.get_document_topics(dictionary.doc2bow(commentaire)) for commentaire in sentences]"
   ]
  },
  {
   "cell_type": "code",
   "execution_count": null,
   "metadata": {
    "collapsed": true
   },
   "outputs": [],
   "source": [
    "nbre_docs = len(topic_distrib)\n",
    "\n",
    "doc_topic_matrix = np.zeros((nbre_docs,35))\n",
    "\n",
    "for i,x in enumerate(topic_distrib):\n",
    "    for j,p in x:\n",
    "        doc_topic_matrix[i,j]=p"
   ]
  },
  {
   "cell_type": "code",
   "execution_count": null,
   "metadata": {
    "collapsed": true
   },
   "outputs": [],
   "source": [
    "#create the coordinates using t-SNE\n",
    "\n",
    "from bhtsne import tsne\n",
    "select_idx = sample(range(nbre_docs),19522)\n",
    "\n",
    "tsne_proj = tsne(doc_topic_matrix[select_idx,:],perplexity=30.0)"
   ]
  },
  {
   "cell_type": "code",
   "execution_count": null,
   "metadata": {
    "collapsed": true
   },
   "outputs": [],
   "source": [
    "proj_df = pd.DataFrame(data={\"X_TSNE\":tsne_proj[:,0], \"Y_TSNE\":tsne_proj[:,1],\"COMMENT\":data.iloc[select_idx][\"COMMENT\"].values})"
   ]
  },
  {
   "cell_type": "code",
   "execution_count": null,
   "metadata": {
    "collapsed": true
   },
   "outputs": [],
   "source": [
    "#plot the heat map\n",
    "\n",
    "import matplotlib.pyplot as plt\n",
    "from matplotlib.cm import get_cmap\n",
    "%matplotlib inline\n",
    "\n",
    "for num_topic in range(35):\n",
    "    print (\"**** Topic \", num_topic,np.mean(doc_topic_matrix[:,num_topic]))\n",
    "    colormap = get_cmap('inferno')\n",
    "\n",
    "    plt.style.use('ggplot')\n",
    "\n",
    "    plt.figure(figsize=(5,5))\n",
    "    plt.scatter(tsne_proj[:,0],tsne_proj[:,1],s=10,c=[colormap(x/np.max(doc_topic_matrix[select_idx,num_topic])) for x in doc_topic_matrix[select_idx,num_topic]])\n",
    "    plt.show()"
   ]
  }
 ],
 "metadata": {
  "kernelspec": {
   "display_name": "Python 3",
   "language": "python",
   "name": "python3"
  },
  "language_info": {
   "codemirror_mode": {
    "name": "ipython",
    "version": 3
   },
   "file_extension": ".py",
   "mimetype": "text/x-python",
   "name": "python",
   "nbconvert_exporter": "python",
   "pygments_lexer": "ipython3",
   "version": "3.6.2"
  }
 },
 "nbformat": 4,
 "nbformat_minor": 2
}
