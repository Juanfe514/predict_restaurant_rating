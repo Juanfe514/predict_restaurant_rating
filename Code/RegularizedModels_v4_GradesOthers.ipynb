{
 "cells": [
  {
   "cell_type": "code",
   "execution_count": 1,
   "metadata": {},
   "outputs": [],
   "source": [
    "#Pkg.add(\"LowRankModels\")\n",
    "#Pkg.add(\"Plots\")\n",
    "#Pkg.update()"
   ]
  },
  {
   "cell_type": "code",
   "execution_count": 1,
   "metadata": {},
   "outputs": [],
   "source": [
    "using Convex\n",
    "using ECOS\n",
    "set_default_solver(ECOSSolver(verbose=0))\n",
    "using DataFrames\n",
    "#using ScikitLearn\n",
    "#using ScikitLearn.CrossValidation: train_test_split"
   ]
  },
  {
   "cell_type": "code",
   "execution_count": 2,
   "metadata": {},
   "outputs": [],
   "source": [
    "#using Plots"
   ]
  },
  {
   "cell_type": "markdown",
   "metadata": {},
   "source": [
    "### Reading data"
   ]
  },
  {
   "cell_type": "code",
   "execution_count": 3,
   "metadata": {},
   "outputs": [],
   "source": [
    "data = readtable(\"C:/Users/dbcar/Desktop/MessyData Project/FinalDataSet/Train1.csv\");\n",
    "data2 = readtable(\"C:/Users/dbcar/Desktop/MessyData Project/FinalDataSet/Train2.csv\");"
   ]
  },
  {
   "cell_type": "code",
   "execution_count": 4,
   "metadata": {},
   "outputs": [],
   "source": [
    "n = size(data,1)\n",
    "y = data[:GRADE].data\n",
    "\n",
    "X1 = [data[:FOOD].data data[:SERVICE].data data[:VALUE].data ones(n)]\n",
    "X2 = [data[:VALUE].data  data[:SERVICE].data  data[:FOOD].data  data[:NUMBER_OF_FOODS].data  data[:Lunch].data  data[:Dinner].data  data[:LateNight].data  data[:Breakfast].data  data[:Brunch].data  data[:Drinks].data  data[:Businessmeetings].data  data[:Romantic].data  data[:Specialoccasions].data  data[:Largegroups].data  data[:Familieswithchildren].data  data[:Kids].data  data[:Barscene].data  data[:Localcuisine].data  data[:Scenicview].data  data[:Reservations].data  data[:PrivateDining].data  data[:WheelchairAccessible].data  data[:ServesAlcohol].data  data[:Takeout].data  data[:Television].data  data[:FreeWifi].data  data[:Delivery].data  data[:AcceptsCreditCards].data  data[:OutdoorSeating].data  data[:Buffet].data  data[:ParkingAvailable].data  data[:Chelsea].data  data[:Midtown].data  data[:FlatironDistrict].data  data[:FinancialDistrict].data  data[:Harlem].data  data[:Manhattan].data  data[:GramercyPark].data  data[:GreenwichVillage].data  data[:Nolita].data  data[:TriBeCa].data  data[:Chinatown].data  data[:EastVillage].data  data[:UpperWestSide].data  data[:LowerEastSide].data  data[:UpperEastSide].data  data[:WestVillage].data  data[:SoHo].data  data[:LittleItaly].data ones(n)]\n",
    "X3 = [data[:VALUE].data  data[:SERVICE].data  data[:FOOD].data  data[:NUMBER_OF_FOODS].data  data[:Lunch].data  data[:Dinner].data  data[:LateNight].data  data[:Breakfast].data  data[:Brunch].data  data[:Drinks].data  data[:Businessmeetings].data  data[:Romantic].data  data[:Specialoccasions].data  data[:Largegroups].data  data[:Familieswithchildren].data  data[:Kids].data  data[:Barscene].data  data[:Localcuisine].data  data[:Scenicview].data  data[:Reservations].data  data[:PrivateDining].data  data[:WheelchairAccessible].data  data[:ServesAlcohol].data  data[:Takeout].data  data[:Television].data  data[:FreeWifi].data  data[:Delivery].data  data[:AcceptsCreditCards].data  data[:OutdoorSeating].data  data[:Buffet].data  data[:ParkingAvailable].data  data[:Chelsea].data  data[:Midtown].data  data[:FlatironDistrict].data  data[:FinancialDistrict].data  data[:Harlem].data  data[:Manhattan].data  data[:GramercyPark].data  data[:GreenwichVillage].data  data[:Nolita].data  data[:TriBeCa].data  data[:Chinatown].data  data[:EastVillage].data  data[:UpperWestSide].data  data[:LowerEastSide].data  data[:UpperEastSide].data  data[:WestVillage].data  data[:SoHo].data  data[:LittleItaly].data  data[:Great].data  data[:Good].data  data[:Delicious].data  data[:Nice].data  data[:Service].data  data[:Wait].data  data[:TOPIC_1].data  data[:TOPIC_2].data  data[:TOPIC_3].data  data[:TOPIC_4].data  data[:TOPIC_5].data  data[:TOPIC_6].data  data[:TOPIC_7].data  data[:TOPIC_8].data  data[:TOPIC_9].data  data[:TOPIC_10].data  data[:TOPIC_11].data  data[:TOPIC_12].data  data[:TOPIC_13].data  data[:TOPIC_14].data  data[:TOPIC_15].data  data[:TOPIC_16].data  data[:TOPIC_17].data  data[:TOPIC_18].data  data[:TOPIC_19].data  data[:TOPIC_20].data  data[:TOPIC_21].data  data[:TOPIC_22].data  data[:TOPIC_23].data  data[:TOPIC_24].data  data[:TOPIC_25].data  data[:TOPIC_26].data  data[:TOPIC_27].data  data[:TOPIC_28].data  data[:TOPIC_29].data  data[:TOPIC_30].data  data[:CLUSTER_KMEANS].data ones(n)]\n",
    "X4 = [data[:NUMBER_OF_FOODS].data  data[:Lunch].data  data[:Dinner].data  data[:LateNight].data  data[:Breakfast].data  data[:Brunch].data  data[:Drinks].data  data[:Businessmeetings].data  data[:Romantic].data  data[:Specialoccasions].data  data[:Largegroups].data  data[:Familieswithchildren].data  data[:Kids].data  data[:Barscene].data  data[:Localcuisine].data  data[:Scenicview].data  data[:Reservations].data  data[:PrivateDining].data  data[:WheelchairAccessible].data  data[:ServesAlcohol].data  data[:Takeout].data  data[:Television].data  data[:FreeWifi].data  data[:Delivery].data  data[:AcceptsCreditCards].data  data[:OutdoorSeating].data  data[:Buffet].data  data[:ParkingAvailable].data  data[:Chelsea].data  data[:Midtown].data  data[:FlatironDistrict].data  data[:FinancialDistrict].data  data[:Harlem].data  data[:Manhattan].data  data[:GramercyPark].data  data[:GreenwichVillage].data  data[:Nolita].data  data[:TriBeCa].data  data[:Chinatown].data  data[:EastVillage].data  data[:UpperWestSide].data  data[:LowerEastSide].data  data[:UpperEastSide].data  data[:WestVillage].data  data[:SoHo].data  data[:LittleItaly].data  data[:Great].data  data[:Good].data  data[:Delicious].data  data[:Nice].data  data[:Service].data  data[:Wait].data ones(n)];\n"
   ]
  },
  {
   "cell_type": "code",
   "execution_count": 5,
   "metadata": {},
   "outputs": [],
   "source": [
    "#Cross validation on train2\n",
    "n2 = size(data2,1)\n",
    "y2 = data2[:GRADE].data;"
   ]
  },
  {
   "cell_type": "code",
   "execution_count": 6,
   "metadata": {},
   "outputs": [],
   "source": [
    "Xt1 = [data2[:FOOD].data data2[:SERVICE].data data2[:VALUE].data ones(n2)] \n",
    "Xt2 = [data2[:VALUE].data  data2[:SERVICE].data  data2[:FOOD].data  data2[:NUMBER_OF_FOODS].data  data2[:Lunch].data  data2[:Dinner].data  data2[:LateNight].data  data2[:Breakfast].data  data2[:Brunch].data  data2[:Drinks].data  data2[:Businessmeetings].data  data2[:Romantic].data  data2[:Specialoccasions].data  data2[:Largegroups].data  data2[:Familieswithchildren].data  data2[:Kids].data  data2[:Barscene].data  data2[:Localcuisine].data  data2[:Scenicview].data  data2[:Reservations].data  data2[:PrivateDining].data  data2[:WheelchairAccessible].data  data2[:ServesAlcohol].data  data2[:Takeout].data  data2[:Television].data  data2[:FreeWifi].data  data2[:Delivery].data  data2[:AcceptsCreditCards].data  data2[:OutdoorSeating].data  data2[:Buffet].data  data2[:ParkingAvailable].data  data2[:Chelsea].data  data2[:Midtown].data  data2[:FlatironDistrict].data  data2[:FinancialDistrict].data  data2[:Harlem].data  data2[:Manhattan].data  data2[:GramercyPark].data  data2[:GreenwichVillage].data  data2[:Nolita].data  data2[:TriBeCa].data  data2[:Chinatown].data  data2[:EastVillage].data  data2[:UpperWestSide].data  data2[:LowerEastSide].data  data2[:UpperEastSide].data  data2[:WestVillage].data  data2[:SoHo].data  data2[:LittleItaly].data ones(n2)] \n",
    "Xt3 = [data2[:VALUE].data  data2[:SERVICE].data  data2[:FOOD].data  data2[:NUMBER_OF_FOODS].data  data2[:Lunch].data  data2[:Dinner].data  data2[:LateNight].data  data2[:Breakfast].data  data2[:Brunch].data  data2[:Drinks].data  data2[:Businessmeetings].data  data2[:Romantic].data  data2[:Specialoccasions].data  data2[:Largegroups].data  data2[:Familieswithchildren].data  data2[:Kids].data  data2[:Barscene].data  data2[:Localcuisine].data  data2[:Scenicview].data  data2[:Reservations].data  data2[:PrivateDining].data  data2[:WheelchairAccessible].data  data2[:ServesAlcohol].data  data2[:Takeout].data  data2[:Television].data  data2[:FreeWifi].data  data2[:Delivery].data  data2[:AcceptsCreditCards].data  data2[:OutdoorSeating].data  data2[:Buffet].data  data2[:ParkingAvailable].data  data2[:Chelsea].data  data2[:Midtown].data  data2[:FlatironDistrict].data  data2[:FinancialDistrict].data  data2[:Harlem].data  data2[:Manhattan].data  data2[:GramercyPark].data  data2[:GreenwichVillage].data  data2[:Nolita].data  data2[:TriBeCa].data  data2[:Chinatown].data  data2[:EastVillage].data  data2[:UpperWestSide].data  data2[:LowerEastSide].data  data2[:UpperEastSide].data  data2[:WestVillage].data  data2[:SoHo].data  data2[:LittleItaly].data  data2[:Great].data  data2[:Good].data  data2[:Delicious].data  data2[:Nice].data  data2[:Service].data  data2[:Wait].data  data2[:TOPIC_1].data  data2[:TOPIC_2].data  data2[:TOPIC_3].data  data2[:TOPIC_4].data  data2[:TOPIC_5].data  data2[:TOPIC_6].data  data2[:TOPIC_7].data  data2[:TOPIC_8].data  data2[:TOPIC_9].data  data2[:TOPIC_10].data  data2[:TOPIC_11].data  data2[:TOPIC_12].data  data2[:TOPIC_13].data  data2[:TOPIC_14].data  data2[:TOPIC_15].data  data2[:TOPIC_16].data  data2[:TOPIC_17].data  data2[:TOPIC_18].data  data2[:TOPIC_19].data  data2[:TOPIC_20].data  data2[:TOPIC_21].data  data2[:TOPIC_22].data  data2[:TOPIC_23].data  data2[:TOPIC_24].data  data2[:TOPIC_25].data  data2[:TOPIC_26].data  data2[:TOPIC_27].data  data2[:TOPIC_28].data  data2[:TOPIC_29].data  data2[:TOPIC_30].data  data2[:CLUSTER_KMEANS].data ones(n2)] \n",
    "Xt4 = [data2[:NUMBER_OF_FOODS].data  data2[:Lunch].data  data2[:Dinner].data  data2[:LateNight].data  data2[:Breakfast].data  data2[:Brunch].data  data2[:Drinks].data  data2[:Businessmeetings].data  data2[:Romantic].data  data2[:Specialoccasions].data  data2[:Largegroups].data  data2[:Familieswithchildren].data  data2[:Kids].data  data2[:Barscene].data  data2[:Localcuisine].data  data2[:Scenicview].data  data2[:Reservations].data  data2[:PrivateDining].data  data2[:WheelchairAccessible].data  data2[:ServesAlcohol].data  data2[:Takeout].data  data2[:Television].data  data2[:FreeWifi].data  data2[:Delivery].data  data2[:AcceptsCreditCards].data  data2[:OutdoorSeating].data  data2[:Buffet].data  data2[:ParkingAvailable].data  data2[:Chelsea].data  data2[:Midtown].data  data2[:FlatironDistrict].data  data2[:FinancialDistrict].data  data2[:Harlem].data  data2[:Manhattan].data  data2[:GramercyPark].data  data2[:GreenwichVillage].data  data2[:Nolita].data  data2[:TriBeCa].data  data2[:Chinatown].data  data2[:EastVillage].data  data2[:UpperWestSide].data  data2[:LowerEastSide].data  data2[:UpperEastSide].data  data2[:WestVillage].data  data2[:SoHo].data  data2[:LittleItaly].data  data2[:Great].data  data2[:Good].data  data2[:Delicious].data  data2[:Nice].data  data2[:Service].data  data2[:Wait].data ones(n2)];\n"
   ]
  },
  {
   "cell_type": "code",
   "execution_count": 7,
   "metadata": {},
   "outputs": [],
   "source": [
    "#X_comb=[X1,X2,X3,X4];\n",
    "#X_comb2=[Xt1,Xt2,Xt3,Xt4];\n",
    "X_comb=[X2];\n",
    "X_comb2=[Xt2];"
   ]
  },
  {
   "cell_type": "markdown",
   "metadata": {},
   "source": [
    "### Models and cross-validation"
   ]
  },
  {
   "cell_type": "markdown",
   "metadata": {},
   "source": [
    "### Base Line"
   ]
  },
  {
   "cell_type": "code",
   "execution_count": 8,
   "metadata": {},
   "outputs": [
    {
     "data": {
      "text/plain": [
       "3.564010263995097"
      ]
     },
     "execution_count": 8,
     "metadata": {},
     "output_type": "execute_result"
    }
   ],
   "source": [
    "wbase=mean(y)"
   ]
  },
  {
   "cell_type": "code",
   "execution_count": 9,
   "metadata": {},
   "outputs": [
    {
     "data": {
      "text/plain": [
       "1.0185706977497329"
      ]
     },
     "execution_count": 9,
     "metadata": {},
     "output_type": "execute_result"
    }
   ],
   "source": [
    "mse_base=sum((y.-wbase).^2)/length(y)"
   ]
  },
  {
   "cell_type": "code",
   "execution_count": null,
   "metadata": {},
   "outputs": [],
   "source": []
  },
  {
   "cell_type": "markdown",
   "metadata": {},
   "source": [
    "### Quadratic loss - no regularization"
   ]
  },
  {
   "cell_type": "code",
   "execution_count": 10,
   "metadata": {},
   "outputs": [],
   "source": [
    "# Fitting models\n",
    "a=1\n",
    "error_quad_test=[]\n",
    "\n",
    "for x in X_comb\n",
    "    w1=x\\y\n",
    "    error1=sum((y2.-X_comb2[a]*w1).^2)/length(y2)\n",
    "    w2=X_comb2[a]\\y2\n",
    "    error2=sum((y.-x*w2).^2)/length(y)\n",
    "        \n",
    "    push!(error_quad_test,mean([error1,error2]))\n",
    "    a=a+1\n",
    "        \n",
    "end"
   ]
  },
  {
   "cell_type": "code",
   "execution_count": 11,
   "metadata": {},
   "outputs": [
    {
     "data": {
      "text/plain": [
       "0.1075925210262117"
      ]
     },
     "execution_count": 11,
     "metadata": {},
     "output_type": "execute_result"
    }
   ],
   "source": [
    "mse_quad=minimum(error_quad_test)"
   ]
  },
  {
   "cell_type": "markdown",
   "metadata": {},
   "source": [
    "### l1 loss no regularization"
   ]
  },
  {
   "cell_type": "code",
   "execution_count": 12,
   "metadata": {},
   "outputs": [
    {
     "name": "stderr",
     "output_type": "stream",
     "text": [
      "WARNING: Method definition (::Type{ArrayViews.UnsafeContiguousView{T, N} where N where T}"
     ]
    }
   ],
   "source": [
    "# proximal gradient method\n",
    "include(\"proxgrad.jl\");"
   ]
  },
  {
   "cell_type": "code",
   "execution_count": 13,
   "metadata": {},
   "outputs": [
    {
     "name": "stderr",
     "output_type": "stream",
     "text": [
      ")(Ptr{T}, Int64, Tuple{Vararg{Int64, N}}) in module ArrayViews at C:\\Users\\dbcar\\AppData\\Local\\JuliaPro-0.6.1.1\\pkgs-0.6.1.1\\v0.6\\ArrayViews\\src\\arrviews.jl:18 overwritten at C:\\Users\\dbcar\\AppData\\Local\\JuliaPro-0.6.1.1\\pkgs-0.6.1.1\\v0.6\\ArrayViews\\src\\arrviews.jl:26.\n",
      "WARNING: Method definition isnan(DataArrays.NAtype) in module DataArrays"
     ]
    }
   ],
   "source": [
    "a=1\n",
    "error_l1loss_test=[]\n",
    "\n",
    "for x in X_comb\n",
    "    w1 = proxgrad(1/n*L1Loss(), ZeroReg(), x, y,maxiters=5000)\n",
    "    error1=sum((y2.-X_comb2[a]*w1).^2)/length(y2)\n",
    "    w2 = proxgrad(1/n2*L1Loss(), ZeroReg(), X_comb2[a], y2,maxiters=5000)\n",
    "    error2=sum((y.-x*w2).^2)/length(y)\n",
    "    \n",
    "    push!(error_l1loss_test,mean([error2,error1]))\n",
    "    a=a+1 \n",
    "    \n",
    "end"
   ]
  },
  {
   "cell_type": "code",
   "execution_count": 14,
   "metadata": {},
   "outputs": [
    {
     "name": "stderr",
     "output_type": "stream",
     "text": [
      " at C:\\\\\\\\\\\\\\\\\\\\\\\\\\\\\\\\\\\\\\\\\\\\\\\\\\\\\\\\\\\\\\\\\\\\\\\\\\\\\\\\\\\\\\\\\\\\\\\\\\\\\\\\\\\\\\Users\\dbcar\\AppData\\Local\\JuliaPro-0.6.1.1\\pkgs-0.6.1.1\\v0.6\\DataArrays\\src\\natype.jl:66 overwritten in module LowRankModels at C:\\Users\\dbcar\\AppData\\Local\\JuliaPro-0.6.1.1\\pkgs-0.6.1.1\\v0.6\\LowRankModels\\src\\fit_dataframe.jl:249.\n"
     ]
    },
    {
     "data": {
      "text/plain": [
       "0.10537781306483585"
      ]
     },
     "execution_count": 14,
     "metadata": {},
     "output_type": "execute_result"
    }
   ],
   "source": [
    "mse_l1loss=minimum(error_l1loss_test)"
   ]
  },
  {
   "cell_type": "markdown",
   "metadata": {},
   "source": [
    "#### Ridge regression (Quadratic loss + quadratic regularizer)"
   ]
  },
  {
   "cell_type": "code",
   "execution_count": 15,
   "metadata": {},
   "outputs": [
    {
     "data": {
      "text/plain": [
       "ridge_regression (generic function with 1 method)"
      ]
     },
     "execution_count": 15,
     "metadata": {},
     "output_type": "execute_result"
    }
   ],
   "source": [
    "function ridge_regression(X,y; λ=1)\n",
    "    d = size(X,2)\n",
    "    w = Variable(d)\n",
    "    p = minimize(sumsquares(X*w - y) + λ*sumsquares(w))\n",
    "    solve!(p)\n",
    "    return w.value\n",
    "end"
   ]
  },
  {
   "cell_type": "code",
   "execution_count": 16,
   "metadata": {},
   "outputs": [
    {
     "name": "stderr",
     "output_type": "stream",
     "text": [
      "\u001b[1m\u001b[33mWARNING: \u001b[39m\u001b[22m\u001b[33mArray(::Type{T}, m::Int) where T is deprecated, use Array{T}(m) instead.\u001b[39m\n",
      "Stacktrace:\n",
      " [1] \u001b[1mdepwarn\u001b[22m\u001b[22m\u001b[1m(\u001b[22m\u001b[22m::String, ::Symbol\u001b[1m)\u001b[22m\u001b[22m at \u001b[1m.\\deprecated.jl:70\u001b[22m\u001b[22m\n",
      " [2] \u001b[1mArray\u001b[22m\u001b[22m\u001b[1m(\u001b[22m\u001b[22m::Type{Convex.ConicConstr}, ::Int64\u001b[1m)\u001b[22m\u001b[22m at \u001b[1m.\\deprecated.jl:57\u001b[22m\u001b[22m\n",
      " [3] \u001b[1mconic_form!\u001b[22m\u001b[22m\u001b[1m(\u001b[22m\u001b[22m::Convex.SOCElemConstraint, ::Convex.UniqueConicForms\u001b[1m)\u001b[22m\u001b[22m at \u001b[1mC:\\Users\\dbcar\\AppData\\Local\\JuliaPro-0.6.1.1\\pkgs-0.6.1.1\\v0.6\\Convex\\src\\constraints\\soc_constraints.jl:50\u001b[22m\u001b[22m\n",
      " [4] \u001b[1mconic_form!\u001b[22m\u001b[22m\u001b[1m(\u001b[22m\u001b[22m::Convex.QolElemAtom, ::Convex.UniqueConicForms\u001b[1m)\u001b[22m\u001b[22m at \u001b[1mC:\\Users\\dbcar\\AppData\\Local\\JuliaPro-0.6.1.1\\pkgs-0.6.1.1\\v0.6\\Convex\\src\\atoms/second_order_cone\\qol_elementwise.jl:41\u001b[22m\u001b[22m\n",
      " [5] \u001b[1mconic_form!\u001b[22m\u001b[22m\u001b[1m(\u001b[22m\u001b[22m::Convex.AdditionAtom, ::Convex.UniqueConicForms\u001b[1m)\u001b[22m\u001b[22m at \u001b[1mC:\\Users\\dbcar\\AppData\\Local\\JuliaPro-0.6.1.1\\pkgs-0.6.1.1\\v0.6\\Convex\\src\\atoms/affine\\add_subtract.jl:108\u001b[22m\u001b[22m\n",
      " [6] \u001b[1mconic_form!\u001b[22m\u001b[22m\u001b[1m(\u001b[22m\u001b[22m::Convex.EqConstraint, ::Convex.UniqueConicForms\u001b[1m)\u001b[22m\u001b[22m at \u001b[1mC:\\Users\\dbcar\\AppData\\Local\\JuliaPro-0.6.1.1\\pkgs-0.6.1.1\\v0.6\\Convex\\src\\constraints\\constraints.jl:43\u001b[22m\u001b[22m\n",
      " [7] \u001b[1mconic_form!\u001b[22m\u001b[22m\u001b[1m(\u001b[22m\u001b[22m::Convex.Problem, ::Convex.UniqueConicForms\u001b[1m)\u001b[22m\u001b[22m at \u001b[1mC:\\Users\\dbcar\\AppData\\Local\\JuliaPro-0.6.1.1\\pkgs-0.6.1.1\\v0.6\\Convex\\src\\problems.jl:99\u001b[22m\u001b[22m\n",
      " [8] \u001b[1mconic_problem\u001b[22m\u001b[22m\u001b[1m(\u001b[22m\u001b[22m::Convex.Problem\u001b[1m)\u001b[22m\u001b[22m at \u001b[1mC:\\Users\\dbcar\\AppData\\Local\\JuliaPro-0.6.1.1\\pkgs-0.6.1.1\\v0.6\\Convex\\src\\problems.jl:124\u001b[22m\u001b[22m\n",
      " [9] \u001b[1m#solve!#25\u001b[22m\u001b[22m\u001b[1m(\u001b[22m\u001b[22m::Bool, ::Bool, ::Bool, ::Function, ::Convex.Problem\u001b[1m)\u001b[22m\u001b[22m at \u001b[1mC:\\Users\\dbcar\\AppData\\Local\\JuliaPro-0.6.1.1\\pkgs-0.6.1.1\\v0.6\\Convex\\src\\solution.jl:25\u001b[22m\u001b[22m\n",
      " [10] \u001b[1m#ridge_regression#15\u001b[22m\u001b[22m\u001b[1m(\u001b[22m\u001b[22m::Float64, ::Function, ::Array{Float64,2}, ::Array{Float64,1}\u001b[1m)\u001b[22m\u001b[22m at \u001b[1m.\\In[15]:5\u001b[22m\u001b[22m\n",
      " [11] \u001b[1m(::#kw##ridge_regression)\u001b[22m\u001b[22m\u001b[1m(\u001b[22m\u001b[22m::Array{Any,1}, ::#ridge_regression, ::Array{Float64,2}, ::Array{Float64,1}\u001b[1m)\u001b[22m\u001b[22m at \u001b[1m.\\<missing>:0\u001b[22m\u001b[22m\n",
      " [12] \u001b[1mmacro expansion\u001b[22m\u001b[22m at \u001b[1m.\\In[16]:11\u001b[22m\u001b[22m [inlined]\n",
      " [13] \u001b[1manonymous\u001b[22m\u001b[22m at \u001b[1m.\\<missing>:?\u001b[22m\u001b[22m\n",
      " [14] \u001b[1minclude_string\u001b[22m\u001b[22m\u001b[1m(\u001b[22m\u001b[22m::String, ::String\u001b[1m)\u001b[22m\u001b[22m at \u001b[1m.\\loading.jl:522\u001b[22m\u001b[22m\n",
      " [15] \u001b[1minclude_string\u001b[22m\u001b[22m\u001b[1m(\u001b[22m\u001b[22m::Module, ::String, ::String\u001b[1m)\u001b[22m\u001b[22m at \u001b[1mC:\\\\\\\\\\\\\\\\\\\\\\\\\\\\\\\\\\\\\\\\\\\\\\\\\\\\\\\\\\\\\\\\\\\\\\\\\\\\\\\\\\\\\\\\\\\\\\\\\\\\\\\\\\\\\\Users\\dbcar\\AppData\\Local\\JuliaPro-0.6.1.1\\pkgs-0.6.1.1\\v0.6\\Compat\\src\\Compat.jl:464\u001b[22m\u001b[22m\n",
      " [16] \u001b[1mexecute_request\u001b[22m\u001b[22m\u001b[1m(\u001b[22m\u001b[22m::ZMQ.Socket, ::IJulia.Msg\u001b[1m)\u001b[22m\u001b[22m at \u001b[1mC:\\Users\\dbcar\\AppData\\Local\\JuliaPro-0.6.1.1\\pkgs-0.6.1.1\\v0.6\\IJulia\\src\\execute_request.jl:154\u001b[22m\u001b[22m\n",
      " [17] \u001b[1meventloop\u001b[22m\u001b[22m\u001b[1m(\u001b[22m\u001b[22m::ZMQ.Socket\u001b[1m)\u001b[22m\u001b[22m at \u001b[1mC:\\Users\\dbcar\\AppData\\Local\\JuliaPro-0.6.1.1\\pkgs-0.6.1.1\\v0.6\\IJulia\\src\\eventloop.jl:8\u001b[22m\u001b[22m\n",
      " [18] \u001b[1m(::IJulia.##14#17)\u001b[22m\u001b[22m\u001b[1m(\u001b[22m\u001b[22m\u001b[1m)\u001b[22m\u001b[22m at \u001b[1m.\\task.jl:335\u001b[22m\u001b[22m\n",
      "while loading In[16], in expression starting on line 7\n",
      "\u001b[1m\u001b[33mWARNING: \u001b[39m\u001b[22m\u001b[33misnan(x::AbstractArray{T}) where T <: Number is deprecated, use isnan.(x) instead.\u001b[39m\n",
      "Stacktrace:\n",
      " [1] \u001b[1mdepwarn\u001b[22m\u001b[22m\u001b[1m(\u001b[22m\u001b[22m::String, ::Symbol\u001b[1m)\u001b[22m\u001b[22m at \u001b[1m.\\deprecated.jl:70\u001b[22m\u001b[22m\n",
      " [2] \u001b[1misnan\u001b[22m\u001b[22m\u001b[1m(\u001b[22m\u001b[22m::Array{Float64,1}\u001b[1m)\u001b[22m\u001b[22m at \u001b[1m.\\deprecated.jl:57\u001b[22m\u001b[22m\n",
      " [3] \u001b[1mpopulate_solution!\u001b[22m\u001b[22m\u001b[1m(\u001b[22m\u001b[22m::ECOS.ECOSMathProgModel, ::Convex.Problem, ::Dict{UInt64,Tuple{Int64,Int64}}, ::Array{Convex.ConicConstr,1}\u001b[1m)\u001b[22m\u001b[22m at \u001b[1mC:\\Users\\dbcar\\AppData\\Local\\JuliaPro-0.6.1.1\\pkgs-0.6.1.1\\v0.6\\Convex\\src\\solution.jl:118\u001b[22m\u001b[22m\n",
      " [4] \u001b[1m#solve!#25\u001b[22m\u001b[22m\u001b[1m(\u001b[22m\u001b[22m::Bool, ::Bool, ::Bool, ::Function, ::Convex.Problem\u001b[1m)\u001b[22m\u001b[22m at \u001b[1mC:\\Users\\dbcar\\AppData\\Local\\JuliaPro-0.6.1.1\\pkgs-0.6.1.1\\v0.6\\Convex\\src\\solution.jl:38\u001b[22m\u001b[22m\n",
      " [5] \u001b[1m#ridge_regression#15\u001b[22m\u001b[22m\u001b[1m(\u001b[22m\u001b[22m::Float64, ::Function, ::Array{Float64,2}, ::Array{Float64,1}\u001b[1m)\u001b[22m\u001b[22m at \u001b[1m.\\In[15]:5\u001b[22m\u001b[22m\n",
      " [6] \u001b[1m(::#kw##ridge_regression)\u001b[22m\u001b[22m\u001b[1m(\u001b[22m\u001b[22m::Array{Any,1}, ::#ridge_regression, ::Array{Float64,2}, ::Array{Float64,1}\u001b[1m)\u001b[22m\u001b[22m at \u001b[1m.\\<missing>:0\u001b[22m\u001b[22m\n",
      " [7] \u001b[1mmacro expansion\u001b[22m\u001b[22m at \u001b[1m.\\In[16]:11\u001b[22m\u001b[22m [inlined]\n",
      " [8] \u001b[1manonymous\u001b[22m\u001b[22m at \u001b[1m.\\<missing>:?\u001b[22m\u001b[22m\n",
      " [9] \u001b[1minclude_string\u001b[22m\u001b[22m\u001b[1m(\u001b[22m\u001b[22m::String, ::String\u001b[1m)\u001b[22m\u001b[22m at \u001b[1m.\\loading.jl:522\u001b[22m\u001b[22m\n",
      " [10] \u001b[1minclude_string\u001b[22m\u001b[22m\u001b[1m(\u001b[22m\u001b[22m::Module, ::String, ::String\u001b[1m)\u001b[22m\u001b[22m at \u001b[1mC:\\\\\\\\\\\\\\\\\\\\\\\\\\\\\\\\\\\\\\\\\\\\\\\\\\\\\\\\\\\\\\\\\\\\\\\\\\\\\\\\\\\\\\\\\\\\\\\\\\\\\\\\\\\\\\Users\\dbcar\\AppData\\Local\\JuliaPro-0.6.1.1\\pkgs-0.6.1.1\\v0.6\\Compat\\src\\Compat.jl:464\u001b[22m\u001b[22m\n",
      " [11] \u001b[1mexecute_request\u001b[22m\u001b[22m\u001b[1m(\u001b[22m\u001b[22m::ZMQ.Socket, ::IJulia.Msg\u001b[1m)\u001b[22m\u001b[22m at \u001b[1mC:\\Users\\dbcar\\AppData\\Local\\JuliaPro-0.6.1.1\\pkgs-0.6.1.1\\v0.6\\IJulia\\src\\execute_request.jl:154\u001b[22m\u001b[22m\n",
      " [12] \u001b[1meventloop\u001b[22m\u001b[22m\u001b[1m(\u001b[22m\u001b[22m::ZMQ.Socket\u001b[1m)\u001b[22m\u001b[22m at \u001b[1mC:\\Users\\dbcar\\AppData\\Local\\JuliaPro-0.6.1.1\\pkgs-0.6.1.1\\v0.6\\IJulia\\src\\eventloop.jl:8\u001b[22m\u001b[22m\n",
      " [13] \u001b[1m(::IJulia.##14#17)\u001b[22m\u001b[22m\u001b[1m(\u001b[22m\u001b[22m\u001b[1m)\u001b[22m\u001b[22m at \u001b[1m.\\task.jl:335\u001b[22m\u001b[22m\n",
      "while loading In[16], in expression starting on line 7\n"
     ]
    }
   ],
   "source": [
    "# Fitting models\n",
    "a=1\n",
    "error_ridge_test=[]\n",
    "la=[]\n",
    "model=[]\n",
    "\n",
    "for x in X_comb\n",
    "    \n",
    "    for l in 0.1:0.2:5\n",
    "        #Fitting the model\n",
    "        w1 = ridge_regression(x,y,λ=l);\n",
    "        error1=sum((y2.-X_comb2[a]*w1).^2)/length(y2)\n",
    "        w2 = ridge_regression(X_comb2[a],y2,λ=l);\n",
    "        error2=sum((y.-x*w2).^2)/length(y)      \n",
    "        \n",
    "        push!(error_ridge_test,mean([error2,error1]))\n",
    "        push!(la,l)\n",
    "        push!(model,a)\n",
    "    end\n",
    "    a=a+1\n",
    "end\n"
   ]
  },
  {
   "cell_type": "code",
   "execution_count": 17,
   "metadata": {},
   "outputs": [
    {
     "data": {
      "text/plain": [
       "4.9"
      ]
     },
     "execution_count": 17,
     "metadata": {},
     "output_type": "execute_result"
    }
   ],
   "source": [
    "la[indmin(error_ridge_test)]"
   ]
  },
  {
   "cell_type": "code",
   "execution_count": 18,
   "metadata": {},
   "outputs": [
    {
     "data": {
      "text/plain": [
       "1"
      ]
     },
     "execution_count": 18,
     "metadata": {},
     "output_type": "execute_result"
    }
   ],
   "source": [
    "model[indmin(error_ridge_test)]"
   ]
  },
  {
   "cell_type": "code",
   "execution_count": 19,
   "metadata": {},
   "outputs": [
    {
     "data": {
      "text/plain": [
       "0.1038332672607287"
      ]
     },
     "execution_count": 19,
     "metadata": {},
     "output_type": "execute_result"
    }
   ],
   "source": [
    "mse_ridge=minimum(error_ridge_test)"
   ]
  },
  {
   "cell_type": "markdown",
   "metadata": {},
   "source": [
    "#### Quadratic + lasso regularizer"
   ]
  },
  {
   "cell_type": "code",
   "execution_count": 20,
   "metadata": {},
   "outputs": [
    {
     "data": {
      "text/plain": [
       "lasso (generic function with 1 method)"
      ]
     },
     "execution_count": 20,
     "metadata": {},
     "output_type": "execute_result"
    }
   ],
   "source": [
    "function lasso(X,y; λ=1)\n",
    "    d = size(X,2)\n",
    "    w = Variable(d)\n",
    "    p = minimize(sumsquares(X*w - y) + λ*norm(w,1))\n",
    "    solve!(p)\n",
    "    return w.value\n",
    "end"
   ]
  },
  {
   "cell_type": "code",
   "execution_count": 21,
   "metadata": {},
   "outputs": [],
   "source": [
    "#w = lasso(X4,y; λ=1);\n",
    "#print(w)\n",
    "#length(w)"
   ]
  },
  {
   "cell_type": "code",
   "execution_count": 22,
   "metadata": {},
   "outputs": [
    {
     "name": "stderr",
     "output_type": "stream",
     "text": [
      "\u001b[1m\u001b[33mWARNING: \u001b[39m\u001b[22m\u001b[33mArray(::Type{T}, m::Int) where T is deprecated, use Array{T}(m) instead.\u001b[39m\n",
      "Stacktrace:\n",
      " [1] \u001b[1mdepwarn\u001b[22m\u001b[22m\u001b[1m(\u001b[22m\u001b[22m::String, ::Symbol\u001b[1m)\u001b[22m\u001b[22m at \u001b[1m.\\deprecated.jl:70\u001b[22m\u001b[22m\n",
      " [2] \u001b[1mArray\u001b[22m\u001b[22m\u001b[1m(\u001b[22m\u001b[22m::Type{Convex.ConicConstr}, ::Int64\u001b[1m)\u001b[22m\u001b[22m at \u001b[1m.\\deprecated.jl:57\u001b[22m\u001b[22m\n",
      " [3] \u001b[1mconic_form!\u001b[22m\u001b[22m\u001b[1m(\u001b[22m\u001b[22m::Convex.SOCElemConstraint, ::Convex.UniqueConicForms\u001b[1m)\u001b[22m\u001b[22m at \u001b[1mC:\\Users\\dbcar\\AppData\\Local\\JuliaPro-0.6.1.1\\pkgs-0.6.1.1\\v0.6\\Convex\\src\\constraints\\soc_constraints.jl:50\u001b[22m\u001b[22m\n",
      " [4] \u001b[1mconic_form!\u001b[22m\u001b[22m\u001b[1m(\u001b[22m\u001b[22m::Convex.QolElemAtom, ::Convex.UniqueConicForms\u001b[1m)\u001b[22m\u001b[22m at \u001b[1mC:\\Users\\dbcar\\AppData\\Local\\JuliaPro-0.6.1.1\\pkgs-0.6.1.1\\v0.6\\Convex\\src\\atoms/second_order_cone\\qol_elementwise.jl:41\u001b[22m\u001b[22m\n",
      " [5] \u001b[1mconic_form!\u001b[22m\u001b[22m\u001b[1m(\u001b[22m\u001b[22m::Convex.AdditionAtom, ::Convex.UniqueConicForms\u001b[1m)\u001b[22m\u001b[22m at \u001b[1mC:\\Users\\dbcar\\AppData\\Local\\JuliaPro-0.6.1.1\\pkgs-0.6.1.1\\v0.6\\Convex\\src\\atoms/affine\\add_subtract.jl:108\u001b[22m\u001b[22m\n",
      " [6] \u001b[1mconic_form!\u001b[22m\u001b[22m\u001b[1m(\u001b[22m\u001b[22m::Convex.EqConstraint, ::Convex.UniqueConicForms\u001b[1m)\u001b[22m\u001b[22m at \u001b[1mC:\\Users\\dbcar\\AppData\\Local\\JuliaPro-0.6.1.1\\pkgs-0.6.1.1\\v0.6\\Convex\\src\\constraints\\constraints.jl:43\u001b[22m\u001b[22m\n",
      " [7] \u001b[1mconic_form!\u001b[22m\u001b[22m\u001b[1m(\u001b[22m\u001b[22m::Convex.Problem, ::Convex.UniqueConicForms\u001b[1m)\u001b[22m\u001b[22m at \u001b[1mC:\\Users\\dbcar\\AppData\\Local\\JuliaPro-0.6.1.1\\pkgs-0.6.1.1\\v0.6\\Convex\\src\\problems.jl:99\u001b[22m\u001b[22m\n",
      " [8] \u001b[1mconic_problem\u001b[22m\u001b[22m\u001b[1m(\u001b[22m\u001b[22m::Convex.Problem\u001b[1m)\u001b[22m\u001b[22m at \u001b[1mC:\\Users\\dbcar\\AppData\\Local\\JuliaPro-0.6.1.1\\pkgs-0.6.1.1\\v0.6\\Convex\\src\\problems.jl:124\u001b[22m\u001b[22m\n",
      " [9] \u001b[1m#solve!#25\u001b[22m\u001b[22m\u001b[1m(\u001b[22m\u001b[22m::Bool, ::Bool, ::Bool, ::Function, ::Convex.Problem\u001b[1m)\u001b[22m\u001b[22m at \u001b[1mC:\\Users\\dbcar\\AppData\\Local\\JuliaPro-0.6.1.1\\pkgs-0.6.1.1\\v0.6\\Convex\\src\\solution.jl:25\u001b[22m\u001b[22m\n",
      " [10] \u001b[1m#lasso#20\u001b[22m\u001b[22m\u001b[1m(\u001b[22m\u001b[22m::Float64, ::Function, ::Array{Float64,2}, ::Array{Float64,1}\u001b[1m)\u001b[22m\u001b[22m at \u001b[1m.\\In[20]:5\u001b[22m\u001b[22m\n",
      " [11] \u001b[1m(::#kw##lasso)\u001b[22m\u001b[22m\u001b[1m(\u001b[22m\u001b[22m::Array{Any,1}, ::#lasso, ::Array{Float64,2}, ::Array{Float64,1}\u001b[1m)\u001b[22m\u001b[22m at \u001b[1m.\\<missing>:0\u001b[22m\u001b[22m\n",
      " [12] \u001b[1mmacro expansion\u001b[22m\u001b[22m at \u001b[1m.\\In[22]:10\u001b[22m\u001b[22m [inlined]\n",
      " [13] \u001b[1manonymous\u001b[22m\u001b[22m at \u001b[1m.\\<missing>:?\u001b[22m\u001b[22m\n",
      " [14] \u001b[1minclude_string\u001b[22m\u001b[22m\u001b[1m(\u001b[22m\u001b[22m::String, ::String\u001b[1m)\u001b[22m\u001b[22m at \u001b[1m.\\loading.jl:522\u001b[22m\u001b[22m\n",
      " [15] \u001b[1minclude_string\u001b[22m\u001b[22m\u001b[1m(\u001b[22m\u001b[22m::Module, ::String, ::String\u001b[1m)\u001b[22m\u001b[22m at \u001b[1mC:\\\\\\\\\\\\\\\\\\\\\\\\\\\\\\\\\\\\\\\\\\\\\\\\\\\\\\\\\\\\\\\\\\\\\\\\\\\\\\\\\\\\\\\\\\\\\\\\\\\\\\\\\\\\\\Users\\dbcar\\AppData\\Local\\JuliaPro-0.6.1.1\\pkgs-0.6.1.1\\v0.6\\Compat\\src\\Compat.jl:464\u001b[22m\u001b[22m\n",
      " [16] \u001b[1mexecute_request\u001b[22m\u001b[22m\u001b[1m(\u001b[22m\u001b[22m::ZMQ.Socket, ::IJulia.Msg\u001b[1m)\u001b[22m\u001b[22m at \u001b[1mC:\\Users\\dbcar\\AppData\\Local\\JuliaPro-0.6.1.1\\pkgs-0.6.1.1\\v0.6\\IJulia\\src\\execute_request.jl:154\u001b[22m\u001b[22m\n",
      " [17] \u001b[1meventloop\u001b[22m\u001b[22m\u001b[1m(\u001b[22m\u001b[22m::ZMQ.Socket\u001b[1m)\u001b[22m\u001b[22m at \u001b[1mC:\\Users\\dbcar\\AppData\\Local\\JuliaPro-0.6.1.1\\pkgs-0.6.1.1\\v0.6\\IJulia\\src\\eventloop.jl:8\u001b[22m\u001b[22m\n",
      " [18] \u001b[1m(::IJulia.##14#17)\u001b[22m\u001b[22m\u001b[1m(\u001b[22m\u001b[22m\u001b[1m)\u001b[22m\u001b[22m at \u001b[1m.\\task.jl:335\u001b[22m\u001b[22m\n",
      "while loading In[22], in expression starting on line 7\n",
      "\u001b[1m\u001b[33mWARNING: \u001b[39m\u001b[22m\u001b[33misnan(x::AbstractArray{T}) where T <: Number is deprecated, use isnan.(x) instead.\u001b[39m\n",
      "Stacktrace:\n",
      " [1] \u001b[1mdepwarn\u001b[22m\u001b[22m\u001b[1m(\u001b[22m\u001b[22m::String, ::Symbol\u001b[1m)\u001b[22m\u001b[22m at \u001b[1m.\\deprecated.jl:70\u001b[22m\u001b[22m\n",
      " [2] \u001b[1misnan\u001b[22m\u001b[22m\u001b[1m(\u001b[22m\u001b[22m::Array{Float64,1}\u001b[1m)\u001b[22m\u001b[22m at \u001b[1m.\\deprecated.jl:57\u001b[22m\u001b[22m\n",
      " [3] \u001b[1mpopulate_solution!\u001b[22m\u001b[22m\u001b[1m(\u001b[22m\u001b[22m::ECOS.ECOSMathProgModel, ::Convex.Problem, ::Dict{UInt64,Tuple{Int64,Int64}}, ::Array{Convex.ConicConstr,1}\u001b[1m)\u001b[22m\u001b[22m at \u001b[1mC:\\Users\\dbcar\\AppData\\Local\\JuliaPro-0.6.1.1\\pkgs-0.6.1.1\\v0.6\\Convex\\src\\solution.jl:118\u001b[22m\u001b[22m\n",
      " [4] \u001b[1m#solve!#25\u001b[22m\u001b[22m\u001b[1m(\u001b[22m\u001b[22m::Bool, ::Bool, ::Bool, ::Function, ::Convex.Problem\u001b[1m)\u001b[22m\u001b[22m at \u001b[1mC:\\Users\\dbcar\\AppData\\Local\\JuliaPro-0.6.1.1\\pkgs-0.6.1.1\\v0.6\\Convex\\src\\solution.jl:38\u001b[22m\u001b[22m\n",
      " [5] \u001b[1m#lasso#20\u001b[22m\u001b[22m\u001b[1m(\u001b[22m\u001b[22m::Float64, ::Function, ::Array{Float64,2}, ::Array{Float64,1}\u001b[1m)\u001b[22m\u001b[22m at \u001b[1m.\\In[20]:5\u001b[22m\u001b[22m\n",
      " [6] \u001b[1m(::#kw##lasso)\u001b[22m\u001b[22m\u001b[1m(\u001b[22m\u001b[22m::Array{Any,1}, ::#lasso, ::Array{Float64,2}, ::Array{Float64,1}\u001b[1m)\u001b[22m\u001b[22m at \u001b[1m.\\<missing>:0\u001b[22m\u001b[22m\n",
      " [7] \u001b[1mmacro expansion\u001b[22m\u001b[22m at \u001b[1m.\\In[22]:10\u001b[22m\u001b[22m [inlined]\n",
      " [8] \u001b[1manonymous\u001b[22m\u001b[22m at \u001b[1m.\\<missing>:?\u001b[22m\u001b[22m\n",
      " [9] \u001b[1minclude_string\u001b[22m\u001b[22m\u001b[1m(\u001b[22m\u001b[22m::String, ::String\u001b[1m)\u001b[22m\u001b[22m at \u001b[1m.\\loading.jl:522\u001b[22m\u001b[22m\n",
      " [10] \u001b[1minclude_string\u001b[22m\u001b[22m\u001b[1m(\u001b[22m\u001b[22m::Module, ::String, ::String\u001b[1m)\u001b[22m\u001b[22m at \u001b[1mC:\\\\\\\\\\\\\\\\\\\\\\\\\\\\\\\\\\\\\\\\\\\\\\\\\\\\\\\\\\\\\\\\\\\\\\\\\\\\\\\\\\\\\\\\\\\\\\\\\\\\\\\\\\\\\\Users\\dbcar\\AppData\\Local\\JuliaPro-0.6.1.1\\pkgs-0.6.1.1\\v0.6\\Compat\\src\\Compat.jl:464\u001b[22m\u001b[22m\n",
      " [11] \u001b[1mexecute_request\u001b[22m\u001b[22m\u001b[1m(\u001b[22m\u001b[22m::ZMQ.Socket, ::IJulia.Msg\u001b[1m)\u001b[22m\u001b[22m at \u001b[1mC:\\Users\\dbcar\\AppData\\Local\\JuliaPro-0.6.1.1\\pkgs-0.6.1.1\\v0.6\\IJulia\\src\\execute_request.jl:154\u001b[22m\u001b[22m\n",
      " [12] \u001b[1meventloop\u001b[22m\u001b[22m\u001b[1m(\u001b[22m\u001b[22m::ZMQ.Socket\u001b[1m)\u001b[22m\u001b[22m at \u001b[1mC:\\Users\\dbcar\\AppData\\Local\\JuliaPro-0.6.1.1\\pkgs-0.6.1.1\\v0.6\\IJulia\\src\\eventloop.jl:8\u001b[22m\u001b[22m\n",
      " [13] \u001b[1m(::IJulia.##14#17)\u001b[22m\u001b[22m\u001b[1m(\u001b[22m\u001b[22m\u001b[1m)\u001b[22m\u001b[22m at \u001b[1m.\\task.jl:335\u001b[22m\u001b[22m\n",
      "while loading In[22], in expression starting on line 7\n"
     ]
    }
   ],
   "source": [
    "# Fitting models\n",
    "a=1\n",
    "error_lasso_test=[]\n",
    "model=[]\n",
    "la=[]\n",
    "\n",
    "for x in X_comb\n",
    "    for l in 0.1:0.2:5\n",
    "        #Fitting the model\n",
    "        w1 = lasso(x,y; λ=l)\n",
    "        error1=sum((y2.-X_comb2[a]*w1).^2)/length(y2)\n",
    "        w2 = lasso(X_comb2[a],y2; λ=l)\n",
    "        error2=sum((y.-x*w2).^2)/length(y)\n",
    "                \n",
    "        push!(error_lasso_test,mean([error2,error1]))\n",
    "        push!(la,l)\n",
    "        push!(model,a)        \n",
    "    end\n",
    "    a=a+1 \n",
    "end"
   ]
  },
  {
   "cell_type": "code",
   "execution_count": 23,
   "metadata": {},
   "outputs": [
    {
     "data": {
      "text/plain": [
       "4.9"
      ]
     },
     "execution_count": 23,
     "metadata": {},
     "output_type": "execute_result"
    }
   ],
   "source": [
    "la[indmin(error_lasso_test)]"
   ]
  },
  {
   "cell_type": "code",
   "execution_count": 24,
   "metadata": {},
   "outputs": [
    {
     "data": {
      "text/plain": [
       "1"
      ]
     },
     "execution_count": 24,
     "metadata": {},
     "output_type": "execute_result"
    }
   ],
   "source": [
    "model[indmin(error_lasso_test)]"
   ]
  },
  {
   "cell_type": "code",
   "execution_count": 25,
   "metadata": {},
   "outputs": [
    {
     "data": {
      "text/plain": [
       "0.10025642989222117"
      ]
     },
     "execution_count": 25,
     "metadata": {},
     "output_type": "execute_result"
    }
   ],
   "source": [
    "mse_lasso=minimum(error_lasso_test)"
   ]
  },
  {
   "cell_type": "markdown",
   "metadata": {},
   "source": [
    "#### L1 Loss + quadratic regularizer"
   ]
  },
  {
   "cell_type": "code",
   "execution_count": 26,
   "metadata": {},
   "outputs": [
    {
     "name": "stderr",
     "output_type": "stream",
     "text": [
      "\u001b[1m\u001b[33mWARNING: \u001b[39m\u001b[22m\u001b[33msumabs2(x) is deprecated, use sum(abs2, x) instead.\u001b[39m\n",
      "Stacktrace:\n",
      " [1] \u001b[1mdepwarn\u001b[22m\u001b[22m\u001b[1m(\u001b[22m\u001b[22m::String, ::Symbol\u001b[1m)\u001b[22m\u001b[22m at \u001b[1m.\\deprecated.jl:70\u001b[22m\u001b[22m\n",
      " [2] \u001b[1msumabs2\u001b[22m\u001b[22m\u001b[1m(\u001b[22m\u001b[22m::Array{Float64,1}\u001b[1m)\u001b[22m\u001b[22m at \u001b[1m.\\deprecated.jl:57\u001b[22m\u001b[22m\n",
      " [3] \u001b[1mevaluate\u001b[22m\u001b[22m at \u001b[1mC:\\Users\\dbcar\\AppData\\Local\\JuliaPro-0.6.1.1\\pkgs-0.6.1.1\\v0.6\\LowRankModels\\src\\regularizers.jl:57\u001b[22m\u001b[22m [inlined]\n",
      " [4] \u001b[1m#proxgrad_linesearch#8\u001b[22m\u001b[22m\u001b[1m(\u001b[22m\u001b[22m::Int64, ::Int64, ::Array{Float64,1}, ::LowRankModels.ConvergenceHistory, ::Function, ::LowRankModels.L1Loss, ::LowRankModels.QuadReg, ::Array{Float64,2}, ::Array{Float64,1}\u001b[1m)\u001b[22m\u001b[22m at \u001b[1mC:\\Users\\dbcar\\Desktop\\MessyData Project\\proxgrad.jl:42\u001b[22m\u001b[22m\n",
      " [5] \u001b[1m(::#kw##proxgrad_linesearch)\u001b[22m\u001b[22m\u001b[1m(\u001b[22m\u001b[22m::Array{Any,1}, ::#proxgrad_linesearch, ::LowRankModels.L1Loss, ::LowRankModels.QuadReg, ::Array{Float64,2}, ::Array{Float64,1}\u001b[1m)\u001b[22m\u001b[22m at \u001b[1m.\\<missing>:0\u001b[22m\u001b[22m\n",
      " [6] \u001b[1m#proxgrad#7\u001b[22m\u001b[22m\u001b[1m(\u001b[22m\u001b[22m::Array{Any,1}, ::Function, ::LowRankModels.L1Loss, ::LowRankModels.QuadReg, ::Vararg{Any,N} where N\u001b[1m)\u001b[22m\u001b[22m at \u001b[1mC:\\Users\\dbcar\\Desktop\\MessyData Project\\proxgrad.jl:29\u001b[22m\u001b[22m\n",
      " [7] \u001b[1m(::#kw##proxgrad)\u001b[22m\u001b[22m\u001b[1m(\u001b[22m\u001b[22m::Array{Any,1}, ::#proxgrad, ::LowRankModels.L1Loss, ::LowRankModels.QuadReg, ::Vararg{Any,N} where N\u001b[1m)\u001b[22m\u001b[22m at \u001b[1m.\\<missing>:0\u001b[22m\u001b[22m\n",
      " [8] \u001b[1mmacro expansion\u001b[22m\u001b[22m at \u001b[1m.\\In[26]:9\u001b[22m\u001b[22m [inlined]\n",
      " [9] \u001b[1manonymous\u001b[22m\u001b[22m at \u001b[1m.\\<missing>:?\u001b[22m\u001b[22m\n",
      " [10] \u001b[1minclude_string\u001b[22m\u001b[22m\u001b[1m(\u001b[22m\u001b[22m::String, ::String\u001b[1m)\u001b[22m\u001b[22m at \u001b[1m.\\loading.jl:522\u001b[22m\u001b[22m\n",
      " [11] \u001b[1minclude_string\u001b[22m\u001b[22m\u001b[1m(\u001b[22m\u001b[22m::Module, ::String, ::String\u001b[1m)\u001b[22m\u001b[22m at \u001b[1mC:\\\\\\\\\\\\\\\\\\\\\\\\\\\\\\\\\\\\\\\\\\\\\\\\\\\\\\\\\\\\\\\\\\\\\\\\\\\\\\\\\\\\\\\\\\\\\\\\\\\\\\\\\\\\\\Users\\dbcar\\AppData\\Local\\JuliaPro-0.6.1.1\\pkgs-0.6.1.1\\v0.6\\Compat\\src\\Compat.jl:464\u001b[22m\u001b[22m\n",
      " [12] \u001b[1mexecute_request\u001b[22m\u001b[22m\u001b[1m(\u001b[22m\u001b[22m::ZMQ.Socket, ::IJulia.Msg\u001b[1m)\u001b[22m\u001b[22m at \u001b[1mC:\\Users\\dbcar\\AppData\\Local\\JuliaPro-0.6.1.1\\pkgs-0.6.1.1\\v0.6\\IJulia\\src\\execute_request.jl:154\u001b[22m\u001b[22m\n",
      " [13] \u001b[1meventloop\u001b[22m\u001b[22m\u001b[1m(\u001b[22m\u001b[22m::ZMQ.Socket\u001b[1m)\u001b[22m\u001b[22m at \u001b[1mC:\\Users\\dbcar\\AppData\\Local\\JuliaPro-0.6.1.1\\pkgs-0.6.1.1\\v0.6\\IJulia\\src\\eventloop.jl:8\u001b[22m\u001b[22m\n",
      " [14] \u001b[1m(::IJulia.##14#17)\u001b[22m\u001b[22m\u001b[1m(\u001b[22m\u001b[22m\u001b[1m)\u001b[22m\u001b[22m at \u001b[1m.\\task.jl:335\u001b[22m\u001b[22m\n",
      "while loading In[26], in expression starting on line 6\n"
     ]
    }
   ],
   "source": [
    "a=1\n",
    "error_l1quad_test=[]\n",
    "model=[]\n",
    "la=[]\n",
    "\n",
    "for x in X_comb\n",
    "    for l in 0.1:0.2:5\n",
    "        #Fitting the model\n",
    "        w1 = proxgrad(1/n*L1Loss(), QuadReg(l), x, y,maxiters=5000)\n",
    "        error1=sum((y2.-X_comb2[a]*w1).^2)/length(y2)\n",
    "        w2 = proxgrad(1/n2*L1Loss(), QuadReg(l), X_comb2[a], y2,maxiters=5000)\n",
    "        error2=sum((y.-x*w2).^2)/length(y)\n",
    "        \n",
    "        push!(error_l1quad_test,mean([error2,error1]))\n",
    "        push!(la,l)\n",
    "        push!(model,a) \n",
    "    end\n",
    "    a=a+1     \n",
    "end"
   ]
  },
  {
   "cell_type": "code",
   "execution_count": 27,
   "metadata": {},
   "outputs": [
    {
     "data": {
      "text/plain": [
       "0.7"
      ]
     },
     "execution_count": 27,
     "metadata": {},
     "output_type": "execute_result"
    }
   ],
   "source": [
    "la[indmin(error_l1quad_test)]"
   ]
  },
  {
   "cell_type": "code",
   "execution_count": 28,
   "metadata": {},
   "outputs": [
    {
     "data": {
      "text/plain": [
       "1"
      ]
     },
     "execution_count": 28,
     "metadata": {},
     "output_type": "execute_result"
    }
   ],
   "source": [
    "model[indmin(error_l1quad_test)]"
   ]
  },
  {
   "cell_type": "code",
   "execution_count": 29,
   "metadata": {},
   "outputs": [
    {
     "data": {
      "text/plain": [
       "0.10543339987899772"
      ]
     },
     "execution_count": 29,
     "metadata": {},
     "output_type": "execute_result"
    }
   ],
   "source": [
    "mse_l1quad=minimum(error_l1quad_test)"
   ]
  },
  {
   "cell_type": "markdown",
   "metadata": {},
   "source": [
    "#### L1 Loss + Lasso regularizer"
   ]
  },
  {
   "cell_type": "code",
   "execution_count": 30,
   "metadata": {},
   "outputs": [
    {
     "name": "stderr",
     "output_type": "stream",
     "text": [
      "\u001b[1m\u001b[33mWARNING: \u001b[39m\u001b[22m\u001b[33msumabs(x) is deprecated, use sum(abs, x) instead.\u001b[39m\n",
      "Stacktrace:\n",
      " [1] \u001b[1mdepwarn\u001b[22m\u001b[22m\u001b[1m(\u001b[22m\u001b[22m::String, ::Symbol\u001b[1m)\u001b[22m\u001b[22m at \u001b[1m.\\deprecated.jl:70\u001b[22m\u001b[22m\n",
      " [2] \u001b[1msumabs\u001b[22m\u001b[22m\u001b[1m(\u001b[22m\u001b[22m::Array{Float64,1}\u001b[1m)\u001b[22m\u001b[22m at \u001b[1m.\\deprecated.jl:57\u001b[22m\u001b[22m\n",
      " [3] \u001b[1mevaluate\u001b[22m\u001b[22m at \u001b[1mC:\\Users\\dbcar\\AppData\\Local\\JuliaPro-0.6.1.1\\pkgs-0.6.1.1\\v0.6\\LowRankModels\\src\\regularizers.jl:87\u001b[22m\u001b[22m [inlined]\n",
      " [4] \u001b[1m#proxgrad_linesearch#8\u001b[22m\u001b[22m\u001b[1m(\u001b[22m\u001b[22m::Int64, ::Int64, ::Array{Float64,1}, ::LowRankModels.ConvergenceHistory, ::Function, ::LowRankModels.L1Loss, ::LowRankModels.OneReg, ::Array{Float64,2}, ::Array{Float64,1}\u001b[1m)\u001b[22m\u001b[22m at \u001b[1mC:\\Users\\dbcar\\Desktop\\MessyData Project\\proxgrad.jl:42\u001b[22m\u001b[22m\n",
      " [5] \u001b[1m(::#kw##proxgrad_linesearch)\u001b[22m\u001b[22m\u001b[1m(\u001b[22m\u001b[22m::Array{Any,1}, ::#proxgrad_linesearch, ::LowRankModels.L1Loss, ::LowRankModels.OneReg, ::Array{Float64,2}, ::Array{Float64,1}\u001b[1m)\u001b[22m\u001b[22m at \u001b[1m.\\<missing>:0\u001b[22m\u001b[22m\n",
      " [6] \u001b[1m#proxgrad#7\u001b[22m\u001b[22m\u001b[1m(\u001b[22m\u001b[22m::Array{Any,1}, ::Function, ::LowRankModels.L1Loss, ::LowRankModels.OneReg, ::Vararg{Any,N} where N\u001b[1m)\u001b[22m\u001b[22m at \u001b[1mC:\\Users\\dbcar\\Desktop\\MessyData Project\\proxgrad.jl:29\u001b[22m\u001b[22m\n",
      " [7] \u001b[1m(::#kw##proxgrad)\u001b[22m\u001b[22m\u001b[1m(\u001b[22m\u001b[22m::Array{Any,1}, ::#proxgrad, ::LowRankModels.L1Loss, ::LowRankModels.OneReg, ::Vararg{Any,N} where N\u001b[1m)\u001b[22m\u001b[22m at \u001b[1m.\\<missing>:0\u001b[22m\u001b[22m\n",
      " [8] \u001b[1mmacro expansion\u001b[22m\u001b[22m at \u001b[1m.\\In[30]:9\u001b[22m\u001b[22m [inlined]\n",
      " [9] \u001b[1manonymous\u001b[22m\u001b[22m at \u001b[1m.\\<missing>:?\u001b[22m\u001b[22m\n",
      " [10] \u001b[1minclude_string\u001b[22m\u001b[22m\u001b[1m(\u001b[22m\u001b[22m::String, ::String\u001b[1m)\u001b[22m\u001b[22m at \u001b[1m.\\loading.jl:522\u001b[22m\u001b[22m\n",
      " [11] \u001b[1minclude_string\u001b[22m\u001b[22m\u001b[1m(\u001b[22m\u001b[22m::Module, ::String, ::String\u001b[1m)\u001b[22m\u001b[22m at \u001b[1mC:\\\\\\\\\\\\\\\\\\\\\\\\\\\\\\\\\\\\\\\\\\\\\\\\\\\\\\\\\\\\\\\\\\\\\\\\\\\\\\\\\\\\\\\\\\\\\\\\\\\\\\\\\\\\\\Users\\dbcar\\AppData\\Local\\JuliaPro-0.6.1.1\\pkgs-0.6.1.1\\v0.6\\Compat\\src\\Compat.jl:464\u001b[22m\u001b[22m\n",
      " [12] \u001b[1mexecute_request\u001b[22m\u001b[22m\u001b[1m(\u001b[22m\u001b[22m::ZMQ.Socket, ::IJulia.Msg\u001b[1m)\u001b[22m\u001b[22m at \u001b[1mC:\\Users\\dbcar\\AppData\\Local\\JuliaPro-0.6.1.1\\pkgs-0.6.1.1\\v0.6\\IJulia\\src\\execute_request.jl:154\u001b[22m\u001b[22m\n",
      " [13] \u001b[1meventloop\u001b[22m\u001b[22m\u001b[1m(\u001b[22m\u001b[22m::ZMQ.Socket\u001b[1m)\u001b[22m\u001b[22m at \u001b[1mC:\\Users\\dbcar\\AppData\\Local\\JuliaPro-0.6.1.1\\pkgs-0.6.1.1\\v0.6\\IJulia\\src\\eventloop.jl:8\u001b[22m\u001b[22m\n",
      " [14] \u001b[1m(::IJulia.##14#17)\u001b[22m\u001b[22m\u001b[1m(\u001b[22m\u001b[22m\u001b[1m)\u001b[22m\u001b[22m at \u001b[1m.\\task.jl:335\u001b[22m\u001b[22m\n",
      "while loading In[30], in expression starting on line 6\n",
      "\u001b[1m\u001b[33mWARNING: \u001b[39m\u001b[22m\u001b[33mmax(x::AbstractArray{T1}, y::Real) where T1 <: Real is deprecated, use max.(x, y) instead.\u001b[39m\n",
      "Stacktrace:\n",
      " [1] \u001b[1mdepwarn\u001b[22m\u001b[22m\u001b[1m(\u001b[22m\u001b[22m::String, ::Symbol\u001b[1m)\u001b[22m\u001b[22m at \u001b[1m.\\deprecated.jl:70\u001b[22m\u001b[22m\n",
      " [2] \u001b[1mmax\u001b[22m\u001b[22m\u001b[1m(\u001b[22m\u001b[22m::Array{Float64,1}, ::Int64\u001b[1m)\u001b[22m\u001b[22m at \u001b[1m.\\deprecated.jl:57\u001b[22m\u001b[22m\n",
      " [3] \u001b[1mprox\u001b[22m\u001b[22m\u001b[1m(\u001b[22m\u001b[22m::LowRankModels.OneReg, ::Array{Float64,1}, ::Int64\u001b[1m)\u001b[22m\u001b[22m at \u001b[1mC:\\Users\\dbcar\\AppData\\Local\\JuliaPro-0.6.1.1\\pkgs-0.6.1.1\\v0.6\\LowRankModels\\src\\regularizers.jl:82\u001b[22m\u001b[22m\n",
      " [4] \u001b[1m#proxgrad_linesearch#8\u001b[22m\u001b[22m\u001b[1m(\u001b[22m\u001b[22m::Int64, ::Int64, ::Array{Float64,1}, ::LowRankModels.ConvergenceHistory, ::Function, ::LowRankModels.L1Loss, ::LowRankModels.OneReg, ::Array{Float64,2}, ::Array{Float64,1}\u001b[1m)\u001b[22m\u001b[22m at \u001b[1mC:\\Users\\dbcar\\Desktop\\MessyData Project\\proxgrad.jl:48\u001b[22m\u001b[22m\n",
      " [5] \u001b[1m(::#kw##proxgrad_linesearch)\u001b[22m\u001b[22m\u001b[1m(\u001b[22m\u001b[22m::Array{Any,1}, ::#proxgrad_linesearch, ::LowRankModels.L1Loss, ::LowRankModels.OneReg, ::Array{Float64,2}, ::Array{Float64,1}\u001b[1m)\u001b[22m\u001b[22m at \u001b[1m.\\<missing>:0\u001b[22m\u001b[22m\n",
      " [6] \u001b[1m#proxgrad#7\u001b[22m\u001b[22m\u001b[1m(\u001b[22m\u001b[22m::Array{Any,1}, ::Function, ::LowRankModels.L1Loss, ::LowRankModels.OneReg, ::Vararg{Any,N} where N\u001b[1m)\u001b[22m\u001b[22m at \u001b[1mC:\\Users\\dbcar\\Desktop\\MessyData Project\\proxgrad.jl:29\u001b[22m\u001b[22m\n",
      " [7] \u001b[1m(::#kw##proxgrad)\u001b[22m\u001b[22m\u001b[1m(\u001b[22m\u001b[22m::Array{Any,1}, ::#proxgrad, ::LowRankModels.L1Loss, ::LowRankModels.OneReg, ::Vararg{Any,N} where N\u001b[1m)\u001b[22m\u001b[22m at \u001b[1m.\\<missing>:0\u001b[22m\u001b[22m\n",
      " [8] \u001b[1mmacro expansion\u001b[22m\u001b[22m at \u001b[1m.\\In[30]:9\u001b[22m\u001b[22m [inlined]\n",
      " [9] \u001b[1manonymous\u001b[22m\u001b[22m at \u001b[1m.\\<missing>:?\u001b[22m\u001b[22m\n",
      " [10] \u001b[1minclude_string\u001b[22m\u001b[22m\u001b[1m(\u001b[22m\u001b[22m::String, ::String\u001b[1m)\u001b[22m\u001b[22m at \u001b[1m.\\loading.jl:522\u001b[22m\u001b[22m\n",
      " [11] \u001b[1minclude_string\u001b[22m\u001b[22m\u001b[1m(\u001b[22m\u001b[22m::Module, ::String, ::String\u001b[1m)\u001b[22m\u001b[22m at \u001b[1mC:\\\\\\\\\\\\\\\\\\\\\\\\\\\\\\\\\\\\\\\\\\\\\\\\\\\\\\\\\\\\\\\\\\\\\\\\\\\\\\\\\\\\\\\\\\\\\\\\\\\\\\\\\\\\\\Users\\dbcar\\AppData\\Local\\JuliaPro-0.6.1.1\\pkgs-0.6.1.1\\v0.6\\Compat\\src\\Compat.jl:464\u001b[22m\u001b[22m\n",
      " [12] \u001b[1mexecute_request\u001b[22m\u001b[22m\u001b[1m(\u001b[22m\u001b[22m::ZMQ.Socket, ::IJulia.Msg\u001b[1m)\u001b[22m\u001b[22m at \u001b[1mC:\\Users\\dbcar\\AppData\\Local\\JuliaPro-0.6.1.1\\pkgs-0.6.1.1\\v0.6\\IJulia\\src\\execute_request.jl:154\u001b[22m\u001b[22m\n",
      " [13] \u001b[1meventloop\u001b[22m\u001b[22m\u001b[1m(\u001b[22m\u001b[22m::ZMQ.Socket\u001b[1m)\u001b[22m\u001b[22m at \u001b[1mC:\\Users\\dbcar\\AppData\\Local\\JuliaPro-0.6.1.1\\pkgs-0.6.1.1\\v0.6\\IJulia\\src\\eventloop.jl:8\u001b[22m\u001b[22m\n",
      " [14] \u001b[1m(::IJulia.##14#17)\u001b[22m\u001b[22m\u001b[1m(\u001b[22m\u001b[22m\u001b[1m)\u001b[22m\u001b[22m at \u001b[1m.\\task.jl:335\u001b[22m\u001b[22m\n",
      "while loading In[30], in expression starting on line 6\n"
     ]
    }
   ],
   "source": [
    "a=1\n",
    "error_l1lasso_test=[]\n",
    "model=[]\n",
    "la=[]\n",
    "\n",
    "for x in X_comb\n",
    "    for l in 0.1:0.2:5\n",
    "        #Fitting the model\n",
    "        w1 = proxgrad(1/n*L1Loss(), OneReg(l), x, y,maxiters=5000)\n",
    "        error1=sum((y2.-X_comb2[a]*w1).^2)/length(y2)\n",
    "        w2 = proxgrad(1/n2*L1Loss(), OneReg(l), X_comb2[a], y2,maxiters=5000)\n",
    "        error2=sum((y.-x*w2).^2)/length(y)\n",
    "                \n",
    "        push!(error_l1lasso_test,mean([error2,error1]))\n",
    "        push!(la,l)\n",
    "        push!(model,a) \n",
    "    end\n",
    "    a=a+1      \n",
    "end"
   ]
  },
  {
   "cell_type": "code",
   "execution_count": 31,
   "metadata": {},
   "outputs": [
    {
     "data": {
      "text/plain": [
       "0.3"
      ]
     },
     "execution_count": 31,
     "metadata": {},
     "output_type": "execute_result"
    }
   ],
   "source": [
    "la[indmin(error_l1lasso_test)]"
   ]
  },
  {
   "cell_type": "code",
   "execution_count": 32,
   "metadata": {},
   "outputs": [
    {
     "data": {
      "text/plain": [
       "1"
      ]
     },
     "execution_count": 32,
     "metadata": {},
     "output_type": "execute_result"
    }
   ],
   "source": [
    "model[indmin(error_l1lasso_test)]"
   ]
  },
  {
   "cell_type": "code",
   "execution_count": 33,
   "metadata": {},
   "outputs": [
    {
     "data": {
      "text/plain": [
       "0.10422439220530469"
      ]
     },
     "execution_count": 33,
     "metadata": {},
     "output_type": "execute_result"
    }
   ],
   "source": [
    "mse_l1lasso=minimum(error_l1lasso_test)"
   ]
  },
  {
   "cell_type": "code",
   "execution_count": 34,
   "metadata": {},
   "outputs": [
    {
     "data": {
      "text/plain": [
       "2"
      ]
     },
     "execution_count": 34,
     "metadata": {},
     "output_type": "execute_result"
    }
   ],
   "source": [
    "indmin(error_l1lasso_test)"
   ]
  },
  {
   "cell_type": "markdown",
   "metadata": {},
   "source": [
    "### Summary"
   ]
  },
  {
   "cell_type": "code",
   "execution_count": 35,
   "metadata": {},
   "outputs": [
    {
     "name": "stdout",
     "output_type": "stream",
     "text": [
      "Baseline 1.0185706977497329 Quadratic 0.1075925210262117  L1 0.10537781306483585  Quadratic + QuadReg 0.1038332672607287  Quadratic + Lasso 0.10025642989222117  L1 + QuadReg 0.10543339987899772  L1 + Lasso 0.10422439220530469"
     ]
    }
   ],
   "source": [
    "#Training error\n",
    "print(\"Baseline \", mse_base,\" Quadratic \", mse_quad, \"  L1 \", mse_l1loss, \"  Quadratic + QuadReg \", mse_ridge, \n",
    "      \"  Quadratic + Lasso \", mse_lasso, \"  L1 + QuadReg \", mse_l1quad, \"  L1 + Lasso \", mse_l1lasso)"
   ]
  },
  {
   "cell_type": "code",
   "execution_count": null,
   "metadata": {},
   "outputs": [],
   "source": []
  },
  {
   "cell_type": "code",
   "execution_count": null,
   "metadata": {},
   "outputs": [],
   "source": []
  },
  {
   "cell_type": "code",
   "execution_count": null,
   "metadata": {},
   "outputs": [],
   "source": []
  },
  {
   "cell_type": "code",
   "execution_count": null,
   "metadata": {},
   "outputs": [],
   "source": []
  },
  {
   "cell_type": "code",
   "execution_count": null,
   "metadata": {},
   "outputs": [],
   "source": []
  },
  {
   "cell_type": "code",
   "execution_count": null,
   "metadata": {},
   "outputs": [],
   "source": []
  },
  {
   "cell_type": "code",
   "execution_count": null,
   "metadata": {},
   "outputs": [],
   "source": []
  }
 ],
 "metadata": {
  "kernelspec": {
   "display_name": "Julia 0.6.1",
   "language": "julia",
   "name": "julia-0.6"
  },
  "language_info": {
   "file_extension": ".jl",
   "mimetype": "application/julia",
   "name": "julia",
   "version": "0.6.1"
  }
 },
 "nbformat": 4,
 "nbformat_minor": 2
}
